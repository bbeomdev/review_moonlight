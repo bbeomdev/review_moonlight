{
 "cells": [
  {
   "cell_type": "code",
   "execution_count": 1,
   "metadata": {
    "id": "G-i7tu_EaXdx"
   },
   "outputs": [],
   "source": [
    "import tensorflow as tf\n",
    "import tensorflow_datasets as tfds\n",
    "import os\n",
    "import re\n",
    "import numpy as np\n",
    "import matplotlib.pyplot as plt\n",
    "import pandas as pd"
   ]
  },
  {
   "cell_type": "code",
   "execution_count": 2,
   "metadata": {
    "id": "T_QItMa32l1x"
   },
   "outputs": [],
   "source": [
    "import tensorflow as tf\n",
    "import numpy as np\n",
    "import random\n",
    "\n",
    "SEED = 42\n",
    "\n",
    "tf.random.set_seed(SEED)\n",
    "np.random.seed(SEED)\n",
    "random.seed(SEED)"
   ]
  },
  {
   "cell_type": "markdown",
   "metadata": {
    "id": "zI32Nhu9gysM"
   },
   "source": [
    "1. encoder 제거\n",
    "2. positional embedding을 학습가능한 embedding 층으로 대체\n",
    "3. decoder block에 masked self attention만 수행\n",
    "4. 기존의 addnorm, dense 구조 유지\n",
    "5. loss 함수에서 context 부분과 padding 부분은 loss에 포함시키지 않도록 수정\n",
    "6. weight tying"
   ]
  },
  {
   "cell_type": "markdown",
   "metadata": {
    "id": "xpPgU5ISeJNe"
   },
   "source": [
    "#1.기본gpt구조"
   ]
  },
  {
   "cell_type": "markdown",
   "metadata": {
    "id": "L5rm7ve4eO4F"
   },
   "source": [
    "##1.1재료"
   ]
  },
  {
   "cell_type": "code",
   "execution_count": 3,
   "metadata": {
    "colab": {
     "base_uri": "https://localhost:8080/"
    },
    "id": "8XnxfEXYab35",
    "outputId": "87598012-128a-405b-c7a0-8f0142d5ca8c"
   },
   "outputs": [
    {
     "name": "stdout",
     "output_type": "stream",
     "text": [
      "슝=3\n"
     ]
    }
   ],
   "source": [
    "# 스케일드 닷 프로덕트 어텐션 함수\n",
    "def scaled_dot_product_attention(query, key, value, mask):\n",
    "  # 어텐션 가중치는 Q와 K의 닷 프로덕트\n",
    "  matmul_qk = tf.matmul(query, key, transpose_b=True)\n",
    "\n",
    "  # 가중치를 정규화\n",
    "  depth = tf.cast(tf.shape(key)[-1], tf.float32)\n",
    "  logits = matmul_qk / tf.math.sqrt(depth)\n",
    "\n",
    "  # 패딩에 마스크 추가\n",
    "  if mask is not None:\n",
    "    logits += (mask * -1e9)\n",
    "\n",
    "  # softmax적용\n",
    "  attention_weights = tf.nn.softmax(logits, axis=-1)\n",
    "\n",
    "  # 최종 어텐션은 가중치와 V의 닷 프로덕트\n",
    "  output = tf.matmul(attention_weights, value)\n",
    "  return output\n",
    "\n",
    "print(\"슝=3\")"
   ]
  },
  {
   "cell_type": "code",
   "execution_count": 4,
   "metadata": {
    "colab": {
     "base_uri": "https://localhost:8080/"
    },
    "id": "njdpY5iweY7W",
    "outputId": "68a2cce5-38af-4d05-d957-a3c2f39adb81"
   },
   "outputs": [
    {
     "name": "stdout",
     "output_type": "stream",
     "text": [
      "슝=3\n"
     ]
    }
   ],
   "source": [
    "class MultiHeadAttention(tf.keras.layers.Layer):\n",
    "\n",
    "  def __init__(self, d_model, num_heads, kernel_initializer='glorot_uniform', name=\"multi_head_attention\"):\n",
    "    super(MultiHeadAttention, self).__init__(name=name)\n",
    "    self.num_heads = num_heads\n",
    "    self.d_model = d_model\n",
    "    self.kernel_initializer = tf.keras.initializers.get(kernel_initializer)\n",
    "\n",
    "    assert d_model % self.num_heads == 0\n",
    "\n",
    "    self.depth = d_model // self.num_heads\n",
    "\n",
    "    self.query_dense = tf.keras.layers.Dense(units=d_model,kernel_initializer=self.kernel_initializer)\n",
    "    self.key_dense = tf.keras.layers.Dense(units=d_model,kernel_initializer=self.kernel_initializer)\n",
    "    self.value_dense = tf.keras.layers.Dense(units=d_model,kernel_initializer=self.kernel_initializer)\n",
    "\n",
    "    self.dense = tf.keras.layers.Dense(units=d_model,kernel_initializer=self.kernel_initializer)\n",
    "\n",
    "  def split_heads(self, inputs, batch_size):\n",
    "    inputs = tf.reshape(\n",
    "        inputs, shape=(batch_size, -1, self.num_heads, self.depth))\n",
    "    return tf.transpose(inputs, perm=[0, 2, 1, 3])\n",
    "\n",
    "  def call(self, inputs):\n",
    "    query, key, value, mask = inputs['query'], inputs['key'], inputs[\n",
    "        'value'], inputs['mask']\n",
    "    batch_size = tf.shape(query)[0]\n",
    "\n",
    "    # Q, K, V에 각각 Dense를 적용합니다\n",
    "    query = self.query_dense(query)\n",
    "    key = self.key_dense(key)\n",
    "    value = self.value_dense(value)\n",
    "\n",
    "    # 병렬 연산을 위한 머리를 여러 개 만듭니다\n",
    "    query = self.split_heads(query,batch_size)\n",
    "    key = self.split_heads(key,batch_size)\n",
    "    value = self.split_heads(value,batch_size)\n",
    "\n",
    "    # 스케일드 닷 프로덕트 어텐션 함수\n",
    "    scaled_attention = scaled_dot_product_attention(query, key, value, mask)\n",
    "\n",
    "    scaled_attention = tf.transpose(scaled_attention, perm=[0, 2, 1, 3])\n",
    "\n",
    "    # 어텐션 연산 후에 각 결과를 다시 연결(concatenate)합니다\n",
    "    concat_attention = tf.reshape(scaled_attention,\n",
    "                                  (batch_size, -1, self.d_model))\n",
    "\n",
    "    # 최종 결과에도 Dense를 한 번 더 적용합니다\n",
    "    outputs = self.dense(concat_attention)\n",
    "\n",
    "    return outputs\n",
    "print(\"슝=3\")"
   ]
  },
  {
   "cell_type": "code",
   "execution_count": 5,
   "metadata": {
    "colab": {
     "base_uri": "https://localhost:8080/"
    },
    "id": "KM7pVnDwedDW",
    "outputId": "b025d597-d2e5-447e-9b22-7a5103248677"
   },
   "outputs": [
    {
     "name": "stdout",
     "output_type": "stream",
     "text": [
      "슝=3\n"
     ]
    }
   ],
   "source": [
    "def create_padding_mask(x):\n",
    "  mask = tf.cast(tf.math.equal(x, 0), tf.float32)\n",
    "  # (batch_size, 1, 1, sequence length)\n",
    "  return mask[:, tf.newaxis, tf.newaxis, :]\n",
    "print(\"슝=3\")"
   ]
  },
  {
   "cell_type": "code",
   "execution_count": 6,
   "metadata": {
    "colab": {
     "base_uri": "https://localhost:8080/"
    },
    "id": "tf5ATmeVefIy",
    "outputId": "20e8f865-db10-430e-8dba-98fb250de806"
   },
   "outputs": [
    {
     "name": "stdout",
     "output_type": "stream",
     "text": [
      "슝=3\n"
     ]
    }
   ],
   "source": [
    "def create_look_ahead_mask(x):\n",
    "  seq_len = tf.shape(x)[1]\n",
    "  look_ahead_mask = 1 - tf.linalg.band_part(tf.ones((seq_len, seq_len)), -1, 0)\n",
    "  padding_mask = create_padding_mask(x)\n",
    "  return tf.maximum(look_ahead_mask, padding_mask)\n",
    "print(\"슝=3\")"
   ]
  },
  {
   "cell_type": "markdown",
   "metadata": {
    "id": "NGyNzXMFesvl"
   },
   "source": [
    "#1.2decoder-only"
   ]
  },
  {
   "cell_type": "code",
   "execution_count": 7,
   "metadata": {
    "id": "GjApZUmQf14N"
   },
   "outputs": [],
   "source": [
    "def position_gen(inputs):\n",
    "  batch_size=tf.shape(inputs)[0]\n",
    "  seq_len=tf.shape(inputs)[1]\n",
    "  positions = tf.range(start=0, limit=seq_len, delta=1)\n",
    "  positions = tf.expand_dims(positions, 0)\n",
    "  positions = tf.tile(positions, [batch_size, 1])\n",
    "  return positions"
   ]
  },
  {
   "cell_type": "code",
   "execution_count": 8,
   "metadata": {
    "colab": {
     "base_uri": "https://localhost:8080/"
    },
    "id": "vj32h05Eeo4V",
    "outputId": "f8000d41-1841-4651-cacf-fc08447e01a1"
   },
   "outputs": [
    {
     "name": "stdout",
     "output_type": "stream",
     "text": [
      "슝=3\n"
     ]
    }
   ],
   "source": [
    "# 디코더 하나의 레이어를 함수로 구현.\n",
    "# 이 하나의 레이어 안에는 세 개의 서브 레이어가 존재합니다.\n",
    "def decoder_layeraa(units, d_model, num_heads, dropout, name=\"decoder_layer\"):\n",
    "  inputs = tf.keras.Input(shape=(None, d_model), name=\"inputs\")\n",
    "  look_ahead_mask = tf.keras.Input(\n",
    "      shape=(1, None, None), name=\"look_ahead_mask\")\n",
    "\n",
    "  initializer = tf.keras.initializers.GlorotUniform(seed=42)\n",
    "\n",
    "  # 첫 번째 서브 레이어 : 멀티 헤드 어텐션 수행 (셀프 어텐션)\n",
    "  attention1 = MultiHeadAttention(\n",
    "      d_model, num_heads, kernel_initializer=initializer, name=\"attention_1\")(inputs={\n",
    "          'query': inputs,\n",
    "          'key': inputs,\n",
    "          'value': inputs,\n",
    "          'mask': look_ahead_mask\n",
    "      })\n",
    "\n",
    "  # 마스크드 멀티 헤드 어텐션의 결과는\n",
    "  # Dropout과 LayerNormalization이라는 훈련을 돕는 테크닉을 수행\n",
    "  attention1 = tf.keras.layers.Dropout(rate=dropout)(attention1)\n",
    "  attention2 = tf.keras.layers.LayerNormalization(\n",
    "      epsilon=1e-6)(attention1 + inputs)\n",
    "\n",
    "  # 세 번째 서브 레이어 : 2개의 완전연결층\n",
    "  outputs = tf.keras.layers.Dense(units=units, activation='relu',kernel_initializer=initializer)(attention2)\n",
    "  outputs = tf.keras.layers.Dense(units=d_model,kernel_initializer=initializer)(outputs)\n",
    "\n",
    "  # 완전연결층의 결과는 Dropout과 LayerNormalization 수행\n",
    "  outputs = tf.keras.layers.Dropout(rate=dropout)(outputs)\n",
    "  outputs = tf.keras.layers.LayerNormalization(\n",
    "      epsilon=1e-6)(outputs + attention2)\n",
    "\n",
    "##encoder부분 다 들어내고 decoder 흐름이 잘 연결되도록 마스크랑 구성\n",
    "\n",
    "  return tf.keras.Model(\n",
    "      inputs=[inputs, look_ahead_mask],\n",
    "      outputs=outputs,\n",
    "      name=name)\n",
    "print(\"슝=3\")"
   ]
  },
  {
   "cell_type": "code",
   "execution_count": 9,
   "metadata": {
    "colab": {
     "base_uri": "https://localhost:8080/"
    },
    "id": "xvMB0Tlter5B",
    "outputId": "d9adedce-6078-4258-f61b-767dfb583e8a"
   },
   "outputs": [
    {
     "name": "stdout",
     "output_type": "stream",
     "text": [
      "슝=3\n"
     ]
    }
   ],
   "source": [
    "def decoderaa(vocab_size,\n",
    "            num_layers,\n",
    "            units,\n",
    "            d_model,\n",
    "            num_heads,\n",
    "            dropout,\n",
    "            max_len,\n",
    "            name='decoder'):\n",
    "  inputs = tf.keras.Input(shape=(None,), name='inputs')\n",
    "  look_ahead_mask = tf.keras.Input(\n",
    "      shape=(1, None, None), name='look_ahead_mask')\n",
    "  initializer = tf.keras.initializers.GlorotUniform(seed=42)\n",
    "  # 임베딩 레이어\n",
    "  embedding_layer = tf.keras.layers.Embedding(vocab_size, d_model,embeddings_initializer=initializer)\n",
    "  embeddings=embedding_layer(inputs)\n",
    "  #embeddings *= tf.math.sqrt(tf.cast(d_model, tf.float32))\n",
    "\n",
    "  # 포지셔널 인코딩\n",
    "  positions = tf.keras.Input(shape=(None,), name='positions')\n",
    "  position_embeddings = tf.keras.layers.Embedding(max_len, d_model,embeddings_initializer=initializer)(positions)\n",
    "\n",
    "  embeddings += position_embeddings\n",
    "\n",
    "  # Dropout이라는 훈련을 돕는 테크닉을 수행\n",
    "  outputs = tf.keras.layers.Dropout(rate=dropout)(embeddings)\n",
    "\n",
    "  for i in range(num_layers):\n",
    "    outputs = decoder_layeraa(\n",
    "        units=units,\n",
    "        d_model=d_model,\n",
    "        num_heads=num_heads,\n",
    "        dropout=dropout,\n",
    "        name='decoder_layer_{}'.format(i),\n",
    "    )(inputs=[outputs, look_ahead_mask])\n",
    "\n",
    "  embedding_weights = embedding_layer.weights[0]\n",
    "  outputs = tf.keras.layers.Lambda(lambda x: tf.matmul(x[0],x[1],transpose_b=True),output_shape=(None,vocab_size))([outputs,embedding_weights])\n",
    "\n",
    "  return tf.keras.Model(\n",
    "      inputs=[inputs, positions,look_ahead_mask],\n",
    "      outputs=outputs,\n",
    "      name=name)\n",
    "print(\"슝=3\")"
   ]
  },
  {
   "cell_type": "markdown",
   "metadata": {
    "id": "w6UUx2Puh_5e"
   },
   "source": [
    "#2.데이터"
   ]
  },
  {
   "cell_type": "code",
   "execution_count": 10,
   "metadata": {
    "id": "dfCXtEXEiLRu"
   },
   "outputs": [],
   "source": [
    "data=pd.read_csv('ChatbotData.csv')"
   ]
  },
  {
   "cell_type": "code",
   "execution_count": 11,
   "metadata": {
    "colab": {
     "base_uri": "https://localhost:8080/"
    },
    "id": "43Kx77fLiPi7",
    "outputId": "81a56f1a-fdf1-4a87-90ae-15da50836254"
   },
   "outputs": [
    {
     "name": "stdout",
     "output_type": "stream",
     "text": [
      "슝=3\n"
     ]
    }
   ],
   "source": [
    "def preprocess_sentence(sentence):\n",
    "  sentence = re.sub(r\"([?!,])\", r\" \\1 \", sentence).lower()\n",
    "\n",
    "  sentence = re.sub(r'[^가-힣a-zA-Z0-9.,?!\\s]', ' ', sentence)\n",
    "  sentence = re.sub(r'\\s+', \" \", sentence)\n",
    "  sentence = re.sub(r'^\\s+|\\s+$', '', sentence)\n",
    "\n",
    "  return sentence\n",
    "print(\"슝=3\")"
   ]
  },
  {
   "cell_type": "code",
   "execution_count": 12,
   "metadata": {
    "id": "NTlcgrQpiT8f"
   },
   "outputs": [],
   "source": [
    "data['A_']=data['A'].apply(preprocess_sentence)\n",
    "data['Q_']=data['Q'].apply(preprocess_sentence)\n",
    "\n",
    "inputs=np.array(data['Q_'])\n",
    "outputs=np.array(data['A_'])"
   ]
  },
  {
   "cell_type": "code",
   "execution_count": 13,
   "metadata": {
    "colab": {
     "base_uri": "https://localhost:8080/"
    },
    "id": "49As7UEMiXtA",
    "outputId": "d7153c56-c60d-406e-d33c-8f5c4349df67"
   },
   "outputs": [
    {
     "name": "stdout",
     "output_type": "stream",
     "text": [
      "살짝 오래 걸릴 수 있어요. 스트레칭 한 번 해볼까요? 👐\n",
      "슝=3 \n"
     ]
    }
   ],
   "source": [
    "import tensorflow_datasets as tfds\n",
    "print(\"살짝 오래 걸릴 수 있어요. 스트레칭 한 번 해볼까요? 👐\")\n",
    "\n",
    "# 질문과 답변 데이터셋에 대해서 Vocabulary 생성\n",
    "tokenizer = tfds.deprecated.text.SubwordTextEncoder.build_from_corpus(inputs + outputs, target_vocab_size=2**14)\n",
    "print(\"슝=3 \")"
   ]
  },
  {
   "cell_type": "code",
   "execution_count": 14,
   "metadata": {
    "colab": {
     "base_uri": "https://localhost:8080/"
    },
    "id": "uiXii_qai3jh",
    "outputId": "99dd1e44-755d-421e-b407-2d1fd078d4e2"
   },
   "outputs": [
    {
     "name": "stdout",
     "output_type": "stream",
     "text": [
      "5.593504186754631\n"
     ]
    }
   ],
   "source": [
    "lens=[]\n",
    "for i in range(len(inputs)):\n",
    "  lens.append(len(tokenizer.encode(outputs[i])))\n",
    "\n",
    "print(np.array(lens).mean())"
   ]
  },
  {
   "cell_type": "code",
   "execution_count": 15,
   "metadata": {
    "colab": {
     "base_uri": "https://localhost:8080/",
     "height": 447
    },
    "id": "nTfXmTX8jwyz",
    "outputId": "6be9f6c4-c75a-451f-f7c5-e746b9777659"
   },
   "outputs": [
    {
     "data": {
      "text/plain": [
       "<AxesSubplot:ylabel='Density'>"
      ]
     },
     "execution_count": 15,
     "metadata": {},
     "output_type": "execute_result"
    },
    {
     "data": {
      "image/png": "[encoded data removed]",
      "text/plain": [
       "<Figure size 432x288 with 1 Axes>"
      ]
     },
     "metadata": {
      "needs_background": "light"
     },
     "output_type": "display_data"
    }
   ],
   "source": [
    "import seaborn as sns\n",
    "\n",
    "sns.kdeplot(lens)"
   ]
  },
  {
   "cell_type": "code",
   "execution_count": 16,
   "metadata": {
    "id": "J-eNoOldj5Ja"
   },
   "outputs": [],
   "source": [
    "MAX_LENGTH = 17\n",
    "VOCAB_SIZE = tokenizer.vocab_size"
   ]
  },
  {
   "cell_type": "code",
   "execution_count": 17,
   "metadata": {
    "id": "WWotY26kj8eU"
   },
   "outputs": [],
   "source": [
    "# 정수 인코딩, 최대 길이를 초과하는 샘플 제거, 패딩\n",
    "def tokenize_and_filter(inputs, outputs):\n",
    "  tokenized_inputs, tokenized_outputs = [], []\n",
    "  decoder_inputs=[]\n",
    "\n",
    "  for (sentence1, sentence2) in zip(inputs, outputs):\n",
    "    sentence1 = tokenizer.encode(sentence1)\n",
    "    sentence2 = tokenizer.encode(sentence2)\n",
    "\n",
    "    if len(sentence1) <= MAX_LENGTH and len(sentence2) <= MAX_LENGTH:\n",
    "      tokenized_inputs.append(sentence1)\n",
    "      tokenized_outputs.append(sentence2)\n",
    "\n",
    "  tokenized_inputs = tf.keras.preprocessing.sequence.pad_sequences(\n",
    "      tokenized_inputs, maxlen=MAX_LENGTH, padding='post')\n",
    "  tokenized_outputs = tf.keras.preprocessing.sequence.pad_sequences(\n",
    "      tokenized_outputs, maxlen=MAX_LENGTH, padding='post')\n",
    "\n",
    "  for (sentence1, sentence2) in zip(tokenized_inputs, tokenized_outputs):\n",
    "    combined = np.concatenate([sentence1, sentence2], axis=0)\n",
    "    decoder_inputs.append(combined)\n",
    "\n",
    "  return np.array(decoder_inputs)"
   ]
  },
  {
   "cell_type": "code",
   "execution_count": 18,
   "metadata": {
    "colab": {
     "base_uri": "https://localhost:8080/"
    },
    "id": "9OJ-3E2qj_l8",
    "outputId": "2d0717db-1887-4dc6-92dc-5156f38be074"
   },
   "outputs": [
    {
     "name": "stdout",
     "output_type": "stream",
     "text": [
      "단어장의 크기 : 10457\n",
      "필터링 후의 질문 샘플 개수: 11788\n"
     ]
    }
   ],
   "source": [
    "decoder_inputs = tokenize_and_filter(inputs, outputs)\n",
    "print('단어장의 크기 :',(VOCAB_SIZE))\n",
    "print('필터링 후의 질문 샘플 개수: {}'.format(len(decoder_inputs)))"
   ]
  },
  {
   "cell_type": "code",
   "execution_count": 29,
   "metadata": {
    "colab": {
     "base_uri": "https://localhost:8080/"
    },
    "id": "OUPw7bzskBam",
    "outputId": "06aa24a1-21c7-4c73-faa3-3df1f8fa5926"
   },
   "outputs": [
    {
     "name": "stdout",
     "output_type": "stream",
     "text": [
      "슝=3\n"
     ]
    }
   ],
   "source": [
    "BATCH_SIZE = 64\n",
    "BUFFER_SIZE = 20000\n",
    "SEED = 42\n",
    "\n",
    "\n",
    "# 디코더는 이전의 target을 다음의 input으로 사용합니다.\n",
    "# 이에 따라 outputs에서는 START_TOKEN을 제거하겠습니다.\n",
    "dataset = tf.data.Dataset.from_tensor_slices((\n",
    "    {\n",
    "        'dec_inputs': decoder_inputs[:, :-1]\n",
    "    },\n",
    "    {\n",
    "        'decoder': decoder_inputs[:, 1:]\n",
    "    },\n",
    "))\n",
    "\n",
    "total_size=len(dataset)\n",
    "\n",
    "dataset = dataset.cache()\n",
    "dataset = dataset.shuffle(BUFFER_SIZE, seed=SEED)\n",
    "\n",
    "train_size = int(0.8 * total_size)\n",
    "train_dataset = dataset.take(train_size)\n",
    "val_dataset = dataset.skip(train_size)\n",
    "\n",
    "train_dataset = train_dataset.batch(BATCH_SIZE).prefetch(tf.data.experimental.AUTOTUNE)\n",
    "val_dataset = val_dataset.batch(BATCH_SIZE).prefetch(tf.data.experimental.AUTOTUNE)\n",
    "print(\"슝=3\")"
   ]
  },
  {
   "cell_type": "markdown",
   "metadata": {
    "id": "EtHeb5NCh6h_"
   },
   "source": [
    "#3.model 구성"
   ]
  },
  {
   "cell_type": "code",
   "execution_count": 44,
   "metadata": {
    "colab": {
     "base_uri": "https://localhost:8080/"
    },
    "id": "dkVSJTerh9wu",
    "outputId": "aa1d2d3c-6900-493a-8c43-5e77f9cfd6e7"
   },
   "outputs": [
    {
     "name": "stdout",
     "output_type": "stream",
     "text": [
      "슝=3\n"
     ]
    }
   ],
   "source": [
    "def transformeraa(vocab_size,\n",
    "                num_layers,\n",
    "                units,\n",
    "                d_model,\n",
    "                num_heads,\n",
    "                dropout,\n",
    "                max_len,\n",
    "                name=\"transformer\"):\n",
    "  dec_inputs = tf.keras.Input(shape=(None,), name=\"dec_inputs\")\n",
    "\n",
    "  # 디코더에서 미래의 토큰을 마스크 하기 위해서 사용합니다.\n",
    "  # 내부적으로 패딩 마스크도 포함되어져 있습니다.\n",
    "  look_ahead_mask = tf.keras.layers.Lambda(\n",
    "      create_look_ahead_mask,\n",
    "      output_shape=(1, None, None),\n",
    "      name='look_ahead_mask')(dec_inputs)\n",
    "\n",
    "  positions=tf.keras.layers.Lambda(\n",
    "      position_gen,\n",
    "      output_shape=(None,d_model),\n",
    "      name='positions')(dec_inputs)\n",
    "\n",
    "  # 디코더\n",
    "  dec_outputs = decoderaa(\n",
    "      vocab_size=vocab_size,\n",
    "      num_layers=num_layers,\n",
    "      units=units,\n",
    "      d_model=d_model,\n",
    "      num_heads=num_heads,\n",
    "      dropout=dropout,\n",
    "      max_len=max_len\n",
    "  )(inputs=[dec_inputs, positions, look_ahead_mask])\n",
    "\n",
    "  # 완전연결층\n",
    "  #outputs = tf.keras.layers.Dense(units=vocab_size, name=\"outputs\")(dec_outputs)\n",
    "\n",
    "  return tf.keras.Model(inputs=dec_inputs, outputs=dec_outputs, name=name)\n",
    "print(\"슝=3\")"
   ]
  },
  {
   "cell_type": "code",
   "execution_count": 45,
   "metadata": {
    "colab": {
     "base_uri": "https://localhost:8080/",
     "height": 340
    },
    "id": "2AQ4eUfxmV1X",
    "outputId": "fbe2724b-a572-4267-9f75-246606351c5e"
   },
   "outputs": [
    {
     "name": "stdout",
     "output_type": "stream",
     "text": [
      "WARNING:tensorflow:\n",
      "The following Variables were used a Lambda layer's call (lambda), but\n",
      "are not present in its tracked objects:\n",
      "  <tf.Variable 'embedding/embeddings:0' shape=(10457, 256) dtype=float32>\n",
      "It is possible that this is intended behavior, but it is more likely\n",
      "an omission. This is a strong indication that this layer should be\n",
      "formulated as a subclassed Layer rather than a Lambda layer.\n"
     ]
    },
    {
     "name": "stderr",
     "output_type": "stream",
     "text": [
      "WARNING:tensorflow:\n",
      "The following Variables were used a Lambda layer's call (lambda), but\n",
      "are not present in its tracked objects:\n",
      "  <tf.Variable 'embedding/embeddings:0' shape=(10457, 256) dtype=float32>\n",
      "It is possible that this is intended behavior, but it is more likely\n",
      "an omission. This is a strong indication that this layer should be\n",
      "formulated as a subclassed Layer rather than a Lambda layer.\n"
     ]
    },
    {
     "name": "stdout",
     "output_type": "stream",
     "text": [
      "Model: \"transformer\"\n",
      "__________________________________________________________________________________________________\n",
      "Layer (type)                    Output Shape         Param #     Connected to                     \n",
      "==================================================================================================\n",
      "dec_inputs (InputLayer)         [(None, None)]       0                                            \n",
      "__________________________________________________________________________________________________\n",
      "positions (Lambda)              (None, None)         0           dec_inputs[0][0]                 \n",
      "__________________________________________________________________________________________________\n",
      "look_ahead_mask (Lambda)        (None, 1, None, None 0           dec_inputs[0][0]                 \n",
      "__________________________________________________________________________________________________\n",
      "decoder (Functional)            (None, None, 10457)  4793856     dec_inputs[0][0]                 \n",
      "                                                                 positions[0][0]                  \n",
      "                                                                 look_ahead_mask[0][0]            \n",
      "==================================================================================================\n",
      "Total params: 4,793,856\n",
      "Trainable params: 4,793,856\n",
      "Non-trainable params: 0\n",
      "__________________________________________________________________________________________________\n"
     ]
    }
   ],
   "source": [
    "tf.keras.backend.clear_session()\n",
    "\n",
    "# 하이퍼파라미터\n",
    "NUM_LAYERS = 4 # 인코더와 디코더의 층의 개수\n",
    "D_MODEL = 256 # 인코더와 디코더 내부의 입, 출력의 고정 차원\n",
    "NUM_HEADS = 8 # 멀티 헤드 어텐션에서의 헤드 수\n",
    "UNITS = 512 # 피드 포워드 신경망의 은닉층의 크기\n",
    "DROPOUT = 0.2 # 드롭아웃의 비율\n",
    "\n",
    "model = transformeraa(\n",
    "    vocab_size=VOCAB_SIZE,\n",
    "    num_layers=NUM_LAYERS,\n",
    "    units=UNITS,\n",
    "    d_model=D_MODEL,\n",
    "    num_heads=NUM_HEADS,\n",
    "    dropout=DROPOUT,\n",
    "    max_len=MAX_LENGTH*2-1)\n",
    "\n",
    "model.summary()"
   ]
  },
  {
   "cell_type": "markdown",
   "metadata": {
    "id": "TSIitn2zspJR"
   },
   "source": [
    "#4.train"
   ]
  },
  {
   "cell_type": "code",
   "execution_count": 46,
   "metadata": {
    "colab": {
     "base_uri": "https://localhost:8080/"
    },
    "id": "eDmm1frJsoVy",
    "outputId": "2306b2b1-078b-42a4-efcd-f61741acc208"
   },
   "outputs": [
    {
     "name": "stdout",
     "output_type": "stream",
     "text": [
      "슝=3\n"
     ]
    }
   ],
   "source": [
    "def loss_function(y_true, y_pred):\n",
    "  y_true = tf.reshape(y_true, shape=(-1, MAX_LENGTH*2 - 1))\n",
    "\n",
    "  loss = tf.keras.losses.SparseCategoricalCrossentropy(\n",
    "      from_logits=True, reduction='none')(y_true, y_pred)\n",
    "  front_mask = tf.concat([\n",
    "      tf.zeros((tf.shape(y_true)[0], 16)),\n",
    "      tf.ones((tf.shape(y_true)[0], tf.shape(y_true)[1] - 16))\n",
    "  ], axis=1)\n",
    "\n",
    "  mask = tf.cast(tf.not_equal(y_true, 0), tf.float32)\n",
    "  final_mask = mask * front_mask\n",
    "  loss = tf.multiply(loss, final_mask)\n",
    "\n",
    "  return tf.reduce_mean(loss)\n",
    "print(\"슝=3\")"
   ]
  },
  {
   "cell_type": "code",
   "execution_count": 47,
   "metadata": {
    "colab": {
     "base_uri": "https://localhost:8080/"
    },
    "id": "4c86tBABssST",
    "outputId": "6a12e67e-9723-4ba9-90df-b98cdebae790"
   },
   "outputs": [
    {
     "name": "stdout",
     "output_type": "stream",
     "text": [
      "슝=3\n"
     ]
    }
   ],
   "source": [
    "class CustomSchedule(tf.keras.optimizers.schedules.LearningRateSchedule):\n",
    "\n",
    "  def __init__(self, d_model, warmup_steps=4000):\n",
    "    super(CustomSchedule, self).__init__()\n",
    "\n",
    "    self.d_model = d_model\n",
    "    self.d_model = tf.cast(self.d_model, tf.float32)\n",
    "\n",
    "    self.warmup_steps = warmup_steps\n",
    "\n",
    "  def __call__(self, step):\n",
    "    arg1 = tf.math.rsqrt(step)\n",
    "    arg2 = step * (self.warmup_steps**-1.5)\n",
    "\n",
    "    return tf.math.rsqrt(self.d_model) * tf.math.minimum(arg1, arg2)\n",
    "print(\"슝=3\")"
   ]
  },
  {
   "cell_type": "code",
   "execution_count": 49,
   "metadata": {
    "id": "M-vrwTU9suVp"
   },
   "outputs": [],
   "source": [
    "from tensorflow.keras.callbacks import EarlyStopping\n",
    "\n",
    "early_stop = EarlyStopping(\n",
    "    monitor='val_loss',\n",
    "    patience=5,\n",
    "    restore_best_weights=True\n",
    ")"
   ]
  },
  {
   "cell_type": "code",
   "execution_count": 50,
   "metadata": {
    "colab": {
     "base_uri": "https://localhost:8080/"
    },
    "id": "rUgV5g9Rswmp",
    "outputId": "041b3307-a960-463c-e090-27bfc87b704c"
   },
   "outputs": [
    {
     "name": "stdout",
     "output_type": "stream",
     "text": [
      "슝=3\n"
     ]
    }
   ],
   "source": [
    "learning_rate = CustomSchedule(D_MODEL)\n",
    "\n",
    "optimizer = tf.keras.optimizers.Adam(\n",
    "    learning_rate, beta_1=0.9, beta_2=0.98, epsilon=1e-9)\n",
    "\n",
    "def accuracy(y_true, y_pred):\n",
    "  y_true = tf.reshape(y_true, shape=(-1, MAX_LENGTH*2 - 1))\n",
    "  return tf.keras.metrics.sparse_categorical_accuracy(y_true, y_pred)\n",
    "\n",
    "model.compile(optimizer=optimizer, loss=loss_function, metrics=[accuracy])\n",
    "print(\"슝=3\")"
   ]
  },
  {
   "cell_type": "code",
   "execution_count": 51,
   "metadata": {
    "colab": {
     "base_uri": "https://localhost:8080/",
     "height": 408
    },
    "id": "8KVLXvcYs-yQ",
    "outputId": "5d04a466-24c8-4a81-ca44-a92b693ff6d6"
   },
   "outputs": [
    {
     "name": "stdout",
     "output_type": "stream",
     "text": [
      "Epoch 1/200\n",
      "148/148 [==============================] - 15s 70ms/step - loss: 1.5053 - accuracy: 0.0202 - val_loss: 1.4292 - val_accuracy: 0.0344\n",
      "Epoch 2/200\n",
      "148/148 [==============================] - 9s 64ms/step - loss: 1.3405 - accuracy: 0.0344 - val_loss: 1.2285 - val_accuracy: 0.0342\n",
      "Epoch 3/200\n",
      "148/148 [==============================] - 10s 65ms/step - loss: 1.1950 - accuracy: 0.0346 - val_loss: 1.1523 - val_accuracy: 0.0344\n",
      "Epoch 4/200\n",
      "148/148 [==============================] - 10s 65ms/step - loss: 1.1475 - accuracy: 0.0324 - val_loss: 1.1175 - val_accuracy: 0.0296\n",
      "Epoch 5/200\n",
      "148/148 [==============================] - 10s 65ms/step - loss: 1.1237 - accuracy: 0.0299 - val_loss: 1.0959 - val_accuracy: 0.0296\n",
      "Epoch 6/200\n",
      "148/148 [==============================] - 10s 65ms/step - loss: 1.0804 - accuracy: 0.0308 - val_loss: 1.0402 - val_accuracy: 0.0324\n",
      "Epoch 7/200\n",
      "148/148 [==============================] - 10s 64ms/step - loss: 1.0472 - accuracy: 0.0328 - val_loss: 0.9963 - val_accuracy: 0.0346\n",
      "Epoch 8/200\n",
      "148/148 [==============================] - 9s 64ms/step - loss: 1.0174 - accuracy: 0.0342 - val_loss: 0.9631 - val_accuracy: 0.0359\n",
      "Epoch 9/200\n",
      "148/148 [==============================] - 9s 64ms/step - loss: 0.9940 - accuracy: 0.0356 - val_loss: 0.9374 - val_accuracy: 0.0365\n",
      "Epoch 10/200\n",
      "148/148 [==============================] - 9s 64ms/step - loss: 0.9682 - accuracy: 0.0369 - val_loss: 0.9191 - val_accuracy: 0.0386\n",
      "Epoch 11/200\n",
      "148/148 [==============================] - 10s 64ms/step - loss: 0.9423 - accuracy: 0.0384 - val_loss: 0.9010 - val_accuracy: 0.0413\n",
      "Epoch 12/200\n",
      "148/148 [==============================] - 10s 65ms/step - loss: 0.9104 - accuracy: 0.0401 - val_loss: 0.8518 - val_accuracy: 0.0431\n",
      "Epoch 13/200\n",
      "148/148 [==============================] - 10s 65ms/step - loss: 0.8836 - accuracy: 0.0416 - val_loss: 0.8068 - val_accuracy: 0.0456\n",
      "Epoch 14/200\n",
      "148/148 [==============================] - 10s 65ms/step - loss: 0.8466 - accuracy: 0.0438 - val_loss: 0.7785 - val_accuracy: 0.0474\n",
      "Epoch 15/200\n",
      "148/148 [==============================] - 10s 65ms/step - loss: 0.8164 - accuracy: 0.0458 - val_loss: 0.7293 - val_accuracy: 0.0512\n",
      "Epoch 16/200\n",
      "148/148 [==============================] - 10s 65ms/step - loss: 0.7748 - accuracy: 0.0495 - val_loss: 0.6808 - val_accuracy: 0.0575\n",
      "Epoch 17/200\n",
      "148/148 [==============================] - 10s 65ms/step - loss: 0.7328 - accuracy: 0.0532 - val_loss: 0.6319 - val_accuracy: 0.0629\n",
      "Epoch 18/200\n",
      "148/148 [==============================] - 10s 64ms/step - loss: 0.6897 - accuracy: 0.0575 - val_loss: 0.5748 - val_accuracy: 0.0694\n",
      "Epoch 19/200\n",
      "148/148 [==============================] - 9s 64ms/step - loss: 0.6437 - accuracy: 0.0622 - val_loss: 0.5334 - val_accuracy: 0.0756\n",
      "Epoch 20/200\n",
      "148/148 [==============================] - 10s 64ms/step - loss: 0.5998 - accuracy: 0.0673 - val_loss: 0.4753 - val_accuracy: 0.0825\n",
      "Epoch 21/200\n",
      "148/148 [==============================] - 10s 64ms/step - loss: 0.5576 - accuracy: 0.0721 - val_loss: 0.4299 - val_accuracy: 0.0914\n",
      "Epoch 22/200\n",
      "148/148 [==============================] - 10s 64ms/step - loss: 0.5150 - accuracy: 0.0773 - val_loss: 0.3711 - val_accuracy: 0.1015\n",
      "Epoch 23/200\n",
      "148/148 [==============================] - 10s 65ms/step - loss: 0.4761 - accuracy: 0.0834 - val_loss: 0.3291 - val_accuracy: 0.1045\n",
      "Epoch 24/200\n",
      "148/148 [==============================] - 10s 65ms/step - loss: 0.4312 - accuracy: 0.0892 - val_loss: 0.2831 - val_accuracy: 0.1150\n",
      "Epoch 25/200\n",
      "148/148 [==============================] - 10s 64ms/step - loss: 0.3953 - accuracy: 0.0932 - val_loss: 0.2533 - val_accuracy: 0.1182\n",
      "Epoch 26/200\n",
      "148/148 [==============================] - 10s 64ms/step - loss: 0.3655 - accuracy: 0.0981 - val_loss: 0.2085 - val_accuracy: 0.1262\n",
      "Epoch 27/200\n",
      "148/148 [==============================] - 9s 64ms/step - loss: 0.3312 - accuracy: 0.1027 - val_loss: 0.1818 - val_accuracy: 0.1291\n",
      "Epoch 28/200\n",
      "148/148 [==============================] - 10s 64ms/step - loss: 0.3021 - accuracy: 0.1068 - val_loss: 0.1579 - val_accuracy: 0.1364\n",
      "Epoch 29/200\n",
      "148/148 [==============================] - 10s 64ms/step - loss: 0.2696 - accuracy: 0.1114 - val_loss: 0.1275 - val_accuracy: 0.1418\n",
      "Epoch 30/200\n",
      "148/148 [==============================] - 10s 65ms/step - loss: 0.2451 - accuracy: 0.1170 - val_loss: 0.1061 - val_accuracy: 0.1462\n",
      "Epoch 31/200\n",
      "148/148 [==============================] - 10s 65ms/step - loss: 0.2176 - accuracy: 0.1209 - val_loss: 0.0859 - val_accuracy: 0.1499\n",
      "Epoch 32/200\n",
      "148/148 [==============================] - 10s 65ms/step - loss: 0.1951 - accuracy: 0.1245 - val_loss: 0.0748 - val_accuracy: 0.1529\n",
      "Epoch 33/200\n",
      "148/148 [==============================] - 10s 65ms/step - loss: 0.1767 - accuracy: 0.1286 - val_loss: 0.0611 - val_accuracy: 0.1550\n",
      "Epoch 34/200\n",
      "148/148 [==============================] - 10s 64ms/step - loss: 0.1603 - accuracy: 0.1316 - val_loss: 0.0497 - val_accuracy: 0.1563\n",
      "Epoch 35/200\n",
      "148/148 [==============================] - 10s 64ms/step - loss: 0.1456 - accuracy: 0.1347 - val_loss: 0.0424 - val_accuracy: 0.1592\n",
      "Epoch 36/200\n",
      "148/148 [==============================] - 10s 64ms/step - loss: 0.1320 - accuracy: 0.1376 - val_loss: 0.0383 - val_accuracy: 0.1601\n",
      "Epoch 37/200\n",
      "148/148 [==============================] - 10s 65ms/step - loss: 0.1208 - accuracy: 0.1395 - val_loss: 0.0314 - val_accuracy: 0.1642\n",
      "Epoch 38/200\n",
      "148/148 [==============================] - 10s 65ms/step - loss: 0.1114 - accuracy: 0.1419 - val_loss: 0.0263 - val_accuracy: 0.1633\n",
      "Epoch 39/200\n",
      "148/148 [==============================] - 10s 65ms/step - loss: 0.1034 - accuracy: 0.1440 - val_loss: 0.0236 - val_accuracy: 0.1649\n",
      "Epoch 40/200\n",
      "148/148 [==============================] - 10s 65ms/step - loss: 0.0967 - accuracy: 0.1453 - val_loss: 0.0209 - val_accuracy: 0.1645\n",
      "Epoch 41/200\n",
      "148/148 [==============================] - 10s 65ms/step - loss: 0.0908 - accuracy: 0.1466 - val_loss: 0.0182 - val_accuracy: 0.1630\n",
      "Epoch 42/200\n",
      "148/148 [==============================] - 10s 64ms/step - loss: 0.0836 - accuracy: 0.1475 - val_loss: 0.0168 - val_accuracy: 0.1641\n",
      "Epoch 43/200\n",
      "148/148 [==============================] - 10s 64ms/step - loss: 0.0788 - accuracy: 0.1494 - val_loss: 0.0157 - val_accuracy: 0.1667\n",
      "Epoch 44/200\n",
      "148/148 [==============================] - 9s 64ms/step - loss: 0.0762 - accuracy: 0.1499 - val_loss: 0.0131 - val_accuracy: 0.1665\n",
      "Epoch 45/200\n",
      "148/148 [==============================] - 10s 64ms/step - loss: 0.0709 - accuracy: 0.1511 - val_loss: 0.0115 - val_accuracy: 0.1653\n",
      "Epoch 46/200\n",
      "148/148 [==============================] - 10s 64ms/step - loss: 0.0668 - accuracy: 0.1523 - val_loss: 0.0114 - val_accuracy: 0.1671\n",
      "Epoch 47/200\n",
      "148/148 [==============================] - 10s 65ms/step - loss: 0.0641 - accuracy: 0.1529 - val_loss: 0.0102 - val_accuracy: 0.1652\n",
      "Epoch 48/200\n",
      "148/148 [==============================] - 10s 65ms/step - loss: 0.0620 - accuracy: 0.1527 - val_loss: 0.0090 - val_accuracy: 0.1655\n",
      "Epoch 49/200\n",
      "148/148 [==============================] - 10s 65ms/step - loss: 0.0592 - accuracy: 0.1542 - val_loss: 0.0086 - val_accuracy: 0.1684\n",
      "Epoch 50/200\n",
      "148/148 [==============================] - 10s 65ms/step - loss: 0.0575 - accuracy: 0.1544 - val_loss: 0.0084 - val_accuracy: 0.1678\n",
      "Epoch 51/200\n",
      "148/148 [==============================] - 10s 65ms/step - loss: 0.0536 - accuracy: 0.1560 - val_loss: 0.0072 - val_accuracy: 0.1661\n",
      "Epoch 52/200\n",
      "148/148 [==============================] - 10s 65ms/step - loss: 0.0527 - accuracy: 0.1562 - val_loss: 0.0075 - val_accuracy: 0.1667\n",
      "Epoch 53/200\n",
      "148/148 [==============================] - 9s 64ms/step - loss: 0.0509 - accuracy: 0.1555 - val_loss: 0.0065 - val_accuracy: 0.1671\n",
      "Epoch 54/200\n",
      "148/148 [==============================] - 10s 64ms/step - loss: 0.0488 - accuracy: 0.1563 - val_loss: 0.0069 - val_accuracy: 0.1673\n",
      "Epoch 55/200\n",
      "148/148 [==============================] - 10s 64ms/step - loss: 0.0457 - accuracy: 0.1574 - val_loss: 0.0064 - val_accuracy: 0.1689\n",
      "Epoch 56/200\n",
      "148/148 [==============================] - 10s 65ms/step - loss: 0.0448 - accuracy: 0.1579 - val_loss: 0.0059 - val_accuracy: 0.1681\n",
      "Epoch 57/200\n"
     ]
    },
    {
     "name": "stdout",
     "output_type": "stream",
     "text": [
      "148/148 [==============================] - 10s 65ms/step - loss: 0.0435 - accuracy: 0.1580 - val_loss: 0.0054 - val_accuracy: 0.1662\n",
      "Epoch 58/200\n",
      "148/148 [==============================] - 10s 64ms/step - loss: 0.0418 - accuracy: 0.1589 - val_loss: 0.0051 - val_accuracy: 0.1680\n",
      "Epoch 59/200\n",
      "148/148 [==============================] - 10s 64ms/step - loss: 0.0403 - accuracy: 0.1584 - val_loss: 0.0048 - val_accuracy: 0.1700\n",
      "Epoch 60/200\n",
      "148/148 [==============================] - 10s 64ms/step - loss: 0.0405 - accuracy: 0.1594 - val_loss: 0.0043 - val_accuracy: 0.1682\n",
      "Epoch 61/200\n",
      "148/148 [==============================] - 9s 64ms/step - loss: 0.0368 - accuracy: 0.1599 - val_loss: 0.0038 - val_accuracy: 0.1707\n",
      "Epoch 62/200\n",
      "148/148 [==============================] - 10s 64ms/step - loss: 0.0374 - accuracy: 0.1594 - val_loss: 0.0042 - val_accuracy: 0.1666\n",
      "Epoch 63/200\n",
      "148/148 [==============================] - 10s 65ms/step - loss: 0.0362 - accuracy: 0.1598 - val_loss: 0.0036 - val_accuracy: 0.1693\n",
      "Epoch 64/200\n",
      "148/148 [==============================] - 10s 64ms/step - loss: 0.0352 - accuracy: 0.1595 - val_loss: 0.0041 - val_accuracy: 0.1687\n",
      "Epoch 65/200\n",
      "148/148 [==============================] - 10s 65ms/step - loss: 0.0340 - accuracy: 0.1595 - val_loss: 0.0037 - val_accuracy: 0.1667\n",
      "Epoch 66/200\n",
      "148/148 [==============================] - 10s 65ms/step - loss: 0.0320 - accuracy: 0.1617 - val_loss: 0.0034 - val_accuracy: 0.1696\n",
      "Epoch 67/200\n",
      "148/148 [==============================] - 10s 65ms/step - loss: 0.0324 - accuracy: 0.1609 - val_loss: 0.0038 - val_accuracy: 0.1674\n",
      "Epoch 68/200\n",
      "148/148 [==============================] - 10s 65ms/step - loss: 0.0323 - accuracy: 0.1610 - val_loss: 0.0039 - val_accuracy: 0.1667\n",
      "Epoch 69/200\n",
      "148/148 [==============================] - 10s 64ms/step - loss: 0.0303 - accuracy: 0.1611 - val_loss: 0.0038 - val_accuracy: 0.1681\n",
      "Epoch 70/200\n",
      "148/148 [==============================] - 10s 64ms/step - loss: 0.0315 - accuracy: 0.1611 - val_loss: 0.0034 - val_accuracy: 0.1684\n",
      "Epoch 71/200\n",
      "148/148 [==============================] - 10s 65ms/step - loss: 0.0291 - accuracy: 0.1614 - val_loss: 0.0024 - val_accuracy: 0.1691\n",
      "Epoch 72/200\n",
      "148/148 [==============================] - 10s 65ms/step - loss: 0.0284 - accuracy: 0.1625 - val_loss: 0.0030 - val_accuracy: 0.1678\n",
      "Epoch 73/200\n",
      "148/148 [==============================] - 10s 65ms/step - loss: 0.0283 - accuracy: 0.1614 - val_loss: 0.0031 - val_accuracy: 0.1674\n",
      "Epoch 74/200\n",
      "148/148 [==============================] - 10s 65ms/step - loss: 0.0279 - accuracy: 0.1620 - val_loss: 0.0032 - val_accuracy: 0.1690\n",
      "Epoch 75/200\n",
      "148/148 [==============================] - 10s 65ms/step - loss: 0.0262 - accuracy: 0.1633 - val_loss: 0.0025 - val_accuracy: 0.1700\n",
      "Epoch 76/200\n",
      "148/148 [==============================] - 10s 65ms/step - loss: 0.0262 - accuracy: 0.1627 - val_loss: 0.0023 - val_accuracy: 0.1687\n",
      "Epoch 77/200\n",
      "148/148 [==============================] - 10s 65ms/step - loss: 0.0250 - accuracy: 0.1631 - val_loss: 0.0022 - val_accuracy: 0.1697\n",
      "Epoch 78/200\n",
      "148/148 [==============================] - 9s 64ms/step - loss: 0.0255 - accuracy: 0.1629 - val_loss: 0.0027 - val_accuracy: 0.1682\n",
      "Epoch 79/200\n",
      "148/148 [==============================] - 10s 64ms/step - loss: 0.0238 - accuracy: 0.1631 - val_loss: 0.0025 - val_accuracy: 0.1676\n",
      "Epoch 80/200\n",
      "148/148 [==============================] - 10s 64ms/step - loss: 0.0241 - accuracy: 0.1627 - val_loss: 0.0030 - val_accuracy: 0.1690\n",
      "Epoch 81/200\n",
      "148/148 [==============================] - 10s 65ms/step - loss: 0.0245 - accuracy: 0.1627 - val_loss: 0.0022 - val_accuracy: 0.1678\n",
      "Epoch 82/200\n",
      "148/148 [==============================] - 10s 64ms/step - loss: 0.0237 - accuracy: 0.1634 - val_loss: 0.0022 - val_accuracy: 0.1712\n",
      "Epoch 83/200\n",
      "148/148 [==============================] - 10s 64ms/step - loss: 0.0228 - accuracy: 0.1635 - val_loss: 0.0023 - val_accuracy: 0.1676\n",
      "Epoch 84/200\n",
      "148/148 [==============================] - 10s 64ms/step - loss: 0.0228 - accuracy: 0.1632 - val_loss: 0.0032 - val_accuracy: 0.1687\n",
      "Epoch 85/200\n",
      "148/148 [==============================] - 10s 65ms/step - loss: 0.0222 - accuracy: 0.1635 - val_loss: 0.0023 - val_accuracy: 0.1677\n",
      "Epoch 86/200\n",
      "148/148 [==============================] - 10s 65ms/step - loss: 0.0215 - accuracy: 0.1635 - val_loss: 0.0020 - val_accuracy: 0.1666\n",
      "Epoch 87/200\n",
      "148/148 [==============================] - 10s 65ms/step - loss: 0.0213 - accuracy: 0.1639 - val_loss: 0.0020 - val_accuracy: 0.1679\n",
      "Epoch 88/200\n",
      "148/148 [==============================] - 10s 66ms/step - loss: 0.0205 - accuracy: 0.1639 - val_loss: 0.0026 - val_accuracy: 0.1664\n",
      "Epoch 89/200\n",
      "148/148 [==============================] - 10s 65ms/step - loss: 0.0208 - accuracy: 0.1637 - val_loss: 0.0023 - val_accuracy: 0.1684\n",
      "Epoch 90/200\n",
      "148/148 [==============================] - 10s 65ms/step - loss: 0.0213 - accuracy: 0.1640 - val_loss: 0.0014 - val_accuracy: 0.1700\n",
      "Epoch 91/200\n",
      "148/148 [==============================] - 10s 65ms/step - loss: 0.0207 - accuracy: 0.1642 - val_loss: 0.0026 - val_accuracy: 0.1683\n",
      "Epoch 92/200\n",
      "148/148 [==============================] - 10s 65ms/step - loss: 0.0195 - accuracy: 0.1643 - val_loss: 0.0023 - val_accuracy: 0.1672\n",
      "Epoch 93/200\n",
      "148/148 [==============================] - 10s 65ms/step - loss: 0.0197 - accuracy: 0.1642 - val_loss: 0.0018 - val_accuracy: 0.1681\n",
      "Epoch 94/200\n",
      "148/148 [==============================] - 10s 65ms/step - loss: 0.0192 - accuracy: 0.1642 - val_loss: 0.0028 - val_accuracy: 0.1695\n",
      "Epoch 95/200\n",
      "148/148 [==============================] - 10s 64ms/step - loss: 0.0190 - accuracy: 0.1646 - val_loss: 0.0020 - val_accuracy: 0.1684\n",
      "Epoch 96/200\n",
      "148/148 [==============================] - 10s 65ms/step - loss: 0.0179 - accuracy: 0.1642 - val_loss: 0.0020 - val_accuracy: 0.1670\n",
      "Epoch 97/200\n",
      "148/148 [==============================] - 10s 65ms/step - loss: 0.0183 - accuracy: 0.1651 - val_loss: 0.0020 - val_accuracy: 0.1686\n",
      "Epoch 98/200\n",
      "148/148 [==============================] - 10s 65ms/step - loss: 0.0178 - accuracy: 0.1644 - val_loss: 0.0018 - val_accuracy: 0.1699\n",
      "Epoch 99/200\n",
      "148/148 [==============================] - 10s 65ms/step - loss: 0.0177 - accuracy: 0.1652 - val_loss: 0.0020 - val_accuracy: 0.1707\n",
      "Epoch 100/200\n",
      "148/148 [==============================] - 10s 65ms/step - loss: 0.0176 - accuracy: 0.1649 - val_loss: 0.0022 - val_accuracy: 0.1674\n",
      "Epoch 101/200\n",
      "148/148 [==============================] - 10s 65ms/step - loss: 0.0169 - accuracy: 0.1650 - val_loss: 0.0020 - val_accuracy: 0.1689\n",
      "Epoch 102/200\n",
      "148/148 [==============================] - 10s 65ms/step - loss: 0.0171 - accuracy: 0.1652 - val_loss: 0.0013 - val_accuracy: 0.1681\n",
      "Epoch 103/200\n",
      "148/148 [==============================] - 10s 65ms/step - loss: 0.0174 - accuracy: 0.1646 - val_loss: 0.0017 - val_accuracy: 0.1695\n",
      "Epoch 104/200\n",
      "148/148 [==============================] - 10s 65ms/step - loss: 0.0161 - accuracy: 0.1653 - val_loss: 0.0017 - val_accuracy: 0.1688\n",
      "Epoch 105/200\n",
      "148/148 [==============================] - 10s 65ms/step - loss: 0.0165 - accuracy: 0.1654 - val_loss: 0.0013 - val_accuracy: 0.1693\n",
      "Epoch 106/200\n",
      "148/148 [==============================] - 10s 65ms/step - loss: 0.0161 - accuracy: 0.1659 - val_loss: 0.0014 - val_accuracy: 0.1695\n",
      "Epoch 107/200\n",
      "148/148 [==============================] - 10s 65ms/step - loss: 0.0162 - accuracy: 0.1650 - val_loss: 0.0025 - val_accuracy: 0.1696\n",
      "Epoch 108/200\n",
      "148/148 [==============================] - 10s 65ms/step - loss: 0.0158 - accuracy: 0.1657 - val_loss: 0.0011 - val_accuracy: 0.1687\n",
      "Epoch 109/200\n",
      "148/148 [==============================] - 10s 65ms/step - loss: 0.0161 - accuracy: 0.1660 - val_loss: 0.0016 - val_accuracy: 0.1682\n",
      "Epoch 110/200\n",
      "148/148 [==============================] - 10s 64ms/step - loss: 0.0161 - accuracy: 0.1657 - val_loss: 0.0012 - val_accuracy: 0.1689\n",
      "Epoch 111/200\n",
      "148/148 [==============================] - 10s 64ms/step - loss: 0.0150 - accuracy: 0.1657 - val_loss: 0.0020 - val_accuracy: 0.1692\n",
      "Epoch 112/200\n",
      "148/148 [==============================] - 10s 64ms/step - loss: 0.0152 - accuracy: 0.1654 - val_loss: 0.0017 - val_accuracy: 0.1702\n",
      "Epoch 113/200\n"
     ]
    },
    {
     "name": "stdout",
     "output_type": "stream",
     "text": [
      "148/148 [==============================] - 10s 64ms/step - loss: 0.0149 - accuracy: 0.1654 - val_loss: 0.0016 - val_accuracy: 0.1695\n",
      "Epoch 114/200\n",
      "148/148 [==============================] - 10s 65ms/step - loss: 0.0144 - accuracy: 0.1663 - val_loss: 0.0017 - val_accuracy: 0.1694\n",
      "Epoch 115/200\n",
      "148/148 [==============================] - 10s 65ms/step - loss: 0.0144 - accuracy: 0.1660 - val_loss: 0.0014 - val_accuracy: 0.1707\n",
      "Epoch 116/200\n",
      "148/148 [==============================] - 10s 65ms/step - loss: 0.0142 - accuracy: 0.1659 - val_loss: 0.0019 - val_accuracy: 0.1687\n",
      "Epoch 117/200\n",
      "148/148 [==============================] - 10s 65ms/step - loss: 0.0144 - accuracy: 0.1658 - val_loss: 0.0013 - val_accuracy: 0.1698\n",
      "Epoch 118/200\n",
      "148/148 [==============================] - 10s 65ms/step - loss: 0.0139 - accuracy: 0.1665 - val_loss: 0.0016 - val_accuracy: 0.1684\n",
      "Epoch 119/200\n",
      "148/148 [==============================] - 10s 65ms/step - loss: 0.0141 - accuracy: 0.1652 - val_loss: 0.0016 - val_accuracy: 0.1716\n",
      "Epoch 120/200\n",
      "148/148 [==============================] - 10s 64ms/step - loss: 0.0142 - accuracy: 0.1653 - val_loss: 0.0016 - val_accuracy: 0.1715\n",
      "Epoch 121/200\n",
      "148/148 [==============================] - 10s 65ms/step - loss: 0.0142 - accuracy: 0.1666 - val_loss: 0.0020 - val_accuracy: 0.1674\n",
      "Epoch 122/200\n",
      "148/148 [==============================] - 10s 65ms/step - loss: 0.0133 - accuracy: 0.1666 - val_loss: 0.0013 - val_accuracy: 0.1692\n",
      "Epoch 123/200\n",
      "148/148 [==============================] - 10s 65ms/step - loss: 0.0137 - accuracy: 0.1660 - val_loss: 0.0015 - val_accuracy: 0.1689\n",
      "Epoch 124/200\n",
      "148/148 [==============================] - 10s 65ms/step - loss: 0.0132 - accuracy: 0.1665 - val_loss: 0.0012 - val_accuracy: 0.1711\n",
      "Epoch 125/200\n",
      "148/148 [==============================] - 10s 64ms/step - loss: 0.0133 - accuracy: 0.1663 - val_loss: 0.0014 - val_accuracy: 0.1700\n",
      "Epoch 126/200\n",
      "148/148 [==============================] - 10s 65ms/step - loss: 0.0127 - accuracy: 0.1660 - val_loss: 0.0019 - val_accuracy: 0.1694\n",
      "Epoch 127/200\n",
      "148/148 [==============================] - 10s 65ms/step - loss: 0.0123 - accuracy: 0.1666 - val_loss: 0.0014 - val_accuracy: 0.1687\n",
      "Epoch 128/200\n",
      "148/148 [==============================] - 10s 65ms/step - loss: 0.0128 - accuracy: 0.1658 - val_loss: 0.0015 - val_accuracy: 0.1701\n",
      "Epoch 129/200\n",
      "148/148 [==============================] - 10s 64ms/step - loss: 0.0128 - accuracy: 0.1668 - val_loss: 0.0012 - val_accuracy: 0.1678\n",
      "Epoch 130/200\n",
      "148/148 [==============================] - 10s 65ms/step - loss: 0.0127 - accuracy: 0.1664 - val_loss: 0.0015 - val_accuracy: 0.1690\n",
      "Epoch 131/200\n",
      "148/148 [==============================] - 10s 65ms/step - loss: 0.0129 - accuracy: 0.1665 - val_loss: 0.0016 - val_accuracy: 0.1693\n",
      "Epoch 132/200\n",
      "148/148 [==============================] - 10s 65ms/step - loss: 0.0123 - accuracy: 0.1665 - val_loss: 0.0015 - val_accuracy: 0.1698\n",
      "Epoch 133/200\n",
      "148/148 [==============================] - 10s 65ms/step - loss: 0.0119 - accuracy: 0.1668 - val_loss: 0.0013 - val_accuracy: 0.1673\n",
      "Epoch 134/200\n",
      "148/148 [==============================] - 10s 65ms/step - loss: 0.0121 - accuracy: 0.1661 - val_loss: 0.0014 - val_accuracy: 0.1703\n",
      "Epoch 135/200\n",
      "148/148 [==============================] - 10s 64ms/step - loss: 0.0119 - accuracy: 0.1668 - val_loss: 8.8676e-04 - val_accuracy: 0.1687\n",
      "Epoch 136/200\n",
      "148/148 [==============================] - 10s 65ms/step - loss: 0.0121 - accuracy: 0.1670 - val_loss: 0.0014 - val_accuracy: 0.1687\n",
      "Epoch 137/200\n",
      "148/148 [==============================] - 10s 64ms/step - loss: 0.0116 - accuracy: 0.1669 - val_loss: 0.0016 - val_accuracy: 0.1689\n",
      "Epoch 138/200\n",
      "148/148 [==============================] - 10s 65ms/step - loss: 0.0114 - accuracy: 0.1668 - val_loss: 0.0016 - val_accuracy: 0.1699\n",
      "Epoch 139/200\n",
      "148/148 [==============================] - 10s 64ms/step - loss: 0.0114 - accuracy: 0.1670 - val_loss: 0.0018 - val_accuracy: 0.1681\n",
      "Epoch 140/200\n",
      "148/148 [==============================] - 10s 65ms/step - loss: 0.0112 - accuracy: 0.1667 - val_loss: 0.0011 - val_accuracy: 0.1701\n",
      "Epoch 141/200\n",
      "148/148 [==============================] - 10s 64ms/step - loss: 0.0108 - accuracy: 0.1673 - val_loss: 0.0017 - val_accuracy: 0.1708\n",
      "Epoch 142/200\n",
      "148/148 [==============================] - 10s 64ms/step - loss: 0.0111 - accuracy: 0.1672 - val_loss: 0.0013 - val_accuracy: 0.1733\n",
      "Epoch 143/200\n",
      "148/148 [==============================] - 10s 65ms/step - loss: 0.0111 - accuracy: 0.1669 - val_loss: 0.0015 - val_accuracy: 0.1686\n",
      "Epoch 144/200\n",
      "148/148 [==============================] - 10s 64ms/step - loss: 0.0105 - accuracy: 0.1675 - val_loss: 0.0011 - val_accuracy: 0.1694\n",
      "Epoch 145/200\n",
      "148/148 [==============================] - 10s 64ms/step - loss: 0.0112 - accuracy: 0.1671 - val_loss: 0.0015 - val_accuracy: 0.1704\n",
      "Epoch 146/200\n",
      "148/148 [==============================] - 10s 64ms/step - loss: 0.0103 - accuracy: 0.1674 - val_loss: 0.0012 - val_accuracy: 0.1700\n",
      "Epoch 147/200\n",
      "148/148 [==============================] - 10s 64ms/step - loss: 0.0110 - accuracy: 0.1672 - val_loss: 0.0012 - val_accuracy: 0.1704\n",
      "Epoch 148/200\n",
      "148/148 [==============================] - 10s 65ms/step - loss: 0.0107 - accuracy: 0.1668 - val_loss: 0.0015 - val_accuracy: 0.1699\n",
      "Epoch 149/200\n",
      "148/148 [==============================] - 10s 64ms/step - loss: 0.0099 - accuracy: 0.1671 - val_loss: 0.0025 - val_accuracy: 0.1693\n",
      "Epoch 150/200\n",
      "148/148 [==============================] - 10s 65ms/step - loss: 0.0103 - accuracy: 0.1679 - val_loss: 0.0011 - val_accuracy: 0.1685\n",
      "Epoch 151/200\n",
      "148/148 [==============================] - 10s 65ms/step - loss: 0.0101 - accuracy: 0.1672 - val_loss: 0.0012 - val_accuracy: 0.1695\n",
      "Epoch 152/200\n",
      "148/148 [==============================] - 10s 65ms/step - loss: 0.0104 - accuracy: 0.1668 - val_loss: 0.0015 - val_accuracy: 0.1686\n",
      "Epoch 153/200\n",
      "148/148 [==============================] - 10s 65ms/step - loss: 0.0103 - accuracy: 0.1662 - val_loss: 0.0011 - val_accuracy: 0.1717\n",
      "Epoch 154/200\n",
      "148/148 [==============================] - 10s 65ms/step - loss: 0.0099 - accuracy: 0.1671 - val_loss: 0.0015 - val_accuracy: 0.1690\n",
      "Epoch 155/200\n",
      "148/148 [==============================] - 10s 65ms/step - loss: 0.0102 - accuracy: 0.1677 - val_loss: 0.0011 - val_accuracy: 0.1699\n",
      "Epoch 156/200\n",
      "148/148 [==============================] - 10s 65ms/step - loss: 0.0095 - accuracy: 0.1671 - val_loss: 0.0018 - val_accuracy: 0.1705\n",
      "Epoch 157/200\n",
      "148/148 [==============================] - 10s 65ms/step - loss: 0.0098 - accuracy: 0.1672 - val_loss: 0.0014 - val_accuracy: 0.1698\n",
      "Epoch 158/200\n",
      "148/148 [==============================] - 10s 64ms/step - loss: 0.0099 - accuracy: 0.1675 - val_loss: 8.6014e-04 - val_accuracy: 0.1700\n",
      "Epoch 159/200\n",
      "148/148 [==============================] - 10s 64ms/step - loss: 0.0098 - accuracy: 0.1672 - val_loss: 0.0014 - val_accuracy: 0.1692\n",
      "Epoch 160/200\n",
      "148/148 [==============================] - 10s 64ms/step - loss: 0.0096 - accuracy: 0.1672 - val_loss: 0.0015 - val_accuracy: 0.1686\n",
      "Epoch 161/200\n",
      "148/148 [==============================] - 10s 64ms/step - loss: 0.0099 - accuracy: 0.1677 - val_loss: 0.0013 - val_accuracy: 0.1683\n",
      "Epoch 162/200\n",
      "148/148 [==============================] - 10s 64ms/step - loss: 0.0100 - accuracy: 0.1675 - val_loss: 7.1585e-04 - val_accuracy: 0.1683\n",
      "Epoch 163/200\n",
      "148/148 [==============================] - 10s 64ms/step - loss: 0.0096 - accuracy: 0.1671 - val_loss: 6.8976e-04 - val_accuracy: 0.1697\n",
      "Epoch 164/200\n",
      "148/148 [==============================] - 10s 64ms/step - loss: 0.0092 - accuracy: 0.1671 - val_loss: 0.0016 - val_accuracy: 0.1703\n",
      "Epoch 165/200\n",
      "148/148 [==============================] - 10s 65ms/step - loss: 0.0100 - accuracy: 0.1675 - val_loss: 0.0012 - val_accuracy: 0.1701\n",
      "Epoch 166/200\n",
      "148/148 [==============================] - 10s 65ms/step - loss: 0.0091 - accuracy: 0.1680 - val_loss: 0.0011 - val_accuracy: 0.1681\n",
      "Epoch 167/200\n",
      "148/148 [==============================] - 10s 65ms/step - loss: 0.0090 - accuracy: 0.1678 - val_loss: 0.0012 - val_accuracy: 0.1715\n",
      "Epoch 168/200\n",
      "148/148 [==============================] - 10s 65ms/step - loss: 0.0087 - accuracy: 0.1687 - val_loss: 0.0015 - val_accuracy: 0.1683\n"
     ]
    },
    {
     "name": "stdout",
     "output_type": "stream",
     "text": [
      "Epoch 169/200\n",
      "148/148 [==============================] - 10s 65ms/step - loss: 0.0093 - accuracy: 0.1671 - val_loss: 0.0013 - val_accuracy: 0.1696\n",
      "Epoch 170/200\n",
      "148/148 [==============================] - 10s 65ms/step - loss: 0.0094 - accuracy: 0.1683 - val_loss: 0.0015 - val_accuracy: 0.1687\n",
      "Epoch 171/200\n",
      "148/148 [==============================] - 9s 64ms/step - loss: 0.0090 - accuracy: 0.1678 - val_loss: 0.0012 - val_accuracy: 0.1687\n",
      "Epoch 172/200\n",
      "148/148 [==============================] - 10s 65ms/step - loss: 0.0089 - accuracy: 0.1672 - val_loss: 0.0018 - val_accuracy: 0.1669\n",
      "Epoch 173/200\n",
      "148/148 [==============================] - 10s 65ms/step - loss: 0.0091 - accuracy: 0.1674 - val_loss: 0.0012 - val_accuracy: 0.1695\n",
      "Epoch 174/200\n",
      "148/148 [==============================] - 10s 64ms/step - loss: 0.0085 - accuracy: 0.1679 - val_loss: 0.0010 - val_accuracy: 0.1693\n",
      "Epoch 175/200\n",
      "148/148 [==============================] - 10s 65ms/step - loss: 0.0083 - accuracy: 0.1678 - val_loss: 0.0015 - val_accuracy: 0.1697\n",
      "Epoch 176/200\n",
      "148/148 [==============================] - 10s 65ms/step - loss: 0.0082 - accuracy: 0.1678 - val_loss: 0.0014 - val_accuracy: 0.1691\n",
      "Epoch 177/200\n",
      "148/148 [==============================] - 10s 65ms/step - loss: 0.0084 - accuracy: 0.1682 - val_loss: 7.8510e-04 - val_accuracy: 0.1695\n",
      "Epoch 178/200\n",
      "148/148 [==============================] - 10s 65ms/step - loss: 0.0085 - accuracy: 0.1675 - val_loss: 8.8083e-04 - val_accuracy: 0.1702\n",
      "Epoch 179/200\n",
      "148/148 [==============================] - 10s 65ms/step - loss: 0.0089 - accuracy: 0.1674 - val_loss: 0.0012 - val_accuracy: 0.1672\n",
      "Epoch 180/200\n",
      "148/148 [==============================] - 10s 65ms/step - loss: 0.0084 - accuracy: 0.1682 - val_loss: 0.0011 - val_accuracy: 0.1682\n",
      "Epoch 181/200\n",
      "148/148 [==============================] - 10s 65ms/step - loss: 0.0086 - accuracy: 0.1671 - val_loss: 0.0012 - val_accuracy: 0.1709\n",
      "Epoch 182/200\n",
      "148/148 [==============================] - 10s 65ms/step - loss: 0.0086 - accuracy: 0.1678 - val_loss: 0.0013 - val_accuracy: 0.1713\n",
      "Epoch 183/200\n",
      "148/148 [==============================] - 10s 65ms/step - loss: 0.0082 - accuracy: 0.1679 - val_loss: 0.0012 - val_accuracy: 0.1686\n",
      "Epoch 184/200\n",
      "148/148 [==============================] - 10s 65ms/step - loss: 0.0080 - accuracy: 0.1680 - val_loss: 0.0015 - val_accuracy: 0.1696\n",
      "Epoch 185/200\n",
      "148/148 [==============================] - 10s 65ms/step - loss: 0.0081 - accuracy: 0.1682 - val_loss: 0.0015 - val_accuracy: 0.1703\n",
      "Epoch 186/200\n",
      "148/148 [==============================] - 10s 65ms/step - loss: 0.0082 - accuracy: 0.1679 - val_loss: 0.0012 - val_accuracy: 0.1692\n",
      "Epoch 187/200\n",
      "148/148 [==============================] - 10s 65ms/step - loss: 0.0076 - accuracy: 0.1690 - val_loss: 0.0016 - val_accuracy: 0.1672\n",
      "Epoch 188/200\n",
      "148/148 [==============================] - 10s 65ms/step - loss: 0.0080 - accuracy: 0.1684 - val_loss: 0.0011 - val_accuracy: 0.1678\n",
      "Epoch 189/200\n",
      "148/148 [==============================] - 10s 65ms/step - loss: 0.0076 - accuracy: 0.1683 - val_loss: 0.0014 - val_accuracy: 0.1692\n",
      "Epoch 190/200\n",
      "148/148 [==============================] - 10s 65ms/step - loss: 0.0081 - accuracy: 0.1673 - val_loss: 0.0014 - val_accuracy: 0.1699\n",
      "Epoch 191/200\n",
      "148/148 [==============================] - 10s 65ms/step - loss: 0.0081 - accuracy: 0.1685 - val_loss: 9.7685e-04 - val_accuracy: 0.1705\n",
      "Epoch 192/200\n",
      "148/148 [==============================] - 10s 65ms/step - loss: 0.0075 - accuracy: 0.1686 - val_loss: 0.0011 - val_accuracy: 0.1684\n",
      "Epoch 193/200\n",
      "148/148 [==============================] - 10s 65ms/step - loss: 0.0085 - accuracy: 0.1684 - val_loss: 0.0014 - val_accuracy: 0.1698\n",
      "Epoch 194/200\n",
      "148/148 [==============================] - 10s 65ms/step - loss: 0.0078 - accuracy: 0.1682 - val_loss: 0.0012 - val_accuracy: 0.1683\n",
      "Epoch 195/200\n",
      "148/148 [==============================] - 10s 65ms/step - loss: 0.0078 - accuracy: 0.1690 - val_loss: 9.9107e-04 - val_accuracy: 0.1708\n",
      "Epoch 196/200\n",
      "148/148 [==============================] - 10s 64ms/step - loss: 0.0079 - accuracy: 0.1680 - val_loss: 0.0012 - val_accuracy: 0.1708\n",
      "Epoch 197/200\n",
      "148/148 [==============================] - 10s 64ms/step - loss: 0.0073 - accuracy: 0.1684 - val_loss: 0.0012 - val_accuracy: 0.1710\n",
      "Epoch 198/200\n",
      "148/148 [==============================] - 10s 65ms/step - loss: 0.0081 - accuracy: 0.1685 - val_loss: 0.0010 - val_accuracy: 0.1704\n",
      "Epoch 199/200\n",
      "148/148 [==============================] - 10s 64ms/step - loss: 0.0071 - accuracy: 0.1686 - val_loss: 9.1999e-04 - val_accuracy: 0.1710\n",
      "Epoch 200/200\n",
      "148/148 [==============================] - 10s 65ms/step - loss: 0.0075 - accuracy: 0.1693 - val_loss: 0.0015 - val_accuracy: 0.1694\n"
     ]
    }
   ],
   "source": [
    "EPOCHS = 200\n",
    "tf.random.set_seed(SEED)\n",
    "history=model.fit(train_dataset,validation_data=val_dataset, epochs=EPOCHS, verbose=1)"
   ]
  },
  {
   "cell_type": "code",
   "execution_count": 52,
   "metadata": {
    "id": "W0rn452ewfRC"
   },
   "outputs": [
    {
     "data": {
      "image/png": "[encoded data removed]",
      "text/plain": [
       "<Figure size 864x360 with 2 Axes>"
      ]
     },
     "metadata": {
      "needs_background": "light"
     },
     "output_type": "display_data"
    }
   ],
   "source": [
    "import matplotlib.pyplot as plt\n",
    "\n",
    "# history에서 metric 추출\n",
    "acc = history.history.get('accuracy')\n",
    "val_acc = history.history.get('val_accuracy')\n",
    "loss = history.history.get('loss')\n",
    "val_loss = history.history.get('val_loss')\n",
    "\n",
    "# plot\n",
    "plt.figure(figsize=(12, 5))\n",
    "\n",
    "# Accuracy Plot\n",
    "plt.subplot(1, 2, 1)\n",
    "plt.plot(acc, label='Train Acc')\n",
    "plt.plot(val_acc, label='Val Acc')\n",
    "plt.title('Accuracy')\n",
    "plt.xlabel('Epoch')\n",
    "plt.ylabel('Accuracy')\n",
    "plt.legend()\n",
    "\n",
    "# Loss Plot\n",
    "plt.subplot(1, 2, 2)\n",
    "plt.plot(loss, label='Train Loss')\n",
    "plt.plot(val_loss, label='Val Loss')\n",
    "plt.title('Loss')\n",
    "plt.xlabel('Epoch')\n",
    "plt.ylabel('Loss')\n",
    "plt.legend()\n",
    "\n",
    "plt.tight_layout()\n",
    "plt.show()"
   ]
  },
  {
   "cell_type": "markdown",
   "metadata": {
    "id": "Zf6BE7vJwf1D"
   },
   "source": [
    "#5.inference"
   ]
  },
  {
   "cell_type": "code",
   "execution_count": 76,
   "metadata": {
    "colab": {
     "base_uri": "https://localhost:8080/"
    },
    "id": "Y-UayrujwlF-",
    "outputId": "ce0682cd-e011-4e65-beb3-66e0a1f6073a"
   },
   "outputs": [
    {
     "name": "stdout",
     "output_type": "stream",
     "text": [
      "슝=3\n"
     ]
    }
   ],
   "source": [
    "def decoder_inference(sentence):\n",
    "  sentence = preprocess_sentence(sentence)\n",
    "\n",
    "  # 입력된 문장을 정수 인코딩 후, 시작 토큰과 종료 토큰을 앞뒤로 추가.\n",
    "  # ex) Where have you been? → [[8331   86   30    5 1059    7 8332]]\n",
    "\n",
    "  sentence = tf.expand_dims(tokenizer.encode(sentence),axis=0)\n",
    "  if len(sentence) <= MAX_LENGTH:\n",
    "    sentence = tf.concat([sentence, tf.zeros((1, MAX_LENGTH - len(sentence)),dtype=sentence.dtype)], axis=-1)\n",
    "  # 디코더의 현재까지의 예측한 출력 시퀀스가 지속적으로 저장되는 변수.\n",
    "  # 처음에는 예측한 내용이 없음으로 시작 토큰만 별도 저장. ex) 8331\n",
    "  output_sequence = sentence\n",
    "\n",
    "  # 디코더의 인퍼런스 단계\n",
    "  for i in range(MAX_LENGTH):\n",
    "    # 디코더는 최대 MAX_LENGTH의 길이만큼 다음 단어 예측을 반복합니다.\n",
    "    predictions = model(inputs=[output_sequence], training=False)\n",
    "    predictions = predictions[:, -1:, :]\n",
    "\n",
    "    # 현재 예측한 단어의 정수\n",
    "    predicted_id = tf.cast(tf.argmax(predictions, axis=-1), tf.int32)\n",
    "\n",
    "    # 만약 현재 예측한 단어가 pad 토큰이라면 for문을 종료\n",
    "    if tf.equal(predicted_id, 0):\n",
    "      break\n",
    "\n",
    "    # 예측한 단어들은 지속적으로 output_sequence에 추가됩니다.\n",
    "    # 이 output_sequence는 다시 디코더의 입력이 됩니다.\n",
    "    output_sequence = tf.concat([output_sequence, predicted_id], axis=-1)\n",
    "    \n",
    "    \n",
    "\n",
    "\n",
    "  return tf.squeeze(output_sequence, axis=0)\n",
    "print(\"슝=3\")"
   ]
  },
  {
   "cell_type": "code",
   "execution_count": 84,
   "metadata": {
    "colab": {
     "base_uri": "https://localhost:8080/"
    },
    "id": "LdfyXzf6wp70",
    "outputId": "ce068586-58fe-48f2-8d2d-5813a2999ffa"
   },
   "outputs": [
    {
     "name": "stdout",
     "output_type": "stream",
     "text": [
      "슝=3\n"
     ]
    }
   ],
   "source": [
    "def sentence_generation(sentence):\n",
    "  # 입력 문장에 대해서 디코더를 동작 시켜 예측된 정수 시퀀스를 리턴받습니다.\n",
    "  prediction = decoder_inference(sentence)\n",
    "\n",
    "  prediction = prediction[18:]\n",
    "\n",
    "  # 정수 시퀀스를 다시 텍스트 시퀀스로 변환합니다.\n",
    "  predicted_sentence = tokenizer.decode(\n",
    "      [i for i in prediction if i < tokenizer.vocab_size and i !=0])\n",
    "\n",
    "  print('입력 : {}'.format(sentence))\n",
    "  print('출력 : {}'.format(predicted_sentence))\n",
    "\n",
    "  return predicted_sentence\n",
    "print(\"슝=3\")"
   ]
  },
  {
   "cell_type": "code",
   "execution_count": 89,
   "metadata": {
    "colab": {
     "base_uri": "https://localhost:8080/"
    },
    "id": "tCrn5-BbyrOW",
    "outputId": "a9fc9968-cf19-4c2f-dc73-96f419c63fe3"
   },
   "outputs": [
    {
     "name": "stdout",
     "output_type": "stream",
     "text": [
      "흰머리 보여\n",
      "기다림 속에 갇혀 있어\n",
      "나를 너무 오래 기다리게했어\n",
      "강아지 좋아하는 여자 어때 ?\n",
      "중고로 사길 잘 한거 같아\n",
      "대학 가고 싶다.\n",
      "어른이 된다는 건 뭘까\n",
      "먼지가 너무 많아\n",
      "사랑이라는 이름으로\n",
      "잘 살겠지 라고 생각하자\n",
      "어디서 피해자 코스프레임 ?\n",
      "속았나\n",
      "양키캔들 선물받았어\n",
      "남자후폭풍\n",
      "이별후 재회 그리고\n",
      "늦어지고 있는데 변명이 생각 안나\n",
      "이력서 쓰고 있어.\n",
      "머리 또 잘라야 돼\n",
      "연락하고 지내는데\n",
      "나 쉬운 여자 아니야\n",
      "싸구려 인생\n",
      "사랑 받는 느낌을 못 받아\n",
      "지치네\n",
      "문자 보내놓은지 어언 한 달.\n",
      "같은 반인데 헤어지자고 해야 하나 ? ?\n",
      "서울 근교에서 갈만한 곳 추천\n",
      "남자친구가 이벤트 해 주면 좋겠다.\n",
      "향수 뭐로 할까\n",
      "잘 지냈어 ?\n",
      "답정녀 좀 싫어\n",
      "코딩 좀 배울까\n",
      "잠들기 직전 일어난 직후는 죽을 것 같네\n",
      "인형뽑기는 유행 지났지 ?\n",
      "좀 쉬면서 애기 키워야 할 듯\n",
      "오랜만에 스테끼 먹고 싶어\n",
      "썸 타는 중인데 난 직장인이고 얘는 학생이야.\n",
      "아직도 꿈같고 너무 괴로워\n",
      "내가 쓸모없는 인간 같아\n",
      "어째야 할까\n",
      "만나면 좋은 사람이 있어. 헤헤\n",
      "이별후 3일째\n",
      "부모님이 이혼할 거 같아\n",
      "넌 잘살더라\n",
      "썸남이 같이 운동하자는데 가능 ?\n",
      "한달 ! ! 하고 일주일\n",
      "절망적인데\n",
      "말을 왜 이렇게 못 알아 듣니\n",
      "전화 못하겠어\n",
      "그 남자를 좋아해도 되는지 고민이야.\n",
      "남친이 나를 안 좋아하는 것 같은데 내가 붙잡고 있는 것 같아.\n",
      "남사친이랑 잘 맞아서 카톡이 끊어지지 않는데 이거 그린라이트일까 ?\n",
      "탄생의 이유 알아 ?\n",
      "너 뭐하는 애야\n",
      "어제 연락이 왔어. 제가 매달려서 온거같아\n",
      "그녀를 만났던 카페에서 탈퇴했어\n",
      "겨울에 하는 이별\n",
      "신기한 일들이 많이 일어나\n",
      "회식하는데 나만 챙겨줘. 썸임 ?\n",
      "여자친구가 자주 씻지를 않아.\n",
      "이 사람이랑 결혼이 옳은 걸까 ?\n",
      "업무 지적을 너무 많이 받아\n",
      "너무 마른 거 같아\n",
      "나 좀 쩌는 듯\n",
      "내가 좋아하는 사람이 나 안 좋아하는 거 같아\n"
     ]
    }
   ],
   "source": [
    "for x, y in val_dataset.take(1):\n",
    "    dec_inputs = x['dec_inputs']    # dict에서 꺼내\n",
    "    tokens = dec_inputs[:, :17]      # slicing\n",
    "    for token_seq in tokens:         # batch 안에서 하나씩\n",
    "        print(tokenizer.decode([t for t in token_seq.numpy() if t != 0]))"
   ]
  },
  {
   "cell_type": "code",
   "execution_count": 85,
   "metadata": {},
   "outputs": [
    {
     "name": "stdout",
     "output_type": "stream",
     "text": [
      "입력 : 내가 좋아하는 사람이 나 안 좋아하는 거 같아\n",
      "출력 : 슬픈 이야기네요...............\n"
     ]
    },
    {
     "data": {
      "text/plain": [
       "'슬픈 이야기네요...............'"
      ]
     },
     "execution_count": 85,
     "metadata": {},
     "output_type": "execute_result"
    }
   ],
   "source": [
    "sentence_generation('내가 좋아하는 사람이 나 안 좋아하는 거 같아')"
   ]
  },
  {
   "cell_type": "markdown",
   "metadata": {
    "id": "KeTRA_udwh8l"
   },
   "source": [
    "#6.masked_gpt"
   ]
  },
  {
   "cell_type": "code",
   "execution_count": 94,
   "metadata": {
    "id": "sBQw3H7E1ECq"
   },
   "outputs": [],
   "source": [
    "def create_diag_mask(x):\n",
    "  batch=tf.shape(x)[0]\n",
    "  seq_len = tf.shape(x)[1]\n",
    "  diag = tf.eye(num_rows=seq_len, num_columns=seq_len)  # (S, S)\n",
    "  diag = tf.repeat(diag[tf.newaxis,:,:], repeats=batch , axis=0)\n",
    "  return diag[:, :, :, tf.newaxis] # (B, S, S, D)"
   ]
  },
  {
   "cell_type": "code",
   "execution_count": 107,
   "metadata": {
    "colab": {
     "base_uri": "https://localhost:8080/"
    },
    "id": "5NYEa2flzwCM",
    "outputId": "813e9ad7-bf90-425e-be12-5aace3822588"
   },
   "outputs": [
    {
     "name": "stdout",
     "output_type": "stream",
     "text": [
      "슝=3\n"
     ]
    }
   ],
   "source": [
    "class MultiHeadAttention2(tf.keras.layers.Layer):\n",
    "\n",
    "  def __init__(self, d_model, num_heads, kernel_initializer='glorot_uniform',name=\"multi_head_attention\"):\n",
    "    super(MultiHeadAttention2, self).__init__(name=name)\n",
    "    self.num_heads = num_heads\n",
    "    self.d_model = d_model\n",
    "    self.kernel_initializer = tf.keras.initializers.get(kernel_initializer)\n",
    "\n",
    "    assert d_model % self.num_heads == 0\n",
    "\n",
    "    self.depth = d_model // self.num_heads\n",
    "\n",
    "    self.query_dense = tf.keras.layers.Dense(units=d_model,kernel_initializer=self.kernel_initializer)\n",
    "    self.key_dense = tf.keras.layers.Dense(units=d_model,kernel_initializer=self.kernel_initializer)\n",
    "    self.value_dense = tf.keras.layers.Dense(units=d_model,kernel_initializer=self.kernel_initializer)\n",
    "\n",
    "    self.dense = tf.keras.layers.Dense(units=d_model,kernel_initializer=self.kernel_initializer)\n",
    "\n",
    "  def split_heads(self, inputs, batch_size, seq_len):\n",
    "    inputs = tf.reshape(\n",
    "        inputs, shape=(batch_size, -1, seq_len, self.num_heads, self.depth))\n",
    "    return tf.transpose(inputs, perm=[0, 3, 1, 2, 4])\n",
    "\n",
    "  def call(self, inputs):\n",
    "    query, key, value, mask = inputs['query'], inputs['key'], inputs[\n",
    "        'value'], inputs['mask']\n",
    "    batch_size = tf.shape(query)[0]\n",
    "    seq_len=tf.shape(query)[1]\n",
    "\n",
    "    # Q, K, V에 각각 Dense를 적용합니다\n",
    "    query = self.query_dense(query)\n",
    "    key = self.key_dense(key)\n",
    "    value = self.value_dense(value)\n",
    "\n",
    "    # 병렬 연산을 위한 머리를 여러 개 만듭니다\n",
    "    query = self.split_heads(query,batch_size,tf.shape(query)[2])\n",
    "    key = self.split_heads(key,batch_size,tf.shape(key)[2])\n",
    "    value = self.split_heads(value,batch_size,tf.shape(value)[2])\n",
    "\n",
    "    # 스케일드 닷 프로덕트 어텐션 함수\n",
    "    scaled_attention = scaled_dot_product_attention(query, key, value, mask)\n",
    "\n",
    "    scaled_attention = tf.transpose(scaled_attention, perm=[0, 2, 3, 1, 4])\n",
    "\n",
    "    # 어텐션 연산 후에 각 결과를 다시 연결(concatenate)합니다\n",
    "    concat_attention = tf.reshape(scaled_attention,\n",
    "                                  (batch_size, seq_len, -1, self.d_model))\n",
    "\n",
    "    # 최종 결과에도 Dense를 한 번 더 적용합니다\n",
    "    outputs = self.dense(concat_attention)\n",
    "\n",
    "    return outputs\n",
    "print(\"슝=3\")"
   ]
  },
  {
   "cell_type": "code",
   "execution_count": 108,
   "metadata": {
    "colab": {
     "base_uri": "https://localhost:8080/"
    },
    "id": "pOAeY2sA0Epn",
    "outputId": "a5d392f8-a466-4dae-f961-d062a9473400"
   },
   "outputs": [
    {
     "name": "stdout",
     "output_type": "stream",
     "text": [
      "슝=3\n"
     ]
    }
   ],
   "source": [
    "# 디코더 하나의 레이어를 함수로 구현.\n",
    "# 이 하나의 레이어 안에는 세 개의 서브 레이어가 존재합니다.\n",
    "def decoder_layer(units, d_model, num_heads, dropout, name=\"decoder_layer\"):\n",
    "  inputs2 = tf.keras.Input(shape=(None, None, d_model), name=\"inputs2\")\n",
    "  look_ahead_mask = tf.keras.Input(\n",
    "      shape=(1, None, None, None), name=\"look_ahead_mask\")\n",
    "\n",
    "  # 첫 번째 서브 레이어 : 멀티 헤드 어텐션 수행 (셀프 어텐션)\n",
    "  attention1 = MultiHeadAttention2(\n",
    "      d_model, num_heads, kernel_initializer=initializer, name=\"attention_1\")(inputs={\n",
    "          'query': inputs2,\n",
    "          'key': inputs2,\n",
    "          'value': inputs2,\n",
    "          'mask': look_ahead_mask\n",
    "      })\n",
    "\n",
    "  # 마스크드 멀티 헤드 어텐션의 결과는\n",
    "  # Dropout과 LayerNormalization이라는 훈련을 돕는 테크닉을 수행\n",
    "  attention1 = tf.keras.layers.Dropout(rate=dropout)(attention1)\n",
    "  attention1 = tf.keras.layers.LayerNormalization(\n",
    "      epsilon=1e-6)(attention1 + inputs)\n",
    "\n",
    "  # 세 번째 서브 레이어 : 2개의 완전연결층\n",
    "  outputs = tf.keras.layers.Dense(units=units, activation='relu',kernel_initializer=initializer)(attention1)\n",
    "  outputs = tf.keras.layers.Dense(units=d_model,kernel_initializer=initializer)(outputs)\n",
    "\n",
    "  # 완전연결층의 결과는 Dropout과 LayerNormalization 수행\n",
    "  outputs = tf.keras.layers.Dropout(rate=dropout)(outputs)\n",
    "  outputs = tf.keras.layers.LayerNormalization(\n",
    "      epsilon=1e-6)(outputs + attention1)\n",
    "\n",
    "  return tf.keras.Model(\n",
    "      inputs=[inputs2,look_ahead_mask],\n",
    "      outputs=outputs,\n",
    "      name=name)\n",
    "print(\"슝=3\")"
   ]
  },
  {
   "cell_type": "code",
   "execution_count": 124,
   "metadata": {
    "colab": {
     "base_uri": "https://localhost:8080/"
    },
    "id": "V7fyreF10Ltp",
    "outputId": "7ec835e2-e307-426d-de30-7cdf2c3f6881"
   },
   "outputs": [
    {
     "name": "stdout",
     "output_type": "stream",
     "text": [
      "슝=3\n"
     ]
    }
   ],
   "source": [
    "def decoder(vocab_size,\n",
    "            num_layers,\n",
    "            units,\n",
    "            d_model,\n",
    "            num_heads,\n",
    "            dropout,\n",
    "            max_len,\n",
    "            name='decoder'):\n",
    "  inputs = tf.keras.Input(shape=(None,), name='inputs')\n",
    "  look_ahead_mask = tf.keras.Input(\n",
    "      shape=(1, None, None, None), name='look_ahead_mask')\n",
    "\n",
    "  # 임베딩 레이어\n",
    "  embedding_layer = tf.keras.layers.Embedding(vocab_size, d_model,embeddings_initializer=initializer)\n",
    "  embeddings = embedding_layer(inputs)\n",
    "  #embeddings *= tf.math.sqrt(tf.cast(d_model, tf.float32))\n",
    "\n",
    "  positions = tf.keras.Input(shape=(None,), name='positions')\n",
    "  position_embeddings = tf.keras.layers.Embedding(max_len, d_model,embeddings_initializer=initializer)(positions)\n",
    "\n",
    "  embeddings += position_embeddings\n",
    "\n",
    "  # Dropout이라는 훈련을 돕는 테크닉을 수행\n",
    "  outputs = tf.keras.layers.Dropout(rate=dropout)(embeddings)\n",
    "\n",
    "  outputs2 = tf.keras.layers.Lambda(lambda x: tf.expand_dims(x, axis=1),output_shape=(1,None,d_model))(outputs)\n",
    "  outputs2 = tf.keras.layers.Lambda(lambda x: tf.repeat(x, repeats=tf.shape(x)[2], axis=1),output_shape=(None,None,d_model))(outputs2)\n",
    "  diag_mask = tf.keras.layers.Lambda(create_diag_mask)(outputs2)\n",
    "  for i in range(num_layers):\n",
    "    if i >= 1:\n",
    "      outputs = tf.keras.layers.Lambda(lambda x : tf.multiply(x[0], x[1]),output_shape=(None,None,d_model))([diag_mask,outputs])\n",
    "    outputs2 = decoder_layer(\n",
    "        units=units,\n",
    "        d_model=d_model,\n",
    "        num_heads=num_heads,\n",
    "        dropout=dropout,\n",
    "        name='decoder_layer_{}'.format(i),\n",
    "    )(inputs=[outputs2, look_ahead_mask])\n",
    "\n",
    "  final_outputs = tf.keras.layers.Lambda(lambda x: tf.transpose(tf.linalg.diag_part(tf.transpose(x, perm=[0,3,1,2])),perm=[0,2,1]),output_shape=(None, d_model))(outputs2)\n",
    "  embedding_weights = embedding_layer.weights[0]\n",
    "  outputs2 = tf.keras.layers.Lambda(lambda x: tf.matmul(x[0],x[1],transpose_b=True),output_shape=(None,vocab_size))([final_outputs,embedding_weights])\n",
    "\n",
    "  return tf.keras.Model(\n",
    "      inputs=[inputs, positions, look_ahead_mask],\n",
    "      outputs=outputs2,\n",
    "      name=name)\n",
    "print(\"슝=3\")"
   ]
  },
  {
   "cell_type": "code",
   "execution_count": 125,
   "metadata": {
    "colab": {
     "base_uri": "https://localhost:8080/"
    },
    "id": "xoEo1lEI0OOn",
    "outputId": "b4d7d5ce-7fdc-44ff-acc5-11b7de9b7fe0"
   },
   "outputs": [
    {
     "name": "stdout",
     "output_type": "stream",
     "text": [
      "슝=3\n"
     ]
    }
   ],
   "source": [
    "def transformer(vocab_size,\n",
    "                num_layers,\n",
    "                units,\n",
    "                d_model,\n",
    "                num_heads,\n",
    "                dropout,\n",
    "                max_len,\n",
    "                name=\"transformer\"):\n",
    "  dec_inputs = tf.keras.Input(shape=(None,), name=\"dec_inputs\")\n",
    "\n",
    "  # 인코더에서 패딩을 위한 마스크\n",
    "  enc_padding_mask = tf.keras.layers.Lambda(\n",
    "      create_padding_mask, output_shape=(1, 1, None),\n",
    "      name='enc_padding_mask')(inputs)\n",
    "\n",
    "  # 디코더에서 미래의 토큰을 마스크 하기 위해서 사용합니다.\n",
    "  # 내부적으로 패딩 마스크도 포함되어져 있습니다.\n",
    "  look_ahead_mask = tf.keras.layers.Lambda(\n",
    "      create_real_mask,\n",
    "      output_shape=(1, None, None, None),\n",
    "      name='look_ahead_mask')(dec_inputs)\n",
    "\n",
    "  # 디코더\n",
    "  dec_outputs = decoder(\n",
    "      vocab_size=vocab_size,\n",
    "      num_layers=num_layers,\n",
    "      units=units,\n",
    "      d_model=d_model,\n",
    "      num_heads=num_heads,\n",
    "      dropout=dropout,\n",
    "      max_len=max_len\n",
    "  )(inputs=[dec_inputs, look_ahead_mask])\n",
    "\n",
    "  # 완전연결층\n",
    "  # final_outputs = tf.keras.layers.Lambda(lambda x: tf.transpose(tf.linalg.diag_part(tf.transpose(x, perm=[0,3,1,2])),perm=[0,2,1]),output_shape=(None, d_model))(dec_outputs)\n",
    "  # outputs = tf.keras.layers.Dense(units=vocab_size, name=\"outputs\")(final_outputs)\n",
    "\n",
    "  return tf.keras.Model(inputs=dec_inputs, outputs=outputs, name=name)\n",
    "print(\"슝=3\")"
   ]
  },
  {
   "cell_type": "code",
   "execution_count": 126,
   "metadata": {
    "colab": {
     "base_uri": "https://localhost:8080/",
     "height": 340
    },
    "id": "6SRPH0LA2Def",
    "outputId": "25d4650d-cb68-4519-fed0-c5935b8b7235"
   },
   "outputs": [
    {
     "data": {
      "text/html": [
       "<pre style=\"white-space:pre;overflow-x:auto;line-height:normal;font-family:Menlo,'DejaVu Sans Mono',consolas,'Courier New',monospace\"><span style=\"font-weight: bold\">Model: \"transformer\"</span>\n",
       "</pre>\n"
      ],
      "text/plain": [
       "\u001b[1mModel: \"transformer\"\u001b[0m\n"
      ]
     },
     "metadata": {},
     "output_type": "display_data"
    },
    {
     "data": {
      "text/html": [
       "<pre style=\"white-space:pre;overflow-x:auto;line-height:normal;font-family:Menlo,'DejaVu Sans Mono',consolas,'Courier New',monospace\">┏━━━━━━━━━━━━━━━━━━━━━┳━━━━━━━━━━━━━━━━━━━┳━━━━━━━━━━━━┳━━━━━━━━━━━━━━━━━━━┓\n",
       "┃<span style=\"font-weight: bold\"> Layer (type)        </span>┃<span style=\"font-weight: bold\"> Output Shape      </span>┃<span style=\"font-weight: bold\">    Param # </span>┃<span style=\"font-weight: bold\"> Connected to      </span>┃\n",
       "┡━━━━━━━━━━━━━━━━━━━━━╇━━━━━━━━━━━━━━━━━━━╇━━━━━━━━━━━━╇━━━━━━━━━━━━━━━━━━━┩\n",
       "│ dec_inputs          │ (<span style=\"color: #00d7ff; text-decoration-color: #00d7ff\">None</span>, <span style=\"color: #00d7ff; text-decoration-color: #00d7ff\">None</span>)      │          <span style=\"color: #00af00; text-decoration-color: #00af00\">0</span> │ -                 │\n",
       "│ (<span style=\"color: #0087ff; text-decoration-color: #0087ff\">InputLayer</span>)        │                   │            │                   │\n",
       "├─────────────────────┼───────────────────┼────────────┼───────────────────┤\n",
       "│ positions (<span style=\"color: #0087ff; text-decoration-color: #0087ff\">Lambda</span>)  │ (<span style=\"color: #00d7ff; text-decoration-color: #00d7ff\">None</span>, <span style=\"color: #00d7ff; text-decoration-color: #00d7ff\">None</span>, <span style=\"color: #00af00; text-decoration-color: #00af00\">256</span>) │          <span style=\"color: #00af00; text-decoration-color: #00af00\">0</span> │ dec_inputs[<span style=\"color: #00af00; text-decoration-color: #00af00\">0</span>][<span style=\"color: #00af00; text-decoration-color: #00af00\">0</span>]  │\n",
       "├─────────────────────┼───────────────────┼────────────┼───────────────────┤\n",
       "│ look_ahead_mask     │ (<span style=\"color: #00d7ff; text-decoration-color: #00d7ff\">None</span>, <span style=\"color: #00af00; text-decoration-color: #00af00\">1</span>, <span style=\"color: #00d7ff; text-decoration-color: #00d7ff\">None</span>,   │          <span style=\"color: #00af00; text-decoration-color: #00af00\">0</span> │ dec_inputs[<span style=\"color: #00af00; text-decoration-color: #00af00\">0</span>][<span style=\"color: #00af00; text-decoration-color: #00af00\">0</span>]  │\n",
       "│ (<span style=\"color: #0087ff; text-decoration-color: #0087ff\">Lambda</span>)            │ <span style=\"color: #00d7ff; text-decoration-color: #00d7ff\">None</span>)             │            │                   │\n",
       "├─────────────────────┼───────────────────┼────────────┼───────────────────┤\n",
       "│ decoder             │ (<span style=\"color: #00d7ff; text-decoration-color: #00d7ff\">None</span>, <span style=\"color: #00d7ff; text-decoration-color: #00d7ff\">None</span>,      │  <span style=\"color: #00af00; text-decoration-color: #00af00\">3,739,392</span> │ dec_inputs[<span style=\"color: #00af00; text-decoration-color: #00af00\">0</span>][<span style=\"color: #00af00; text-decoration-color: #00af00\">0</span>], │\n",
       "│ (<span style=\"color: #0087ff; text-decoration-color: #0087ff\">Functional</span>)        │ <span style=\"color: #00af00; text-decoration-color: #00af00\">10456</span>)            │            │ positions[<span style=\"color: #00af00; text-decoration-color: #00af00\">0</span>][<span style=\"color: #00af00; text-decoration-color: #00af00\">0</span>],  │\n",
       "│                     │                   │            │ look_ahead_mask[<span style=\"color: #00af00; text-decoration-color: #00af00\">…</span> │\n",
       "└─────────────────────┴───────────────────┴────────────┴───────────────────┘\n",
       "</pre>\n"
      ],
      "text/plain": [
       "┏━━━━━━━━━━━━━━━━━━━━━┳━━━━━━━━━━━━━━━━━━━┳━━━━━━━━━━━━┳━━━━━━━━━━━━━━━━━━━┓\n",
       "┃\u001b[1m \u001b[0m\u001b[1mLayer (type)       \u001b[0m\u001b[1m \u001b[0m┃\u001b[1m \u001b[0m\u001b[1mOutput Shape     \u001b[0m\u001b[1m \u001b[0m┃\u001b[1m \u001b[0m\u001b[1m   Param #\u001b[0m\u001b[1m \u001b[0m┃\u001b[1m \u001b[0m\u001b[1mConnected to     \u001b[0m\u001b[1m \u001b[0m┃\n",
       "┡━━━━━━━━━━━━━━━━━━━━━╇━━━━━━━━━━━━━━━━━━━╇━━━━━━━━━━━━╇━━━━━━━━━━━━━━━━━━━┩\n",
       "│ dec_inputs          │ (\u001b[38;5;45mNone\u001b[0m, \u001b[38;5;45mNone\u001b[0m)      │          \u001b[38;5;34m0\u001b[0m │ -                 │\n",
       "│ (\u001b[38;5;33mInputLayer\u001b[0m)        │                   │            │                   │\n",
       "├─────────────────────┼───────────────────┼────────────┼───────────────────┤\n",
       "│ positions (\u001b[38;5;33mLambda\u001b[0m)  │ (\u001b[38;5;45mNone\u001b[0m, \u001b[38;5;45mNone\u001b[0m, \u001b[38;5;34m256\u001b[0m) │          \u001b[38;5;34m0\u001b[0m │ dec_inputs[\u001b[38;5;34m0\u001b[0m][\u001b[38;5;34m0\u001b[0m]  │\n",
       "├─────────────────────┼───────────────────┼────────────┼───────────────────┤\n",
       "│ look_ahead_mask     │ (\u001b[38;5;45mNone\u001b[0m, \u001b[38;5;34m1\u001b[0m, \u001b[38;5;45mNone\u001b[0m,   │          \u001b[38;5;34m0\u001b[0m │ dec_inputs[\u001b[38;5;34m0\u001b[0m][\u001b[38;5;34m0\u001b[0m]  │\n",
       "│ (\u001b[38;5;33mLambda\u001b[0m)            │ \u001b[38;5;45mNone\u001b[0m)             │            │                   │\n",
       "├─────────────────────┼───────────────────┼────────────┼───────────────────┤\n",
       "│ decoder             │ (\u001b[38;5;45mNone\u001b[0m, \u001b[38;5;45mNone\u001b[0m,      │  \u001b[38;5;34m3,739,392\u001b[0m │ dec_inputs[\u001b[38;5;34m0\u001b[0m][\u001b[38;5;34m0\u001b[0m], │\n",
       "│ (\u001b[38;5;33mFunctional\u001b[0m)        │ \u001b[38;5;34m10456\u001b[0m)            │            │ positions[\u001b[38;5;34m0\u001b[0m][\u001b[38;5;34m0\u001b[0m],  │\n",
       "│                     │                   │            │ look_ahead_mask[\u001b[38;5;34m…\u001b[0m │\n",
       "└─────────────────────┴───────────────────┴────────────┴───────────────────┘\n"
      ]
     },
     "metadata": {},
     "output_type": "display_data"
    },
    {
     "data": {
      "text/html": [
       "<pre style=\"white-space:pre;overflow-x:auto;line-height:normal;font-family:Menlo,'DejaVu Sans Mono',consolas,'Courier New',monospace\"><span style=\"font-weight: bold\"> Total params: </span><span style=\"color: #00af00; text-decoration-color: #00af00\">3,739,392</span> (14.26 MB)\n",
       "</pre>\n"
      ],
      "text/plain": [
       "\u001b[1m Total params: \u001b[0m\u001b[38;5;34m3,739,392\u001b[0m (14.26 MB)\n"
      ]
     },
     "metadata": {},
     "output_type": "display_data"
    },
    {
     "data": {
      "text/html": [
       "<pre style=\"white-space:pre;overflow-x:auto;line-height:normal;font-family:Menlo,'DejaVu Sans Mono',consolas,'Courier New',monospace\"><span style=\"font-weight: bold\"> Trainable params: </span><span style=\"color: #00af00; text-decoration-color: #00af00\">3,739,392</span> (14.26 MB)\n",
       "</pre>\n"
      ],
      "text/plain": [
       "\u001b[1m Trainable params: \u001b[0m\u001b[38;5;34m3,739,392\u001b[0m (14.26 MB)\n"
      ]
     },
     "metadata": {},
     "output_type": "display_data"
    },
    {
     "data": {
      "text/html": [
       "<pre style=\"white-space:pre;overflow-x:auto;line-height:normal;font-family:Menlo,'DejaVu Sans Mono',consolas,'Courier New',monospace\"><span style=\"font-weight: bold\"> Non-trainable params: </span><span style=\"color: #00af00; text-decoration-color: #00af00\">0</span> (0.00 B)\n",
       "</pre>\n"
      ],
      "text/plain": [
       "\u001b[1m Non-trainable params: \u001b[0m\u001b[38;5;34m0\u001b[0m (0.00 B)\n"
      ]
     },
     "metadata": {},
     "output_type": "display_data"
    }
   ],
   "source": [
    "tf.keras.backend.clear_session()\n",
    "\n",
    "# 하이퍼파라미터\n",
    "NUM_LAYERS = 2 # 인코더와 디코더의 층의 개수\n",
    "D_MODEL = 256 # 인코더와 디코더 내부의 입, 출력의 고정 차원\n",
    "NUM_HEADS = 8 # 멀티 헤드 어텐션에서의 헤드 수\n",
    "UNITS = 512 # 피드 포워드 신경망의 은닉층의 크기\n",
    "DROPOUT = 0.2 # 드롭아웃의 비율\n",
    "\n",
    "model2 = transformeraa(\n",
    "    vocab_size=VOCAB_SIZE,\n",
    "    num_layers=NUM_LAYERS,\n",
    "    units=UNITS,\n",
    "    d_model=D_MODEL,\n",
    "    num_heads=NUM_HEADS,\n",
    "    dropout=DROPOUT,\n",
    "    max_len=MAX_LENGTH*2-1)\n",
    "\n",
    "model2.summary()"
   ]
  },
  {
   "cell_type": "code",
   "execution_count": 129,
   "metadata": {
    "colab": {
     "base_uri": "https://localhost:8080/"
    },
    "id": "RyiH2tPA2Nha",
    "outputId": "821619e6-cb47-46ed-aa36-340736b27bb0"
   },
   "outputs": [
    {
     "name": "stdout",
     "output_type": "stream",
     "text": [
      "슝=3\n"
     ]
    }
   ],
   "source": [
    "learning_rate = CustomSchedule(D_MODEL)\n",
    "\n",
    "optimizer = tf.keras.optimizers.Adam(\n",
    "    learning_rate, beta_1=0.9, beta_2=0.98, epsilon=1e-9)\n",
    "\n",
    "def accuracy(y_true, y_pred):\n",
    "  y_true = tf.reshape(y_true, shape=(-1, MAX_LENGTH*2 - 1))\n",
    "  return tf.keras.metrics.sparse_categorical_accuracy(y_true, y_pred)\n",
    "\n",
    "model2.compile(optimizer=optimizer, loss=loss_function, metrics=[accuracy])\n",
    "print(\"슝=3\")"
   ]
  },
  {
   "cell_type": "code",
   "execution_count": 130,
   "metadata": {
    "colab": {
     "base_uri": "https://localhost:8080/",
     "height": 408
    },
    "id": "2EuwUzqE8K19",
    "outputId": "b8aa98bc-6453-4974-c653-fedcd3d58aca"
   },
   "outputs": [
    {
     "name": "stdout",
     "output_type": "stream",
     "text": [
      "Epoch 1/20\n"
     ]
    },
    {
     "name": "stderr",
     "output_type": "stream",
     "text": [
      "/usr/local/lib/python3.11/dist-packages/keras/src/models/functional.py:237: UserWarning: The structure of `inputs` doesn't match the expected structure.\n",
      "Expected: dec_inputs\n",
      "Received: inputs=['Tensor(shape=(None, 33))']\n",
      "  warnings.warn(msg)\n"
     ]
    },
    {
     "ename": "TypeError",
     "evalue": "Expected float32, but got outputs of type 'str'.",
     "output_type": "error",
     "traceback": [
      "\u001b[0;31m---------------------------------------------------------------------------\u001b[0m",
      "\u001b[0;31mTypeError\u001b[0m                                 Traceback (most recent call last)",
      "\u001b[0;32m<ipython-input-130-2e68553519ba>\u001b[0m in \u001b[0;36m<cell line: 0>\u001b[0;34m()\u001b[0m\n\u001b[1;32m      1\u001b[0m \u001b[0mEPOCHS\u001b[0m \u001b[0;34m=\u001b[0m \u001b[0;36m20\u001b[0m\u001b[0;34m\u001b[0m\u001b[0;34m\u001b[0m\u001b[0m\n\u001b[1;32m      2\u001b[0m \u001b[0mtf\u001b[0m\u001b[0;34m.\u001b[0m\u001b[0mrandom\u001b[0m\u001b[0;34m.\u001b[0m\u001b[0mset_seed\u001b[0m\u001b[0;34m(\u001b[0m\u001b[0mSEED\u001b[0m\u001b[0;34m)\u001b[0m\u001b[0;34m\u001b[0m\u001b[0;34m\u001b[0m\u001b[0m\n\u001b[0;32m----> 3\u001b[0;31m \u001b[0mhistory\u001b[0m\u001b[0;34m=\u001b[0m\u001b[0mmodel2\u001b[0m\u001b[0;34m.\u001b[0m\u001b[0mfit\u001b[0m\u001b[0;34m(\u001b[0m\u001b[0mtrain_dataset\u001b[0m\u001b[0;34m,\u001b[0m\u001b[0mvalidation_data\u001b[0m\u001b[0;34m=\u001b[0m\u001b[0mval_dataset\u001b[0m\u001b[0;34m,\u001b[0m \u001b[0mepochs\u001b[0m\u001b[0;34m=\u001b[0m\u001b[0;36m20\u001b[0m\u001b[0;34m,\u001b[0m \u001b[0mverbose\u001b[0m\u001b[0;34m=\u001b[0m\u001b[0;36m1\u001b[0m\u001b[0;34m)\u001b[0m\u001b[0;34m\u001b[0m\u001b[0;34m\u001b[0m\u001b[0m\n\u001b[0m",
      "\u001b[0;32m/usr/local/lib/python3.11/dist-packages/keras/src/utils/traceback_utils.py\u001b[0m in \u001b[0;36merror_handler\u001b[0;34m(*args, **kwargs)\u001b[0m\n\u001b[1;32m    120\u001b[0m             \u001b[0;31m# To get the full stack trace, call:\u001b[0m\u001b[0;34m\u001b[0m\u001b[0;34m\u001b[0m\u001b[0m\n\u001b[1;32m    121\u001b[0m             \u001b[0;31m# `keras.config.disable_traceback_filtering()`\u001b[0m\u001b[0;34m\u001b[0m\u001b[0;34m\u001b[0m\u001b[0m\n\u001b[0;32m--> 122\u001b[0;31m             \u001b[0;32mraise\u001b[0m \u001b[0me\u001b[0m\u001b[0;34m.\u001b[0m\u001b[0mwith_traceback\u001b[0m\u001b[0;34m(\u001b[0m\u001b[0mfiltered_tb\u001b[0m\u001b[0;34m)\u001b[0m \u001b[0;32mfrom\u001b[0m \u001b[0;32mNone\u001b[0m\u001b[0;34m\u001b[0m\u001b[0;34m\u001b[0m\u001b[0m\n\u001b[0m\u001b[1;32m    123\u001b[0m         \u001b[0;32mfinally\u001b[0m\u001b[0;34m:\u001b[0m\u001b[0;34m\u001b[0m\u001b[0;34m\u001b[0m\u001b[0m\n\u001b[1;32m    124\u001b[0m             \u001b[0;32mdel\u001b[0m \u001b[0mfiltered_tb\u001b[0m\u001b[0;34m\u001b[0m\u001b[0;34m\u001b[0m\u001b[0m\n",
      "\u001b[0;32m/usr/local/lib/python3.11/dist-packages/optree/ops.py\u001b[0m in \u001b[0;36mtree_map\u001b[0;34m(func, tree, is_leaf, none_is_leaf, namespace, *rests)\u001b[0m\n\u001b[1;32m    764\u001b[0m     \u001b[0mleaves\u001b[0m\u001b[0;34m,\u001b[0m \u001b[0mtreespec\u001b[0m \u001b[0;34m=\u001b[0m \u001b[0m_C\u001b[0m\u001b[0;34m.\u001b[0m\u001b[0mflatten\u001b[0m\u001b[0;34m(\u001b[0m\u001b[0mtree\u001b[0m\u001b[0;34m,\u001b[0m \u001b[0mis_leaf\u001b[0m\u001b[0;34m,\u001b[0m \u001b[0mnone_is_leaf\u001b[0m\u001b[0;34m,\u001b[0m \u001b[0mnamespace\u001b[0m\u001b[0;34m)\u001b[0m\u001b[0;34m\u001b[0m\u001b[0;34m\u001b[0m\u001b[0m\n\u001b[1;32m    765\u001b[0m     \u001b[0mflat_args\u001b[0m \u001b[0;34m=\u001b[0m \u001b[0;34m[\u001b[0m\u001b[0mleaves\u001b[0m\u001b[0;34m]\u001b[0m \u001b[0;34m+\u001b[0m \u001b[0;34m[\u001b[0m\u001b[0mtreespec\u001b[0m\u001b[0;34m.\u001b[0m\u001b[0mflatten_up_to\u001b[0m\u001b[0;34m(\u001b[0m\u001b[0mr\u001b[0m\u001b[0;34m)\u001b[0m \u001b[0;32mfor\u001b[0m \u001b[0mr\u001b[0m \u001b[0;32min\u001b[0m \u001b[0mrests\u001b[0m\u001b[0;34m]\u001b[0m\u001b[0;34m\u001b[0m\u001b[0;34m\u001b[0m\u001b[0m\n\u001b[0;32m--> 766\u001b[0;31m     \u001b[0;32mreturn\u001b[0m \u001b[0mtreespec\u001b[0m\u001b[0;34m.\u001b[0m\u001b[0munflatten\u001b[0m\u001b[0;34m(\u001b[0m\u001b[0mmap\u001b[0m\u001b[0;34m(\u001b[0m\u001b[0mfunc\u001b[0m\u001b[0;34m,\u001b[0m \u001b[0;34m*\u001b[0m\u001b[0mflat_args\u001b[0m\u001b[0;34m)\u001b[0m\u001b[0;34m)\u001b[0m\u001b[0;34m\u001b[0m\u001b[0;34m\u001b[0m\u001b[0m\n\u001b[0m\u001b[1;32m    767\u001b[0m \u001b[0;34m\u001b[0m\u001b[0m\n\u001b[1;32m    768\u001b[0m \u001b[0;34m\u001b[0m\u001b[0m\n",
      "\u001b[0;31mTypeError\u001b[0m: Expected float32, but got outputs of type 'str'."
     ]
    }
   ],
   "source": [
    "EPOCHS = 200\n",
    "tf.random.set_seed(SEED)\n",
    "history=model2.fit(train_dataset,validation_data=val_dataset, epochs=20, verbose=1)"
   ]
  },
  {
   "cell_type": "code",
   "execution_count": null,
   "metadata": {},
   "outputs": [],
   "source": [
    "import matplotlib.pyplot as plt\n",
    "\n",
    "# history에서 metric 추출\n",
    "acc = history.history.get('accuracy')\n",
    "val_acc = history.history.get('val_accuracy')\n",
    "loss = history.history.get('loss')\n",
    "val_loss = history.history.get('val_loss')\n",
    "\n",
    "# plot\n",
    "plt.figure(figsize=(12, 5))\n",
    "\n",
    "# Accuracy Plot\n",
    "plt.subplot(1, 2, 1)\n",
    "plt.plot(acc, label='Train Acc')\n",
    "plt.plot(val_acc, label='Val Acc')\n",
    "plt.title('Accuracy')\n",
    "plt.xlabel('Epoch')\n",
    "plt.ylabel('Accuracy')\n",
    "plt.legend()\n",
    "\n",
    "# Loss Plot\n",
    "plt.subplot(1, 2, 2)\n",
    "plt.plot(loss, label='Train Loss')\n",
    "plt.plot(val_loss, label='Val Loss')\n",
    "plt.title('Loss')\n",
    "plt.xlabel('Epoch')\n",
    "plt.ylabel('Loss')\n",
    "plt.legend()\n",
    "\n",
    "plt.tight_layout()\n",
    "plt.show()"
   ]
  }
 ],
 "metadata": {
  "colab": {
   "provenance": [],
   "toc_visible": true
  },
  "kernelspec": {
   "display_name": "Python 3 (ipykernel)",
   "language": "python",
   "name": "python3"
  },
  "language_info": {
   "codemirror_mode": {
    "name": "ipython",
    "version": 3
   },
   "file_extension": ".py",
   "mimetype": "text/x-python",
   "name": "python",
   "nbconvert_exporter": "python",
   "pygments_lexer": "ipython3",
   "version": "3.9.7"
  }
 },
 "nbformat": 4,
 "nbformat_minor": 1
}
