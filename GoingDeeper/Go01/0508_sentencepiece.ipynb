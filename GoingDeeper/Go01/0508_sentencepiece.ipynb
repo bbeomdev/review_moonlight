{
  "nbformat": 4,
  "nbformat_minor": 0,
  "metadata": {
    "colab": {
      "provenance": [],
      "gpuType": "T4"
    },
    "kernelspec": {
      "name": "python3",
      "display_name": "Python 3"
    },
    "language_info": {
      "name": "python"
    },
    "accelerator": "GPU"
  },
  "cells": [
    {
      "cell_type": "code",
      "source": [
        "!pip install konlpy"
      ],
      "metadata": {
        "colab": {
          "base_uri": "https://localhost:8080/"
        },
        "id": "_aqe0ZIsbNy5",
        "outputId": "4d97b93f-2a5f-48c1-ba68-87e2e461da1f"
      },
      "execution_count": null,
      "outputs": [
        {
          "output_type": "stream",
          "name": "stdout",
          "text": [
            "Collecting konlpy\n",
            "  Downloading konlpy-0.6.0-py2.py3-none-any.whl.metadata (1.9 kB)\n",
            "Collecting JPype1>=0.7.0 (from konlpy)\n",
            "  Downloading jpype1-1.5.2-cp311-cp311-manylinux_2_17_x86_64.manylinux2014_x86_64.whl.metadata (4.9 kB)\n",
            "Requirement already satisfied: lxml>=4.1.0 in /usr/local/lib/python3.11/dist-packages (from konlpy) (5.4.0)\n",
            "Requirement already satisfied: numpy>=1.6 in /usr/local/lib/python3.11/dist-packages (from konlpy) (2.0.2)\n",
            "Requirement already satisfied: packaging in /usr/local/lib/python3.11/dist-packages (from JPype1>=0.7.0->konlpy) (24.2)\n",
            "Downloading konlpy-0.6.0-py2.py3-none-any.whl (19.4 MB)\n",
            "\u001b[2K   \u001b[90m━━━━━━━━━━━━━━━━━━━━━━━━━━━━━━━━━━━━━━━━\u001b[0m \u001b[32m19.4/19.4 MB\u001b[0m \u001b[31m112.6 MB/s\u001b[0m eta \u001b[36m0:00:00\u001b[0m\n",
            "\u001b[?25hDownloading jpype1-1.5.2-cp311-cp311-manylinux_2_17_x86_64.manylinux2014_x86_64.whl (494 kB)\n",
            "\u001b[2K   \u001b[90m━━━━━━━━━━━━━━━━━━━━━━━━━━━━━━━━━━━━━━━━\u001b[0m \u001b[32m494.1/494.1 kB\u001b[0m \u001b[31m33.7 MB/s\u001b[0m eta \u001b[36m0:00:00\u001b[0m\n",
            "\u001b[?25hInstalling collected packages: JPype1, konlpy\n",
            "Successfully installed JPype1-1.5.2 konlpy-0.6.0\n"
          ]
        }
      ]
    },
    {
      "cell_type": "markdown",
      "source": [
        "mecab, kkoran, sentencepiece bpe, sentencepiece unigram"
      ],
      "metadata": {
        "id": "qopsebJyeZdw"
      }
    },
    {
      "cell_type": "code",
      "source": [
        "!pip install emoji"
      ],
      "metadata": {
        "colab": {
          "base_uri": "https://localhost:8080/"
        },
        "id": "PtT8lK926eYe",
        "outputId": "16ee3b59-1a04-4dfd-d97b-b88776838f87"
      },
      "execution_count": null,
      "outputs": [
        {
          "output_type": "stream",
          "name": "stdout",
          "text": [
            "Collecting emoji\n",
            "  Downloading emoji-2.14.1-py3-none-any.whl.metadata (5.7 kB)\n",
            "Downloading emoji-2.14.1-py3-none-any.whl (590 kB)\n",
            "\u001b[?25l   \u001b[90m━━━━━━━━━━━━━━━━━━━━━━━━━━━━━━━━━━━━━━━━\u001b[0m \u001b[32m0.0/590.6 kB\u001b[0m \u001b[31m?\u001b[0m eta \u001b[36m-:--:--\u001b[0m\r\u001b[2K   \u001b[91m━━━━━━━━━━━━━━━━━━━━━━━━━━━━━━━━━━━━━━━\u001b[0m\u001b[91m╸\u001b[0m \u001b[32m583.7/590.6 kB\u001b[0m \u001b[31m23.5 MB/s\u001b[0m eta \u001b[36m0:00:01\u001b[0m\r\u001b[2K   \u001b[90m━━━━━━━━━━━━━━━━━━━━━━━━━━━━━━━━━━━━━━━━\u001b[0m \u001b[32m590.6/590.6 kB\u001b[0m \u001b[31m16.5 MB/s\u001b[0m eta \u001b[36m0:00:00\u001b[0m\n",
            "\u001b[?25hInstalling collected packages: emoji\n",
            "Successfully installed emoji-2.14.1\n"
          ]
        }
      ]
    },
    {
      "cell_type": "code",
      "execution_count": null,
      "metadata": {
        "colab": {
          "base_uri": "https://localhost:8080/"
        },
        "id": "0_GLzrUkZiU6",
        "outputId": "de6f4c87-ce26-498d-cbda-5899ee92719b"
      },
      "outputs": [
        {
          "output_type": "stream",
          "name": "stdout",
          "text": [
            "2.18.0\n",
            "2.0.2\n",
            "0.6.0\n"
          ]
        }
      ],
      "source": [
        "import tensorflow as tf\n",
        "import numpy as np\n",
        "import matplotlib.pyplot as plt\n",
        "import konlpy\n",
        "\n",
        "print(tf.__version__)\n",
        "print(np.__version__)\n",
        "print(konlpy.__version__)"
      ]
    },
    {
      "cell_type": "code",
      "source": [
        "import random\n",
        "import numpy as np\n",
        "\n",
        "def set_seed(seed=42):\n",
        "    random.seed(seed)\n",
        "    np.random.seed(seed)\n",
        "    tf.random.set_seed(seed)\n",
        "\n",
        "set_seed(42)"
      ],
      "metadata": {
        "id": "pfxRffyBgYA1"
      },
      "execution_count": null,
      "outputs": []
    },
    {
      "cell_type": "code",
      "source": [
        "import pandas as pd"
      ],
      "metadata": {
        "id": "SzzP5KsXgkPV"
      },
      "execution_count": null,
      "outputs": []
    },
    {
      "cell_type": "code",
      "source": [
        "train = pd.read_csv('ratings_train.txt', sep='\\t')\n",
        "test = pd.read_csv('ratings_test.txt', sep='\\t')"
      ],
      "metadata": {
        "id": "ViCLX6EDgjJc"
      },
      "execution_count": null,
      "outputs": []
    },
    {
      "cell_type": "code",
      "source": [
        "stopword= pd.read_csv('stopwords-ko.txt', names=['stopword'], header=None)"
      ],
      "metadata": {
        "id": "M866yDzorEo9"
      },
      "execution_count": null,
      "outputs": []
    },
    {
      "cell_type": "code",
      "source": [
        "stop_word=stopword['stopword'].to_list()"
      ],
      "metadata": {
        "id": "-31NzWCPrQ3a"
      },
      "execution_count": null,
      "outputs": []
    },
    {
      "cell_type": "markdown",
      "source": [
        "1. http 링크 제거\n",
        "2. 영어? A급 B급 C급 -> 우수, 평타, 최악  / 동의어 다의어 표현 피함\n",
        "3. -_-, -.- -> 지루 , ^-^ -> 행복 으로 교체\n",
        "4. 1점 2점.. -> 일점, 이점 .. 십점 / 1개 2개... -> 한개 두개 세개 네개 ..열개 / 1위 2위... -> 일위 이위 삼위 ... /  이외 숫자 제거\n",
        "4. 이모지 - 하트 ♥ -> 최고\n",
        "5. .., ..., .... -> ...  / ~ ! ? 이 3개 특수기호 중복을 하나로 줄이고 나머지 특수기호 다 제거\n",
        "6. O alphabet 대문자 O 가 연속적으로 표현 되는 것 강한 욕설 씨발 로 교체\n",
        "7. ㅋㅋ,ㅎㅎ,ㅠㅠ,ㅜㅜ 유지 ㅋㅋㅋ ㅎㅎㅎ ㅠㅠㅠ ㅜㅜㅜ 이런거는 다 2개 짜리로 바꿈\n",
        "8.\n",
        "9. 영어 제거\n",
        "10. 공백 중복된거 공백 하나로 교체\n",
        "11. 빈 텍스트 np.nan 교체\n",
        "12. ㄱㅅ, ㄳ -> 감사\n",
        "13. 반복된 자모문자\n",
        "15. ㅗ\n",
        "16. good, great, awesome ->\n",
        "17. bad, shit\n",
        "18. 1류, 2류, 3류, 4류, 5류 -> 일류, 이류, 삼류, 사류, 오류\n",
        "19. ㄵ ㄴㅈ\n",
        "20. 숫자를 그냥 지워야 되나?\n",
        "21. 한글자 자모 지우"
      ],
      "metadata": {
        "id": "-GWZmoi-j2vz"
      }
    },
    {
      "cell_type": "markdown",
      "source": [
        "모델은 bi lstm classify head"
      ],
      "metadata": {
        "id": "6kZthc5alMmg"
      }
    },
    {
      "cell_type": "markdown",
      "source": [
        "띄어쓰기 잘못된 것은 짧은 문장 필터링 할때 걸러내기, 맞춤법 검사기 cost"
      ],
      "metadata": {
        "id": "Yk2n82myq2pp"
      }
    },
    {
      "cell_type": "markdown",
      "source": [
        ">,< >ㅁ< , >_<"
      ],
      "metadata": {
        "id": "rND31ShagbqR"
      }
    },
    {
      "cell_type": "code",
      "source": [
        "train['document'][520]"
      ],
      "metadata": {
        "colab": {
          "base_uri": "https://localhost:8080/",
          "height": 35
        },
        "id": "bxVAhINOyjtp",
        "outputId": "e3b6c7ff-58e2-4127-dfe9-b5e03e21ad62"
      },
      "execution_count": null,
      "outputs": [
        {
          "output_type": "execute_result",
          "data": {
            "text/plain": [
              "'그냥 재미가 없어요....ㅠㅠ'"
            ],
            "application/vnd.google.colaboratory.intrinsic+json": {
              "type": "string"
            }
          },
          "metadata": {},
          "execution_count": 53
        }
      ]
    },
    {
      "cell_type": "code",
      "source": [
        "custom_preprocess(train['document'][520],stop_word)"
      ],
      "metadata": {
        "colab": {
          "base_uri": "https://localhost:8080/",
          "height": 35
        },
        "id": "16VbgNuOycQc",
        "outputId": "4cc25d49-41c2-4e7c-e8f4-ff074dbaaf90"
      },
      "execution_count": null,
      "outputs": [
        {
          "output_type": "execute_result",
          "data": {
            "text/plain": [
              "'그냥 재미가 없어요...<bb>'"
            ],
            "application/vnd.google.colaboratory.intrinsic+json": {
              "type": "string"
            }
          },
          "metadata": {},
          "execution_count": 58
        }
      ]
    },
    {
      "cell_type": "code",
      "source": [
        "import re\n",
        "import numpy as np\n",
        "import emoji\n",
        "\n",
        "\n",
        "def custom_preprocess(text, stop_words=None):\n",
        "  # 1. 입력값 string 확인\n",
        "  if not isinstance(text, str):\n",
        "      return text\n",
        "\n",
        "  # 2. http 링크 제거\n",
        "  text = re.sub(r\"(https?://[^\\s가-힣]*)|(www\\.[^\\s가-힣]*)\", \" \", text)\n",
        "\n",
        "  text = re.sub(r\"g[o]{2,}d+\", \"good\", text, flags=re.IGNORECASE)\n",
        "\n",
        "  happy_words = [\n",
        "    \"good\", \"great\", \"awesome\", \"amazing\", \"fantastic\", \"excellent\",\n",
        "    \"wonderful\", \"fabulous\", \"nice\", \"perfect\", \"superb\", \"brilliant\",\n",
        "    \"love\", \"loved\", \"lovely\", \"enjoyable\", \"cool\", \"best\", \"favorite\", \"incredible\"\n",
        "  ]\n",
        "\n",
        "  bad_words = [\n",
        "    \"bad\", \"awful\", \"terrible\", \"horrible\", \"worst\", \"shit\",\n",
        "    \"sucks\", \"poor\", \"hate\", \"hated\", \"disgusting\", \"dreadful\",\n",
        "    \"lame\", \"crappy\", \"pathetic\", \"boring\", \"disappointing\",\n",
        "    \"annoying\", \"stupid\", \"waste\"\n",
        "  ]\n",
        "\n",
        "  for word in happy_words:\n",
        "    text = re.sub(rf\"\\b{word}\\b\", \"<good>\", text, flags=re.IGNORECASE)\n",
        "    # 부정 단어 → <bad>\n",
        "  for word in bad_words:\n",
        "    text = re.sub(rf\"\\b{word}\\b\", \"<bad>\", text, flags=re.IGNORECASE)\n",
        "\n",
        "  # 3. A급 B급 C급 → 우수 평타 최악\n",
        "  text = text.replace(\"A급\", \"우수\").replace(\"B급\", \"평타\").replace(\"C급\", \"최악\")\n",
        "\n",
        "  # 4. -_- → 지루, ^-^ → 행복\n",
        "  text = text.replace(\"ㄵ\", \"지루\").replace(\"ㄴㅈ\", \"지루\")\n",
        "\n",
        "  profanity_patterns = [\"ㅅㅂ\", \"ㅈㄹ\", \"ㅇㅈㄹ\", \"ㅄ\", \"ㅂㅅ\"]\n",
        "  for word in profanity_patterns:\n",
        "    # 단어 경계로 감싸서 독립된 단어로만 매칭\n",
        "    text = re.sub(rf\"\\b{word}\\b\", \"<profanity>\", text)\n",
        "\n",
        "  for normal_face in [\"-.-\", \"-,-\", \"-_-\",\"--\",\"- -\",\"=_=\"]:\n",
        "    text = text.replace(normal_face, \"<NormalToken>\")\n",
        "  for sad_face in [\"ㅠ.ㅠ\",\"ㅠㅡㅠ\",\"ㅠ,ㅠ\",\"ㅠ_ㅠ\",\"ㅜ.ㅜ\",\"ㅜㅡㅜ\",\"ㅜ,ㅜ\",\"ㅜ_ㅜ\",\"ㅠ ㅠ\",\"ㅜ ㅜ\",\"ㅠ ㅜ\",\"ㅜ ㅠ\"]:\n",
        "    text = text.replace(sad_face, \"<SadToken>\")\n",
        "  # HappyToken\n",
        "  for happy_face in [\"^-^\", \"^.^\", \"^,^\",\"^_^\",\"^^\",\"^ ^\",\"> <\",\">_<\",\">.<\",\">ㅁ<\"]:\n",
        "    text = text.replace(happy_face, \"<HappyToken>\")\n",
        "\n",
        "  text = re.sub(\"-\",\" \", text)\n",
        "\n",
        "  # 5. 숫자 변환\n",
        "  num_map = {\n",
        "    \"1점\": \"일점\", \"2점\": \"이점\", \"3점\": \"삼점\", \"4점\": \"사점\", \"5점\": \"오점\",\n",
        "    \"6점\": \"육점\", \"7점\": \"칠점\", \"8점\": \"팔점\", \"9점\": \"구점\", \"10점\": \"십점\",\n",
        "    \"1개\": \"한개\", \"2개\": \"두개\", \"3개\": \"세개\", \"4개\": \"네개\", \"5개\": \"다섯개\",\n",
        "    \"6개\": \"여섯개\", \"7개\": \"일곱개\", \"8개\": \"여덟개\", \"9개\": \"아홉개\", \"10개\": \"열개\",\n",
        "    \"1위\": \"일위\", \"2위\": \"이위\", \"3위\": \"삼위\", \"4위\": \"사위\", \"5위\": \"오위\",\n",
        "    \"6위\": \"육위\", \"7위\": \"칠위\", \"8위\": \"팔위\", \"9위\": \"구위\", \"10위\": \"십위\",\n",
        "    \"1류\": \"일류\", \"2류\": \"이류\", \"3류\": \"삼류\", \"4류\": \"사류\", \"5류\": \"오류\", \"1등\": \"일등\"\n",
        "}\n",
        "  for k, v in num_map.items():\n",
        "      text = text.replace(k, v)\n",
        "\n",
        "  # 1. 숫자+빠다+붙는글자 제거\n",
        "  text = re.sub(r\"\\d+빠다[가-힣]*\", \"\", text)\n",
        "\n",
        "  # 2. 2등~5등 제거\n",
        "  text = re.sub(r\"[2-5]등\", \"\", text)\n",
        "\n",
        "  text = re.sub(r\"(ㄱㅅ|ㄳ)\", \"감사 \", text)\n",
        "\n",
        "  # 6. ♥ → 최고\n",
        "  text = text.replace(\"♥\", \"최고 \").replace(\"♡\", \"최고 \")\n",
        "  text = emoji.replace_emoji(text, replace=' ')\n",
        "\n",
        "  # 7. ... 처리\n",
        "  text = re.sub(r\"\\.{2,}\", \"... \", text)\n",
        "\n",
        "  # 1. ... → <TRIPLE_DOT>로 임시 치환\n",
        "  text = re.sub(r\"\\.{3}\", \"<TRIPLE_DOT>\", text)\n",
        "\n",
        "  # 2. 나머지 . 제거\n",
        "  text = re.sub(r\"\\.\", \" \", text)\n",
        "\n",
        "  # 3. <TRIPLE_DOT> → ... 복원\n",
        "  text = text.replace(\"<TRIPLE_DOT>\", \"...\")\n",
        "\n",
        "  # 8. ~!?, 연속 → 한 개로\n",
        "  text = re.sub(r\"[~]{2,}\", \"~\", text)\n",
        "  text = re.sub(r\"[!]{2,}\", \"!\", text)\n",
        "  text = re.sub(r\"[?]{2,}\", \"?\", text)\n",
        "\n",
        "  # 1. !? 또는 ?! 반복 패턴 → <wow>로 보호\n",
        "  text = re.sub(r\"(!\\?|!\\?)+|(\\?!|\\?!)+\", \"<wow>\", text)\n",
        "\n",
        "  # 2. !, ?, ~, <wow> 뒤에 공백 추가\n",
        "  text = re.sub(r\"([!?~]|<wow>)\", r\"\\1 \", text)\n",
        "\n",
        "  # 3. <wow> 복원\n",
        "  text = text.replace(\"<wow>\", \"!?\")\n",
        "\n",
        "  # 9. O 연속 → 씨발\n",
        "  text = re.sub(r\"\\S*O{2,}\\S*\", \"<filter> \", text)\n",
        "\n",
        "  # 10. ㅋㅋ 이상 → ㅋㅋ\n",
        "  text = re.sub(r\"ㅋ{2,}\", \"<zz> \", text)\n",
        "  # ㅎㅎ 이상 → ㅎㅎ\n",
        "  text = re.sub(r\"ㅎ{2,}\", \"<HappyToken> \", text)\n",
        "  # ㅠㅠ 이상 → ㅠㅠ\n",
        "  text = re.sub(r\"ㅠ{2,}\", \"<SadToken> \", text)\n",
        "  # ㅜㅜ 이상 → ㅜㅜ\n",
        "  text = re.sub(r\"ㅜ{2,}\", \"<SadToken> \", text)\n",
        "  text = re.sub(r\"(ㅠㅜ|ㅜㅠ)\", \"<SadToken> \", text)\n",
        "\n",
        "  text = re.sub(r\"ㅗ{2,}\", \"<hh> \", text)\n",
        "\n",
        "  text = re.sub(r\"([가-힣])\\1{2,}\", r\"\\1\\1\", text)\n",
        "\n",
        "  text = re.sub(r\";+\", \";\", text)\n",
        "\n",
        "  # 14. stop_words 제거\n",
        "  if stop_word:\n",
        "    for stop in stop_word:\n",
        "      text = re.sub(rf\"\\b{stop}\\b\", \"\", text)\n",
        "\n",
        "  # 15. 특수문자 제거 (허용: 한글, 공백, ~!?...)\n",
        "  num_to_kor = ['영', '일', '이', '삼', '사', '오', '육', '칠', '팔', '구']\n",
        "  tags = list(dict.fromkeys(re.findall(r'<[^<>]*>', text)))\n",
        "  for i, tag in enumerate(tags):\n",
        "    placeholder = f\"태그{num_to_kor[i]}태\"\n",
        "    text = text.replace(tag, placeholder)\n",
        "\n",
        "  text = re.sub(r\"[^가-힣 ~!?;\\.]\", \"\", text)\n",
        "\n",
        "  for i, tag in enumerate(tags):\n",
        "    placeholder = f\"태그{num_to_kor[i]}태\"\n",
        "    text = text.replace(placeholder, tag)\n",
        "\n",
        "  # 16. 공백 여러개 → 하나\n",
        "  text = re.sub(r\"\\s+\", \" \", text).strip()\n",
        "\n",
        "  # 17. 빈 문자열 → np.nan\n",
        "  if text == \"\" or text == \" \":\n",
        "      return np.nan\n",
        "  if not re.search(r\"[가-힣]|<[^<>]+>|^(; ?)+$\", text):\n",
        "    return np.nan\n",
        "\n",
        "  return text"
      ],
      "metadata": {
        "id": "TcTLgnm6teuK"
      },
      "execution_count": null,
      "outputs": []
    },
    {
      "cell_type": "code",
      "source": [
        "special_tokens = [\n",
        "    \"<good>\",\n",
        "    \"<bad>\",\n",
        "    \"<profanity>\",\n",
        "    \"<SadToken>\",\n",
        "    \"<HappyToken>\",\n",
        "    \"<filter>\",\n",
        "    \"<zz>\",\n",
        "    \"<hh>\",\n",
        "    \"<NormalToken>\"\n",
        "]"
      ],
      "metadata": {
        "id": "KGXED5okTJz3"
      },
      "execution_count": null,
      "outputs": []
    },
    {
      "cell_type": "code",
      "source": [
        "train.dropna(inplace=True)"
      ],
      "metadata": {
        "id": "xkksKUKwUvkT"
      },
      "execution_count": null,
      "outputs": []
    },
    {
      "cell_type": "code",
      "source": [
        "train"
      ],
      "metadata": {
        "colab": {
          "base_uri": "https://localhost:8080/",
          "height": 424
        },
        "id": "w-RppqVNeuSk",
        "outputId": "06425aca-48ea-4bb4-c3fa-29421308d595"
      },
      "execution_count": null,
      "outputs": [
        {
          "output_type": "execute_result",
          "data": {
            "text/plain": [
              "              id                                           document  label\n",
              "0        9976970                                아 더빙.. 진짜 짜증나네요 목소리      0\n",
              "1        3819312                  흠...포스터보고 초딩영화줄....오버연기조차 가볍지 않구나      1\n",
              "2       10265843                                  너무재밓었다그래서보는것을추천한다      0\n",
              "3        9045019                      교도소 이야기구먼 ..솔직히 재미는 없다..평점 조정      0\n",
              "4        6483659  사이몬페그의 익살스런 연기가 돋보였던 영화!스파이더맨에서 늙어보이기만 했던 커스틴 ...      1\n",
              "...          ...                                                ...    ...\n",
              "149995   6222902                                인간이 문제지.. 소는 뭔죄인가..      0\n",
              "149996   8549745                                      평점이 너무 낮아서...      1\n",
              "149997   9311800                    이게 뭐요? 한국인은 거들먹거리고 필리핀 혼혈은 착하다?      0\n",
              "149998   2376369                        청춘 영화의 최고봉.방황과 우울했던 날들의 자화상      1\n",
              "149999   9619869                           한국 영화 최초로 수간하는 내용이 담긴 영화      0\n",
              "\n",
              "[149995 rows x 3 columns]"
            ],
            "text/html": [
              "\n",
              "  <div id=\"df-6df92e04-17bb-4314-ba37-ecf750bf139f\" class=\"colab-df-container\">\n",
              "    <div>\n",
              "<style scoped>\n",
              "    .dataframe tbody tr th:only-of-type {\n",
              "        vertical-align: middle;\n",
              "    }\n",
              "\n",
              "    .dataframe tbody tr th {\n",
              "        vertical-align: top;\n",
              "    }\n",
              "\n",
              "    .dataframe thead th {\n",
              "        text-align: right;\n",
              "    }\n",
              "</style>\n",
              "<table border=\"1\" class=\"dataframe\">\n",
              "  <thead>\n",
              "    <tr style=\"text-align: right;\">\n",
              "      <th></th>\n",
              "      <th>id</th>\n",
              "      <th>document</th>\n",
              "      <th>label</th>\n",
              "    </tr>\n",
              "  </thead>\n",
              "  <tbody>\n",
              "    <tr>\n",
              "      <th>0</th>\n",
              "      <td>9976970</td>\n",
              "      <td>아 더빙.. 진짜 짜증나네요 목소리</td>\n",
              "      <td>0</td>\n",
              "    </tr>\n",
              "    <tr>\n",
              "      <th>1</th>\n",
              "      <td>3819312</td>\n",
              "      <td>흠...포스터보고 초딩영화줄....오버연기조차 가볍지 않구나</td>\n",
              "      <td>1</td>\n",
              "    </tr>\n",
              "    <tr>\n",
              "      <th>2</th>\n",
              "      <td>10265843</td>\n",
              "      <td>너무재밓었다그래서보는것을추천한다</td>\n",
              "      <td>0</td>\n",
              "    </tr>\n",
              "    <tr>\n",
              "      <th>3</th>\n",
              "      <td>9045019</td>\n",
              "      <td>교도소 이야기구먼 ..솔직히 재미는 없다..평점 조정</td>\n",
              "      <td>0</td>\n",
              "    </tr>\n",
              "    <tr>\n",
              "      <th>4</th>\n",
              "      <td>6483659</td>\n",
              "      <td>사이몬페그의 익살스런 연기가 돋보였던 영화!스파이더맨에서 늙어보이기만 했던 커스틴 ...</td>\n",
              "      <td>1</td>\n",
              "    </tr>\n",
              "    <tr>\n",
              "      <th>...</th>\n",
              "      <td>...</td>\n",
              "      <td>...</td>\n",
              "      <td>...</td>\n",
              "    </tr>\n",
              "    <tr>\n",
              "      <th>149995</th>\n",
              "      <td>6222902</td>\n",
              "      <td>인간이 문제지.. 소는 뭔죄인가..</td>\n",
              "      <td>0</td>\n",
              "    </tr>\n",
              "    <tr>\n",
              "      <th>149996</th>\n",
              "      <td>8549745</td>\n",
              "      <td>평점이 너무 낮아서...</td>\n",
              "      <td>1</td>\n",
              "    </tr>\n",
              "    <tr>\n",
              "      <th>149997</th>\n",
              "      <td>9311800</td>\n",
              "      <td>이게 뭐요? 한국인은 거들먹거리고 필리핀 혼혈은 착하다?</td>\n",
              "      <td>0</td>\n",
              "    </tr>\n",
              "    <tr>\n",
              "      <th>149998</th>\n",
              "      <td>2376369</td>\n",
              "      <td>청춘 영화의 최고봉.방황과 우울했던 날들의 자화상</td>\n",
              "      <td>1</td>\n",
              "    </tr>\n",
              "    <tr>\n",
              "      <th>149999</th>\n",
              "      <td>9619869</td>\n",
              "      <td>한국 영화 최초로 수간하는 내용이 담긴 영화</td>\n",
              "      <td>0</td>\n",
              "    </tr>\n",
              "  </tbody>\n",
              "</table>\n",
              "<p>149995 rows × 3 columns</p>\n",
              "</div>\n",
              "    <div class=\"colab-df-buttons\">\n",
              "\n",
              "  <div class=\"colab-df-container\">\n",
              "    <button class=\"colab-df-convert\" onclick=\"convertToInteractive('df-6df92e04-17bb-4314-ba37-ecf750bf139f')\"\n",
              "            title=\"Convert this dataframe to an interactive table.\"\n",
              "            style=\"display:none;\">\n",
              "\n",
              "  <svg xmlns=\"http://www.w3.org/2000/svg\" height=\"24px\" viewBox=\"0 -960 960 960\">\n",
              "    <path d=\"M120-120v-720h720v720H120Zm60-500h600v-160H180v160Zm220 220h160v-160H400v160Zm0 220h160v-160H400v160ZM180-400h160v-160H180v160Zm440 0h160v-160H620v160ZM180-180h160v-160H180v160Zm440 0h160v-160H620v160Z\"/>\n",
              "  </svg>\n",
              "    </button>\n",
              "\n",
              "  <style>\n",
              "    .colab-df-container {\n",
              "      display:flex;\n",
              "      gap: 12px;\n",
              "    }\n",
              "\n",
              "    .colab-df-convert {\n",
              "      background-color: #E8F0FE;\n",
              "      border: none;\n",
              "      border-radius: 50%;\n",
              "      cursor: pointer;\n",
              "      display: none;\n",
              "      fill: #1967D2;\n",
              "      height: 32px;\n",
              "      padding: 0 0 0 0;\n",
              "      width: 32px;\n",
              "    }\n",
              "\n",
              "    .colab-df-convert:hover {\n",
              "      background-color: #E2EBFA;\n",
              "      box-shadow: 0px 1px 2px rgba(60, 64, 67, 0.3), 0px 1px 3px 1px rgba(60, 64, 67, 0.15);\n",
              "      fill: #174EA6;\n",
              "    }\n",
              "\n",
              "    .colab-df-buttons div {\n",
              "      margin-bottom: 4px;\n",
              "    }\n",
              "\n",
              "    [theme=dark] .colab-df-convert {\n",
              "      background-color: #3B4455;\n",
              "      fill: #D2E3FC;\n",
              "    }\n",
              "\n",
              "    [theme=dark] .colab-df-convert:hover {\n",
              "      background-color: #434B5C;\n",
              "      box-shadow: 0px 1px 3px 1px rgba(0, 0, 0, 0.15);\n",
              "      filter: drop-shadow(0px 1px 2px rgba(0, 0, 0, 0.3));\n",
              "      fill: #FFFFFF;\n",
              "    }\n",
              "  </style>\n",
              "\n",
              "    <script>\n",
              "      const buttonEl =\n",
              "        document.querySelector('#df-6df92e04-17bb-4314-ba37-ecf750bf139f button.colab-df-convert');\n",
              "      buttonEl.style.display =\n",
              "        google.colab.kernel.accessAllowed ? 'block' : 'none';\n",
              "\n",
              "      async function convertToInteractive(key) {\n",
              "        const element = document.querySelector('#df-6df92e04-17bb-4314-ba37-ecf750bf139f');\n",
              "        const dataTable =\n",
              "          await google.colab.kernel.invokeFunction('convertToInteractive',\n",
              "                                                    [key], {});\n",
              "        if (!dataTable) return;\n",
              "\n",
              "        const docLinkHtml = 'Like what you see? Visit the ' +\n",
              "          '<a target=\"_blank\" href=https://colab.research.google.com/notebooks/data_table.ipynb>data table notebook</a>'\n",
              "          + ' to learn more about interactive tables.';\n",
              "        element.innerHTML = '';\n",
              "        dataTable['output_type'] = 'display_data';\n",
              "        await google.colab.output.renderOutput(dataTable, element);\n",
              "        const docLink = document.createElement('div');\n",
              "        docLink.innerHTML = docLinkHtml;\n",
              "        element.appendChild(docLink);\n",
              "      }\n",
              "    </script>\n",
              "  </div>\n",
              "\n",
              "\n",
              "    <div id=\"df-3d3967b9-464b-4f39-bc13-e4f48e8e6130\">\n",
              "      <button class=\"colab-df-quickchart\" onclick=\"quickchart('df-3d3967b9-464b-4f39-bc13-e4f48e8e6130')\"\n",
              "                title=\"Suggest charts\"\n",
              "                style=\"display:none;\">\n",
              "\n",
              "<svg xmlns=\"http://www.w3.org/2000/svg\" height=\"24px\"viewBox=\"0 0 24 24\"\n",
              "     width=\"24px\">\n",
              "    <g>\n",
              "        <path d=\"M19 3H5c-1.1 0-2 .9-2 2v14c0 1.1.9 2 2 2h14c1.1 0 2-.9 2-2V5c0-1.1-.9-2-2-2zM9 17H7v-7h2v7zm4 0h-2V7h2v10zm4 0h-2v-4h2v4z\"/>\n",
              "    </g>\n",
              "</svg>\n",
              "      </button>\n",
              "\n",
              "<style>\n",
              "  .colab-df-quickchart {\n",
              "      --bg-color: #E8F0FE;\n",
              "      --fill-color: #1967D2;\n",
              "      --hover-bg-color: #E2EBFA;\n",
              "      --hover-fill-color: #174EA6;\n",
              "      --disabled-fill-color: #AAA;\n",
              "      --disabled-bg-color: #DDD;\n",
              "  }\n",
              "\n",
              "  [theme=dark] .colab-df-quickchart {\n",
              "      --bg-color: #3B4455;\n",
              "      --fill-color: #D2E3FC;\n",
              "      --hover-bg-color: #434B5C;\n",
              "      --hover-fill-color: #FFFFFF;\n",
              "      --disabled-bg-color: #3B4455;\n",
              "      --disabled-fill-color: #666;\n",
              "  }\n",
              "\n",
              "  .colab-df-quickchart {\n",
              "    background-color: var(--bg-color);\n",
              "    border: none;\n",
              "    border-radius: 50%;\n",
              "    cursor: pointer;\n",
              "    display: none;\n",
              "    fill: var(--fill-color);\n",
              "    height: 32px;\n",
              "    padding: 0;\n",
              "    width: 32px;\n",
              "  }\n",
              "\n",
              "  .colab-df-quickchart:hover {\n",
              "    background-color: var(--hover-bg-color);\n",
              "    box-shadow: 0 1px 2px rgba(60, 64, 67, 0.3), 0 1px 3px 1px rgba(60, 64, 67, 0.15);\n",
              "    fill: var(--button-hover-fill-color);\n",
              "  }\n",
              "\n",
              "  .colab-df-quickchart-complete:disabled,\n",
              "  .colab-df-quickchart-complete:disabled:hover {\n",
              "    background-color: var(--disabled-bg-color);\n",
              "    fill: var(--disabled-fill-color);\n",
              "    box-shadow: none;\n",
              "  }\n",
              "\n",
              "  .colab-df-spinner {\n",
              "    border: 2px solid var(--fill-color);\n",
              "    border-color: transparent;\n",
              "    border-bottom-color: var(--fill-color);\n",
              "    animation:\n",
              "      spin 1s steps(1) infinite;\n",
              "  }\n",
              "\n",
              "  @keyframes spin {\n",
              "    0% {\n",
              "      border-color: transparent;\n",
              "      border-bottom-color: var(--fill-color);\n",
              "      border-left-color: var(--fill-color);\n",
              "    }\n",
              "    20% {\n",
              "      border-color: transparent;\n",
              "      border-left-color: var(--fill-color);\n",
              "      border-top-color: var(--fill-color);\n",
              "    }\n",
              "    30% {\n",
              "      border-color: transparent;\n",
              "      border-left-color: var(--fill-color);\n",
              "      border-top-color: var(--fill-color);\n",
              "      border-right-color: var(--fill-color);\n",
              "    }\n",
              "    40% {\n",
              "      border-color: transparent;\n",
              "      border-right-color: var(--fill-color);\n",
              "      border-top-color: var(--fill-color);\n",
              "    }\n",
              "    60% {\n",
              "      border-color: transparent;\n",
              "      border-right-color: var(--fill-color);\n",
              "    }\n",
              "    80% {\n",
              "      border-color: transparent;\n",
              "      border-right-color: var(--fill-color);\n",
              "      border-bottom-color: var(--fill-color);\n",
              "    }\n",
              "    90% {\n",
              "      border-color: transparent;\n",
              "      border-bottom-color: var(--fill-color);\n",
              "    }\n",
              "  }\n",
              "</style>\n",
              "\n",
              "      <script>\n",
              "        async function quickchart(key) {\n",
              "          const quickchartButtonEl =\n",
              "            document.querySelector('#' + key + ' button');\n",
              "          quickchartButtonEl.disabled = true;  // To prevent multiple clicks.\n",
              "          quickchartButtonEl.classList.add('colab-df-spinner');\n",
              "          try {\n",
              "            const charts = await google.colab.kernel.invokeFunction(\n",
              "                'suggestCharts', [key], {});\n",
              "          } catch (error) {\n",
              "            console.error('Error during call to suggestCharts:', error);\n",
              "          }\n",
              "          quickchartButtonEl.classList.remove('colab-df-spinner');\n",
              "          quickchartButtonEl.classList.add('colab-df-quickchart-complete');\n",
              "        }\n",
              "        (() => {\n",
              "          let quickchartButtonEl =\n",
              "            document.querySelector('#df-3d3967b9-464b-4f39-bc13-e4f48e8e6130 button');\n",
              "          quickchartButtonEl.style.display =\n",
              "            google.colab.kernel.accessAllowed ? 'block' : 'none';\n",
              "        })();\n",
              "      </script>\n",
              "    </div>\n",
              "\n",
              "  <div id=\"id_959afbf3-a001-4be2-b8c3-a1f14319b65e\">\n",
              "    <style>\n",
              "      .colab-df-generate {\n",
              "        background-color: #E8F0FE;\n",
              "        border: none;\n",
              "        border-radius: 50%;\n",
              "        cursor: pointer;\n",
              "        display: none;\n",
              "        fill: #1967D2;\n",
              "        height: 32px;\n",
              "        padding: 0 0 0 0;\n",
              "        width: 32px;\n",
              "      }\n",
              "\n",
              "      .colab-df-generate:hover {\n",
              "        background-color: #E2EBFA;\n",
              "        box-shadow: 0px 1px 2px rgba(60, 64, 67, 0.3), 0px 1px 3px 1px rgba(60, 64, 67, 0.15);\n",
              "        fill: #174EA6;\n",
              "      }\n",
              "\n",
              "      [theme=dark] .colab-df-generate {\n",
              "        background-color: #3B4455;\n",
              "        fill: #D2E3FC;\n",
              "      }\n",
              "\n",
              "      [theme=dark] .colab-df-generate:hover {\n",
              "        background-color: #434B5C;\n",
              "        box-shadow: 0px 1px 3px 1px rgba(0, 0, 0, 0.15);\n",
              "        filter: drop-shadow(0px 1px 2px rgba(0, 0, 0, 0.3));\n",
              "        fill: #FFFFFF;\n",
              "      }\n",
              "    </style>\n",
              "    <button class=\"colab-df-generate\" onclick=\"generateWithVariable('train')\"\n",
              "            title=\"Generate code using this dataframe.\"\n",
              "            style=\"display:none;\">\n",
              "\n",
              "  <svg xmlns=\"http://www.w3.org/2000/svg\" height=\"24px\"viewBox=\"0 0 24 24\"\n",
              "       width=\"24px\">\n",
              "    <path d=\"M7,19H8.4L18.45,9,17,7.55,7,17.6ZM5,21V16.75L18.45,3.32a2,2,0,0,1,2.83,0l1.4,1.43a1.91,1.91,0,0,1,.58,1.4,1.91,1.91,0,0,1-.58,1.4L9.25,21ZM18.45,9,17,7.55Zm-12,3A5.31,5.31,0,0,0,4.9,8.1,5.31,5.31,0,0,0,1,6.5,5.31,5.31,0,0,0,4.9,4.9,5.31,5.31,0,0,0,6.5,1,5.31,5.31,0,0,0,8.1,4.9,5.31,5.31,0,0,0,12,6.5,5.46,5.46,0,0,0,6.5,12Z\"/>\n",
              "  </svg>\n",
              "    </button>\n",
              "    <script>\n",
              "      (() => {\n",
              "      const buttonEl =\n",
              "        document.querySelector('#id_959afbf3-a001-4be2-b8c3-a1f14319b65e button.colab-df-generate');\n",
              "      buttonEl.style.display =\n",
              "        google.colab.kernel.accessAllowed ? 'block' : 'none';\n",
              "\n",
              "      buttonEl.onclick = () => {\n",
              "        google.colab.notebook.generateWithVariable('train');\n",
              "      }\n",
              "      })();\n",
              "    </script>\n",
              "  </div>\n",
              "\n",
              "    </div>\n",
              "  </div>\n"
            ],
            "application/vnd.google.colaboratory.intrinsic+json": {
              "type": "dataframe",
              "variable_name": "train"
            }
          },
          "metadata": {},
          "execution_count": 670
        }
      ]
    },
    {
      "cell_type": "code",
      "source": [
        "train=train[:30000]"
      ],
      "metadata": {
        "id": "zkv0RGdCcEEf"
      },
      "execution_count": null,
      "outputs": []
    },
    {
      "cell_type": "code",
      "source": [
        "test.dropna(inplace=True)"
      ],
      "metadata": {
        "id": "eNZoqp_yeW83"
      },
      "execution_count": null,
      "outputs": []
    },
    {
      "cell_type": "code",
      "source": [
        "test=test[:10000]"
      ],
      "metadata": {
        "id": "1qrJkVdZfSVl"
      },
      "execution_count": null,
      "outputs": []
    },
    {
      "cell_type": "code",
      "source": [
        "total=pd.concat([train,test],axis=0)"
      ],
      "metadata": {
        "id": "DLuS3KGtfbD3"
      },
      "execution_count": null,
      "outputs": []
    },
    {
      "cell_type": "code",
      "source": [
        "total['document2']=total['document'].map(custom_preprocess)"
      ],
      "metadata": {
        "id": "53petsJYfnFr"
      },
      "execution_count": null,
      "outputs": []
    },
    {
      "cell_type": "code",
      "source": [
        "total.to_csv('total2.csv',index=False)"
      ],
      "metadata": {
        "id": "7m6TLfBbQzLD"
      },
      "execution_count": null,
      "outputs": []
    },
    {
      "cell_type": "code",
      "source": [
        "train=total[:149995].copy()\n",
        "test=total[149995:].copy()"
      ],
      "metadata": {
        "id": "4-BFah6OQp-f"
      },
      "execution_count": null,
      "outputs": []
    },
    {
      "cell_type": "code",
      "source": [
        "train=total[:30000].copy()\n",
        "test=total[30000:].copy()"
      ],
      "metadata": {
        "id": "AKhhuTG5op_f"
      },
      "execution_count": null,
      "outputs": []
    },
    {
      "cell_type": "code",
      "source": [
        "train.dropna(inplace=True)\n",
        "test.dropna(inplace=True)"
      ],
      "metadata": {
        "id": "SoK_8SK_pYYH"
      },
      "execution_count": null,
      "outputs": []
    },
    {
      "cell_type": "code",
      "source": [
        "train.isnull().sum()"
      ],
      "metadata": {
        "colab": {
          "base_uri": "https://localhost:8080/",
          "height": 210
        },
        "id": "Fjf4I6yLp4b_",
        "outputId": "79f8f553-afd3-4385-c294-f75335883224"
      },
      "execution_count": null,
      "outputs": [
        {
          "output_type": "execute_result",
          "data": {
            "text/plain": [
              "id              0\n",
              "document        0\n",
              "label           0\n",
              "document2    1144\n",
              "dtype: int64"
            ],
            "text/html": [
              "<div>\n",
              "<style scoped>\n",
              "    .dataframe tbody tr th:only-of-type {\n",
              "        vertical-align: middle;\n",
              "    }\n",
              "\n",
              "    .dataframe tbody tr th {\n",
              "        vertical-align: top;\n",
              "    }\n",
              "\n",
              "    .dataframe thead th {\n",
              "        text-align: right;\n",
              "    }\n",
              "</style>\n",
              "<table border=\"1\" class=\"dataframe\">\n",
              "  <thead>\n",
              "    <tr style=\"text-align: right;\">\n",
              "      <th></th>\n",
              "      <th>0</th>\n",
              "    </tr>\n",
              "  </thead>\n",
              "  <tbody>\n",
              "    <tr>\n",
              "      <th>id</th>\n",
              "      <td>0</td>\n",
              "    </tr>\n",
              "    <tr>\n",
              "      <th>document</th>\n",
              "      <td>0</td>\n",
              "    </tr>\n",
              "    <tr>\n",
              "      <th>label</th>\n",
              "      <td>0</td>\n",
              "    </tr>\n",
              "    <tr>\n",
              "      <th>document2</th>\n",
              "      <td>1144</td>\n",
              "    </tr>\n",
              "  </tbody>\n",
              "</table>\n",
              "</div><br><label><b>dtype:</b> int64</label>"
            ]
          },
          "metadata": {},
          "execution_count": 680
        }
      ]
    },
    {
      "cell_type": "code",
      "source": [
        "def select_label(group):\n",
        "  counts = group.value_counts()\n",
        "  if len(counts) == 1:\n",
        "    return counts.index[0]  # label이 하나만 존재 → 그 값 반환\n",
        "  elif counts[1] > counts[0]:\n",
        "    return 1  # label 1이 더 많으면 1 반환\n",
        "  elif counts[1] < counts[0]:\n",
        "    return 0  # label 0이 더 많으면 0 반환\n",
        "  else:\n",
        "    return random.choice([0,1])  # 동점이면 랜덤 선택\n",
        "\n",
        "# document2 기준으로 groupby 후 label 선택\n",
        "train_re = train.groupby('document2', as_index=False).agg({'label': select_label})\n",
        "test_re = test.groupby('document2', as_index=False).agg({'label' : select_label})"
      ],
      "metadata": {
        "id": "Nwed_7ceofF0"
      },
      "execution_count": null,
      "outputs": []
    },
    {
      "cell_type": "code",
      "source": [
        "def custom_length(text):\n",
        "    # 1. ... → 특수 토큰으로 임시 치환\n",
        "    text = re.sub(r\"\\.{3}\", \"TRIPLE_DOT\", text)\n",
        "\n",
        "    # 2. <...> → 특수 토큰으로 임시 치환\n",
        "    text = re.sub(r\"<[^<>]*>\", \"TAG\", text)\n",
        "\n",
        "    # 3. 특수 토큰 개수 카운트\n",
        "    num_triple_dot = text.count(\"TRIPLE_DOT\")\n",
        "    num_tag = text.count(\"TAG\")\n",
        "\n",
        "    # 4. 임시 토큰 제거 후 나머지 글자 카운트\n",
        "    text_cleaned = text.replace(\"TRIPLE_DOT\", \"\").replace(\"TAG\", \"\")\n",
        "    length_rest = len(text_cleaned)\n",
        "\n",
        "    length_no_space = len(text_cleaned.replace(\" \", \"\"))\n",
        "\n",
        "    if length_no_space == 1:\n",
        "      length_rest=1\n",
        "\n",
        "    # 5. 최종 길이 = 특수토큰 개수 + 나머지 글자 개수\n",
        "    return num_triple_dot + num_tag + length_rest"
      ],
      "metadata": {
        "id": "pHGp4n70qgBq"
      },
      "execution_count": null,
      "outputs": []
    },
    {
      "cell_type": "code",
      "source": [
        "train_re['length']=train_re['document2'].apply(lambda x : custom_length(x))\n",
        "test_re['length']=test_re['document2'].apply(lambda x : custom_length(x))"
      ],
      "metadata": {
        "id": "Arrg5DCwVLbX"
      },
      "execution_count": null,
      "outputs": []
    },
    {
      "cell_type": "code",
      "source": [
        "def analyze_length(train_re):\n",
        "    min_len = train_re['length'].min()\n",
        "    max_len = train_re['length'].max()\n",
        "    mean_len = int(train_re['length'].mean())\n",
        "\n",
        "    print(\"문장의 최단 길이:\", min_len)\n",
        "    print(\"문장의 최장 길이:\", max_len)\n",
        "    print(\"문장의 평균 길이:\", mean_len)\n",
        "\n",
        "    # 각 길이별 count\n",
        "    sentence_length = train_re['length'].value_counts().sort_index()\n",
        "\n",
        "    # 배열 초기화\n",
        "    sentence_length_arr = np.zeros(max_len, dtype=int)\n",
        "    for length, count in sentence_length.items():\n",
        "        sentence_length_arr[length - 1] = count  # index 보정\n",
        "\n",
        "    # 시각화\n",
        "    plt.bar(range(1, max_len + 1), sentence_length_arr, width=1.0)\n",
        "    plt.title(\"Sentence Length Distribution\")\n",
        "    plt.xlabel(\"Sentence Length\")\n",
        "    plt.ylabel(\"Count\")\n",
        "    plt.show()"
      ],
      "metadata": {
        "id": "CJRIitTDrOxP"
      },
      "execution_count": null,
      "outputs": []
    },
    {
      "cell_type": "code",
      "source": [
        "analyze_length(train_re)"
      ],
      "metadata": {
        "colab": {
          "base_uri": "https://localhost:8080/",
          "height": 524
        },
        "id": "Bl39IuY3rRYL",
        "outputId": "f3bc5c41-2757-4605-c137-da16c27bfb4b"
      },
      "execution_count": null,
      "outputs": [
        {
          "output_type": "stream",
          "name": "stdout",
          "text": [
            "문장의 최단 길이: 1\n",
            "문장의 최장 길이: 301\n",
            "문장의 평균 길이: 32\n"
          ]
        },
        {
          "output_type": "display_data",
          "data": {
            "text/plain": [
              "<Figure size 640x480 with 1 Axes>"
            ],
            "image/png": "[encoded data removed]"
          },
          "metadata": {}
        }
      ]
    },
    {
      "cell_type": "code",
      "source": [
        "analyze_length(test_re)"
      ],
      "metadata": {
        "colab": {
          "base_uri": "https://localhost:8080/",
          "height": 524
        },
        "id": "Kmcjz_KErYKT",
        "outputId": "7c1c0145-3623-467c-83de-baa5faeff1cb"
      },
      "execution_count": null,
      "outputs": [
        {
          "output_type": "stream",
          "name": "stdout",
          "text": [
            "문장의 최단 길이: 1\n",
            "문장의 최장 길이: 143\n",
            "문장의 평균 길이: 32\n"
          ]
        },
        {
          "output_type": "display_data",
          "data": {
            "text/plain": [
              "<Figure size 640x480 with 1 Axes>"
            ],
            "image/png": "[encoded data removed]"
          },
          "metadata": {}
        }
      ]
    },
    {
      "cell_type": "code",
      "source": [
        "(train_re['length']>100).sum()/len(train_re)"
      ],
      "metadata": {
        "colab": {
          "base_uri": "https://localhost:8080/"
        },
        "id": "XDbyzwuUVRkr",
        "outputId": "b84a986f-2a11-4060-f2c3-135fd9d675e0"
      },
      "execution_count": null,
      "outputs": [
        {
          "output_type": "execute_result",
          "data": {
            "text/plain": [
              "np.float64(0.0494592004381161)"
            ]
          },
          "metadata": {},
          "execution_count": 59
        }
      ]
    },
    {
      "cell_type": "code",
      "source": [
        "max_len=100"
      ],
      "metadata": {
        "id": "N37jftkDroBp"
      },
      "execution_count": null,
      "outputs": []
    },
    {
      "cell_type": "code",
      "source": [
        "min_len=2"
      ],
      "metadata": {
        "id": "SxApLQHca62D"
      },
      "execution_count": null,
      "outputs": []
    },
    {
      "cell_type": "code",
      "source": [
        "train_re = train_re[(train_re['length'] >= min_len) & (train_re['length'] <= max_len)].reset_index(drop=True)\n",
        "test_re = test_re[(test_re['length'] >= min_len) & (test_re['length'] <= max_len)].reset_index(drop=True)"
      ],
      "metadata": {
        "id": "8Z4Maf7t8mYd"
      },
      "execution_count": null,
      "outputs": []
    },
    {
      "cell_type": "code",
      "source": [
        "from sklearn.model_selection import train_test_split"
      ],
      "metadata": {
        "id": "09bm6i-UsCdP"
      },
      "execution_count": null,
      "outputs": []
    },
    {
      "cell_type": "code",
      "source": [
        "def split_train_valid_df(df, valid_size=0.2, random_state=42):\n",
        "    train_df, valid_df = train_test_split(\n",
        "        df, test_size=valid_size, random_state=random_state, stratify=df['label']\n",
        "    )\n",
        "    return train_df, valid_df"
      ],
      "metadata": {
        "id": "ILM_fWPNd9fp"
      },
      "execution_count": null,
      "outputs": []
    },
    {
      "cell_type": "code",
      "source": [
        "train_df, valid_df = split_train_valid_df(train_re, random_state=42)"
      ],
      "metadata": {
        "id": "GiO5VAISsEY5"
      },
      "execution_count": null,
      "outputs": []
    },
    {
      "cell_type": "code",
      "source": [
        "import sentencepiece as spm\n",
        "import os\n",
        "temp_file = \"./train.temp\"\n",
        "\n",
        "vocab_size = 9000\n",
        "\n",
        "with open(temp_file, 'w') as f:\n",
        "    for row in train_df['document2']:   # 이전에 나왔던 정제했던 corpus를 활용해서 진행해야 합니다.\n",
        "        f.write(str(row) + '\\n')\n",
        "\n",
        "spm.SentencePieceTrainer.Train(\n",
        "    '--input={} --model_prefix=korean_spm --vocab_size={} --user_defined_symbols={} --model_type=bpe'.format(\n",
        "        temp_file,\n",
        "        vocab_size,\n",
        "        ','.join(special_tokens)\n",
        "    )\n",
        ")\n",
        "#위 Train에서  --model_type = unigram이 디폴트 적용되어 있습니다. --model_type = bpe로 옵션을 주어 변경할 수 있습니다."
      ],
      "metadata": {
        "id": "sdOYqLp7ej9W"
      },
      "execution_count": null,
      "outputs": []
    },
    {
      "cell_type": "code",
      "source": [
        "train_re['document2'][500]"
      ],
      "metadata": {
        "colab": {
          "base_uri": "https://localhost:8080/",
          "height": 35
        },
        "id": "rXLHyZxKt8mQ",
        "outputId": "1788211d-db4f-45df-c68f-bda91ca75a4c"
      },
      "execution_count": null,
      "outputs": [
        {
          "output_type": "execute_result",
          "data": {
            "text/plain": [
              "'<zz> 전우치싫어하는 사람 말해라 다 혼줄을 내줄거야'"
            ],
            "application/vnd.google.colaboratory.intrinsic+json": {
              "type": "string"
            }
          },
          "metadata": {},
          "execution_count": 74
        }
      ]
    },
    {
      "cell_type": "code",
      "source": [
        "s = spm.SentencePieceProcessor()\n",
        "s.Load('korean_spm.model')\n",
        "\n",
        "# SentencePiece를 활용한 sentence -> encoding\n",
        "tokensIDs = s.EncodeAsIds(train_re['document2'][700])\n",
        "print(tokensIDs)\n",
        "\n",
        "# SentencePiece를 활용한 sentence -> encoded pieces\n",
        "print(s.SampleEncodeAsPieces(train_re['document2'][700],10, 0.1))\n",
        "\n",
        "# SentencePiece를 활용한 encoding -> sentence 복원\n",
        "print(s.DecodeIds(tokensIDs))"
      ],
      "metadata": {
        "colab": {
          "base_uri": "https://localhost:8080/"
        },
        "id": "zi_UDUnAelqe",
        "outputId": "a696e1e6-45a1-4a4a-d523-9e7227235540"
      },
      "execution_count": null,
      "outputs": [
        {
          "output_type": "stream",
          "name": "stdout",
          "text": [
            "[64, 1459, 7755, 357, 7667, 64]\n",
            "['▁...', '▁어쩌', '란', '▁말이', '냐', '▁...']\n",
            "... 어쩌란 말이냐 ...\n"
          ]
        }
      ]
    },
    {
      "cell_type": "code",
      "source": [
        "def sp_tokenize(s, corpus):\n",
        "  tensor = []\n",
        "\n",
        "  for sen in corpus:\n",
        "      tensor.append(s.EncodeAsIds(sen))\n",
        "\n",
        "  with open(\"./korean_spm.vocab\", 'r') as f:\n",
        "      vocab = f.readlines()\n",
        "\n",
        "  word_index = {}\n",
        "  index_word = {}\n",
        "\n",
        "  for idx, line in enumerate(vocab):\n",
        "      word = line.split(\"\\t\")[0]\n",
        "\n",
        "      word_index.update({word:idx})\n",
        "      index_word.update({idx:word})\n",
        "\n",
        "  tensor = [[9000 if token == 0 else token for token in seq] for seq in tensor]\n",
        "\n",
        "  tensor = tf.keras.preprocessing.sequence.pad_sequences(\n",
        "  tensor,\n",
        "  maxlen=max_len,\n",
        "  padding='post',\n",
        "  truncating='post'\n",
        ")\n",
        "\n",
        "  return tensor, word_index, index_word"
      ],
      "metadata": {
        "id": "fHhcTEGwxn0j"
      },
      "execution_count": null,
      "outputs": []
    },
    {
      "cell_type": "code",
      "source": [
        "train_tf, sword_index, sindex_word = sp_tokenize(s,train_df['document2'])\n",
        "valid_tf, _, _ = sp_tokenize(s,valid_df['document2'])\n",
        "test_tf, _, _ = sp_tokenize(s,test_re['document2'])"
      ],
      "metadata": {
        "id": "paC9e0900nu7"
      },
      "execution_count": null,
      "outputs": []
    },
    {
      "cell_type": "code",
      "source": [
        "train_tf"
      ],
      "metadata": {
        "colab": {
          "base_uri": "https://localhost:8080/"
        },
        "id": "wascXBFAGFxH",
        "outputId": "cb7a4960-277c-40d3-ca14-5bae3df8265f"
      },
      "execution_count": null,
      "outputs": [
        {
          "output_type": "execute_result",
          "data": {
            "text/plain": [
              "array([[ 221,  291,   13, ...,    0,    0,    0],\n",
              "       [ 184,  719,  172, ...,    0,    0,    0],\n",
              "       [  13,   45, 1406, ...,    0,    0,    0],\n",
              "       ...,\n",
              "       [  13,   38, 3553, ...,    0,    0,    0],\n",
              "       [1946,  306, 2947, ...,    0,    0,    0],\n",
              "       [2263,  350,   29, ...,    0,    0,    0]], dtype=int32)"
            ]
          },
          "metadata": {},
          "execution_count": 232
        }
      ]
    },
    {
      "cell_type": "code",
      "source": [
        "BATCH_SIZE = 128\n",
        "\n",
        "train_dataset = tf.data.Dataset.from_tensor_slices((train_tf,\n",
        "    train_df['label']\n",
        ")).shuffle(buffer_size=len(train_df),seed=42).batch(BATCH_SIZE).prefetch(tf.data.AUTOTUNE)\n",
        "\n",
        "valid_dataset = tf.data.Dataset.from_tensor_slices((valid_tf,\n",
        "    valid_df['label']\n",
        ")).batch(BATCH_SIZE).prefetch(tf.data.AUTOTUNE)\n",
        "\n",
        "test_dataset = tf.data.Dataset.from_tensor_slices((test_tf, test_re['label'])).batch(BATCH_SIZE).prefetch(tf.data.AUTOTUNE)"
      ],
      "metadata": {
        "id": "wXkoyWNwdgih"
      },
      "execution_count": null,
      "outputs": []
    },
    {
      "cell_type": "code",
      "source": [
        "from tensorflow.keras.layers import Input, Embedding, Bidirectional, LSTM, Dense, Dropout\n",
        "from tensorflow.keras.models import Model\n",
        "from tensorflow.keras.optimizers import Adam, AdamW\n",
        "\n",
        "lr = 5e-4\n",
        "\n",
        "vocab_size = 9001\n",
        "embedding_dim = 128\n",
        "lstm_units = 64\n",
        "\n",
        "input_ = Input(shape=(None,), name='input')\n",
        "x = Embedding(input_dim=vocab_size, output_dim=embedding_dim, mask_zero=True)(input_)\n",
        "x = Dropout(0.2)(x)\n",
        "\n",
        "# x = LSTM(lstm_units, return_sequences=True)(x)\n",
        "x = LSTM(lstm_units, return_sequences=False)(x)\n",
        "\n",
        "#x = Bidirectional(LSTM(lstm_units, return_sequences=False))(x)\n",
        "#x = Bidirectional(LSTM(lstm_units, return_sequences=False))(x)\n",
        "\n",
        "\n",
        "x = Dropout(0.3)(x)\n",
        "x = Dense(64, activation='relu')(x)\n",
        "x = Dropout(0.3)(x)\n",
        "output = Dense(1, activation='sigmoid')(x)\n",
        "\n",
        "model = Model(inputs=input_, outputs=output)\n",
        "\n",
        "model.compile(optimizer=Adam(learning_rate=lr), loss='binary_crossentropy', metrics=['accuracy'])\n",
        "model.summary()"
      ],
      "metadata": {
        "colab": {
          "base_uri": "https://localhost:8080/",
          "height": 544
        },
        "id": "Gg0FyVN0dSFL",
        "outputId": "6a7db001-1193-4cf5-e377-7fc948b7ab6c"
      },
      "execution_count": null,
      "outputs": [
        {
          "output_type": "display_data",
          "data": {
            "text/plain": [
              "\u001b[1mModel: \"functional_63\"\u001b[0m\n"
            ],
            "text/html": [
              "<pre style=\"white-space:pre;overflow-x:auto;line-height:normal;font-family:Menlo,'DejaVu Sans Mono',consolas,'Courier New',monospace\"><span style=\"font-weight: bold\">Model: \"functional_63\"</span>\n",
              "</pre>\n"
            ]
          },
          "metadata": {}
        },
        {
          "output_type": "display_data",
          "data": {
            "text/plain": [
              "┏━━━━━━━━━━━━━━━━━━━━━┳━━━━━━━━━━━━━━━━━━━┳━━━━━━━━━━━━┳━━━━━━━━━━━━━━━━━━━┓\n",
              "┃\u001b[1m \u001b[0m\u001b[1mLayer (type)       \u001b[0m\u001b[1m \u001b[0m┃\u001b[1m \u001b[0m\u001b[1mOutput Shape     \u001b[0m\u001b[1m \u001b[0m┃\u001b[1m \u001b[0m\u001b[1m   Param #\u001b[0m\u001b[1m \u001b[0m┃\u001b[1m \u001b[0m\u001b[1mConnected to     \u001b[0m\u001b[1m \u001b[0m┃\n",
              "┡━━━━━━━━━━━━━━━━━━━━━╇━━━━━━━━━━━━━━━━━━━╇━━━━━━━━━━━━╇━━━━━━━━━━━━━━━━━━━┩\n",
              "│ input (\u001b[38;5;33mInputLayer\u001b[0m)  │ (\u001b[38;5;45mNone\u001b[0m, \u001b[38;5;45mNone\u001b[0m)      │          \u001b[38;5;34m0\u001b[0m │ -                 │\n",
              "├─────────────────────┼───────────────────┼────────────┼───────────────────┤\n",
              "│ embedding_65        │ (\u001b[38;5;45mNone\u001b[0m, \u001b[38;5;45mNone\u001b[0m, \u001b[38;5;34m128\u001b[0m) │  \u001b[38;5;34m1,152,128\u001b[0m │ input[\u001b[38;5;34m0\u001b[0m][\u001b[38;5;34m0\u001b[0m]       │\n",
              "│ (\u001b[38;5;33mEmbedding\u001b[0m)         │                   │            │                   │\n",
              "├─────────────────────┼───────────────────┼────────────┼───────────────────┤\n",
              "│ dropout_177         │ (\u001b[38;5;45mNone\u001b[0m, \u001b[38;5;45mNone\u001b[0m, \u001b[38;5;34m128\u001b[0m) │          \u001b[38;5;34m0\u001b[0m │ embedding_65[\u001b[38;5;34m0\u001b[0m][\u001b[38;5;34m…\u001b[0m │\n",
              "│ (\u001b[38;5;33mDropout\u001b[0m)           │                   │            │                   │\n",
              "├─────────────────────┼───────────────────┼────────────┼───────────────────┤\n",
              "│ not_equal_63        │ (\u001b[38;5;45mNone\u001b[0m, \u001b[38;5;45mNone\u001b[0m)      │          \u001b[38;5;34m0\u001b[0m │ input[\u001b[38;5;34m0\u001b[0m][\u001b[38;5;34m0\u001b[0m]       │\n",
              "│ (\u001b[38;5;33mNotEqual\u001b[0m)          │                   │            │                   │\n",
              "├─────────────────────┼───────────────────┼────────────┼───────────────────┤\n",
              "│ lstm_85 (\u001b[38;5;33mLSTM\u001b[0m)      │ (\u001b[38;5;45mNone\u001b[0m, \u001b[38;5;34m64\u001b[0m)        │     \u001b[38;5;34m49,408\u001b[0m │ dropout_177[\u001b[38;5;34m0\u001b[0m][\u001b[38;5;34m0\u001b[0m… │\n",
              "│                     │                   │            │ not_equal_63[\u001b[38;5;34m0\u001b[0m][\u001b[38;5;34m…\u001b[0m │\n",
              "├─────────────────────┼───────────────────┼────────────┼───────────────────┤\n",
              "│ dropout_178         │ (\u001b[38;5;45mNone\u001b[0m, \u001b[38;5;34m64\u001b[0m)        │          \u001b[38;5;34m0\u001b[0m │ lstm_85[\u001b[38;5;34m0\u001b[0m][\u001b[38;5;34m0\u001b[0m]     │\n",
              "│ (\u001b[38;5;33mDropout\u001b[0m)           │                   │            │                   │\n",
              "├─────────────────────┼───────────────────┼────────────┼───────────────────┤\n",
              "│ dense_127 (\u001b[38;5;33mDense\u001b[0m)   │ (\u001b[38;5;45mNone\u001b[0m, \u001b[38;5;34m64\u001b[0m)        │      \u001b[38;5;34m4,160\u001b[0m │ dropout_178[\u001b[38;5;34m0\u001b[0m][\u001b[38;5;34m0\u001b[0m] │\n",
              "├─────────────────────┼───────────────────┼────────────┼───────────────────┤\n",
              "│ dropout_179         │ (\u001b[38;5;45mNone\u001b[0m, \u001b[38;5;34m64\u001b[0m)        │          \u001b[38;5;34m0\u001b[0m │ dense_127[\u001b[38;5;34m0\u001b[0m][\u001b[38;5;34m0\u001b[0m]   │\n",
              "│ (\u001b[38;5;33mDropout\u001b[0m)           │                   │            │                   │\n",
              "├─────────────────────┼───────────────────┼────────────┼───────────────────┤\n",
              "│ dense_128 (\u001b[38;5;33mDense\u001b[0m)   │ (\u001b[38;5;45mNone\u001b[0m, \u001b[38;5;34m1\u001b[0m)         │         \u001b[38;5;34m65\u001b[0m │ dropout_179[\u001b[38;5;34m0\u001b[0m][\u001b[38;5;34m0\u001b[0m] │\n",
              "└─────────────────────┴───────────────────┴────────────┴───────────────────┘\n"
            ],
            "text/html": [
              "<pre style=\"white-space:pre;overflow-x:auto;line-height:normal;font-family:Menlo,'DejaVu Sans Mono',consolas,'Courier New',monospace\">┏━━━━━━━━━━━━━━━━━━━━━┳━━━━━━━━━━━━━━━━━━━┳━━━━━━━━━━━━┳━━━━━━━━━━━━━━━━━━━┓\n",
              "┃<span style=\"font-weight: bold\"> Layer (type)        </span>┃<span style=\"font-weight: bold\"> Output Shape      </span>┃<span style=\"font-weight: bold\">    Param # </span>┃<span style=\"font-weight: bold\"> Connected to      </span>┃\n",
              "┡━━━━━━━━━━━━━━━━━━━━━╇━━━━━━━━━━━━━━━━━━━╇━━━━━━━━━━━━╇━━━━━━━━━━━━━━━━━━━┩\n",
              "│ input (<span style=\"color: #0087ff; text-decoration-color: #0087ff\">InputLayer</span>)  │ (<span style=\"color: #00d7ff; text-decoration-color: #00d7ff\">None</span>, <span style=\"color: #00d7ff; text-decoration-color: #00d7ff\">None</span>)      │          <span style=\"color: #00af00; text-decoration-color: #00af00\">0</span> │ -                 │\n",
              "├─────────────────────┼───────────────────┼────────────┼───────────────────┤\n",
              "│ embedding_65        │ (<span style=\"color: #00d7ff; text-decoration-color: #00d7ff\">None</span>, <span style=\"color: #00d7ff; text-decoration-color: #00d7ff\">None</span>, <span style=\"color: #00af00; text-decoration-color: #00af00\">128</span>) │  <span style=\"color: #00af00; text-decoration-color: #00af00\">1,152,128</span> │ input[<span style=\"color: #00af00; text-decoration-color: #00af00\">0</span>][<span style=\"color: #00af00; text-decoration-color: #00af00\">0</span>]       │\n",
              "│ (<span style=\"color: #0087ff; text-decoration-color: #0087ff\">Embedding</span>)         │                   │            │                   │\n",
              "├─────────────────────┼───────────────────┼────────────┼───────────────────┤\n",
              "│ dropout_177         │ (<span style=\"color: #00d7ff; text-decoration-color: #00d7ff\">None</span>, <span style=\"color: #00d7ff; text-decoration-color: #00d7ff\">None</span>, <span style=\"color: #00af00; text-decoration-color: #00af00\">128</span>) │          <span style=\"color: #00af00; text-decoration-color: #00af00\">0</span> │ embedding_65[<span style=\"color: #00af00; text-decoration-color: #00af00\">0</span>][<span style=\"color: #00af00; text-decoration-color: #00af00\">…</span> │\n",
              "│ (<span style=\"color: #0087ff; text-decoration-color: #0087ff\">Dropout</span>)           │                   │            │                   │\n",
              "├─────────────────────┼───────────────────┼────────────┼───────────────────┤\n",
              "│ not_equal_63        │ (<span style=\"color: #00d7ff; text-decoration-color: #00d7ff\">None</span>, <span style=\"color: #00d7ff; text-decoration-color: #00d7ff\">None</span>)      │          <span style=\"color: #00af00; text-decoration-color: #00af00\">0</span> │ input[<span style=\"color: #00af00; text-decoration-color: #00af00\">0</span>][<span style=\"color: #00af00; text-decoration-color: #00af00\">0</span>]       │\n",
              "│ (<span style=\"color: #0087ff; text-decoration-color: #0087ff\">NotEqual</span>)          │                   │            │                   │\n",
              "├─────────────────────┼───────────────────┼────────────┼───────────────────┤\n",
              "│ lstm_85 (<span style=\"color: #0087ff; text-decoration-color: #0087ff\">LSTM</span>)      │ (<span style=\"color: #00d7ff; text-decoration-color: #00d7ff\">None</span>, <span style=\"color: #00af00; text-decoration-color: #00af00\">64</span>)        │     <span style=\"color: #00af00; text-decoration-color: #00af00\">49,408</span> │ dropout_177[<span style=\"color: #00af00; text-decoration-color: #00af00\">0</span>][<span style=\"color: #00af00; text-decoration-color: #00af00\">0</span>… │\n",
              "│                     │                   │            │ not_equal_63[<span style=\"color: #00af00; text-decoration-color: #00af00\">0</span>][<span style=\"color: #00af00; text-decoration-color: #00af00\">…</span> │\n",
              "├─────────────────────┼───────────────────┼────────────┼───────────────────┤\n",
              "│ dropout_178         │ (<span style=\"color: #00d7ff; text-decoration-color: #00d7ff\">None</span>, <span style=\"color: #00af00; text-decoration-color: #00af00\">64</span>)        │          <span style=\"color: #00af00; text-decoration-color: #00af00\">0</span> │ lstm_85[<span style=\"color: #00af00; text-decoration-color: #00af00\">0</span>][<span style=\"color: #00af00; text-decoration-color: #00af00\">0</span>]     │\n",
              "│ (<span style=\"color: #0087ff; text-decoration-color: #0087ff\">Dropout</span>)           │                   │            │                   │\n",
              "├─────────────────────┼───────────────────┼────────────┼───────────────────┤\n",
              "│ dense_127 (<span style=\"color: #0087ff; text-decoration-color: #0087ff\">Dense</span>)   │ (<span style=\"color: #00d7ff; text-decoration-color: #00d7ff\">None</span>, <span style=\"color: #00af00; text-decoration-color: #00af00\">64</span>)        │      <span style=\"color: #00af00; text-decoration-color: #00af00\">4,160</span> │ dropout_178[<span style=\"color: #00af00; text-decoration-color: #00af00\">0</span>][<span style=\"color: #00af00; text-decoration-color: #00af00\">0</span>] │\n",
              "├─────────────────────┼───────────────────┼────────────┼───────────────────┤\n",
              "│ dropout_179         │ (<span style=\"color: #00d7ff; text-decoration-color: #00d7ff\">None</span>, <span style=\"color: #00af00; text-decoration-color: #00af00\">64</span>)        │          <span style=\"color: #00af00; text-decoration-color: #00af00\">0</span> │ dense_127[<span style=\"color: #00af00; text-decoration-color: #00af00\">0</span>][<span style=\"color: #00af00; text-decoration-color: #00af00\">0</span>]   │\n",
              "│ (<span style=\"color: #0087ff; text-decoration-color: #0087ff\">Dropout</span>)           │                   │            │                   │\n",
              "├─────────────────────┼───────────────────┼────────────┼───────────────────┤\n",
              "│ dense_128 (<span style=\"color: #0087ff; text-decoration-color: #0087ff\">Dense</span>)   │ (<span style=\"color: #00d7ff; text-decoration-color: #00d7ff\">None</span>, <span style=\"color: #00af00; text-decoration-color: #00af00\">1</span>)         │         <span style=\"color: #00af00; text-decoration-color: #00af00\">65</span> │ dropout_179[<span style=\"color: #00af00; text-decoration-color: #00af00\">0</span>][<span style=\"color: #00af00; text-decoration-color: #00af00\">0</span>] │\n",
              "└─────────────────────┴───────────────────┴────────────┴───────────────────┘\n",
              "</pre>\n"
            ]
          },
          "metadata": {}
        },
        {
          "output_type": "display_data",
          "data": {
            "text/plain": [
              "\u001b[1m Total params: \u001b[0m\u001b[38;5;34m1,205,761\u001b[0m (4.60 MB)\n"
            ],
            "text/html": [
              "<pre style=\"white-space:pre;overflow-x:auto;line-height:normal;font-family:Menlo,'DejaVu Sans Mono',consolas,'Courier New',monospace\"><span style=\"font-weight: bold\"> Total params: </span><span style=\"color: #00af00; text-decoration-color: #00af00\">1,205,761</span> (4.60 MB)\n",
              "</pre>\n"
            ]
          },
          "metadata": {}
        },
        {
          "output_type": "display_data",
          "data": {
            "text/plain": [
              "\u001b[1m Trainable params: \u001b[0m\u001b[38;5;34m1,205,761\u001b[0m (4.60 MB)\n"
            ],
            "text/html": [
              "<pre style=\"white-space:pre;overflow-x:auto;line-height:normal;font-family:Menlo,'DejaVu Sans Mono',consolas,'Courier New',monospace\"><span style=\"font-weight: bold\"> Trainable params: </span><span style=\"color: #00af00; text-decoration-color: #00af00\">1,205,761</span> (4.60 MB)\n",
              "</pre>\n"
            ]
          },
          "metadata": {}
        },
        {
          "output_type": "display_data",
          "data": {
            "text/plain": [
              "\u001b[1m Non-trainable params: \u001b[0m\u001b[38;5;34m0\u001b[0m (0.00 B)\n"
            ],
            "text/html": [
              "<pre style=\"white-space:pre;overflow-x:auto;line-height:normal;font-family:Menlo,'DejaVu Sans Mono',consolas,'Courier New',monospace\"><span style=\"font-weight: bold\"> Non-trainable params: </span><span style=\"color: #00af00; text-decoration-color: #00af00\">0</span> (0.00 B)\n",
              "</pre>\n"
            ]
          },
          "metadata": {}
        }
      ]
    },
    {
      "cell_type": "code",
      "source": [
        "from tensorflow.keras.callbacks import EarlyStopping, ReduceLROnPlateau"
      ],
      "metadata": {
        "id": "TSI60JeldpjJ"
      },
      "execution_count": null,
      "outputs": []
    },
    {
      "cell_type": "code",
      "source": [
        "early_stop = EarlyStopping(monitor='val_loss', patience=3, restore_best_weights=True, verbose=1)\n",
        "reduce_lr = ReduceLROnPlateau(monitor='val_loss', factor=0.5, patience=2, verbose=1)"
      ],
      "metadata": {
        "id": "rKmM934idssc"
      },
      "execution_count": null,
      "outputs": []
    },
    {
      "cell_type": "code",
      "source": [
        "history = model.fit(\n",
        "    train_dataset,\n",
        "    validation_data=valid_dataset,\n",
        "    epochs=20,\n",
        "    callbacks=[early_stop, reduce_lr]\n",
        ")"
      ],
      "metadata": {
        "colab": {
          "base_uri": "https://localhost:8080/"
        },
        "id": "oX0WXvxQdupp",
        "outputId": "834eaf29-2760-4ffb-a77e-303c4f3e2c37"
      },
      "execution_count": null,
      "outputs": [
        {
          "output_type": "stream",
          "name": "stdout",
          "text": [
            "Epoch 1/20\n",
            "\u001b[1m856/856\u001b[0m \u001b[32m━━━━━━━━━━━━━━━━━━━━\u001b[0m\u001b[37m\u001b[0m \u001b[1m14s\u001b[0m 13ms/step - accuracy: 0.7530 - loss: 0.4952 - val_accuracy: 0.8489 - val_loss: 0.3423 - learning_rate: 5.0000e-04\n",
            "Epoch 2/20\n",
            "\u001b[1m856/856\u001b[0m \u001b[32m━━━━━━━━━━━━━━━━━━━━\u001b[0m\u001b[37m\u001b[0m \u001b[1m11s\u001b[0m 12ms/step - accuracy: 0.8694 - loss: 0.3120 - val_accuracy: 0.8517 - val_loss: 0.3385 - learning_rate: 5.0000e-04\n",
            "Epoch 3/20\n",
            "\u001b[1m856/856\u001b[0m \u001b[32m━━━━━━━━━━━━━━━━━━━━\u001b[0m\u001b[37m\u001b[0m \u001b[1m10s\u001b[0m 12ms/step - accuracy: 0.8816 - loss: 0.2769 - val_accuracy: 0.8496 - val_loss: 0.3498 - learning_rate: 5.0000e-04\n",
            "Epoch 4/20\n",
            "\u001b[1m855/856\u001b[0m \u001b[32m━━━━━━━━━━━━━━━━━━━\u001b[0m\u001b[37m━\u001b[0m \u001b[1m0s\u001b[0m 11ms/step - accuracy: 0.8893 - loss: 0.2545\n",
            "Epoch 4: ReduceLROnPlateau reducing learning rate to 0.0002500000118743628.\n",
            "\u001b[1m856/856\u001b[0m \u001b[32m━━━━━━━━━━━━━━━━━━━━\u001b[0m\u001b[37m\u001b[0m \u001b[1m10s\u001b[0m 12ms/step - accuracy: 0.8892 - loss: 0.2545 - val_accuracy: 0.8510 - val_loss: 0.3582 - learning_rate: 5.0000e-04\n",
            "Epoch 5/20\n",
            "\u001b[1m856/856\u001b[0m \u001b[32m━━━━━━━━━━━━━━━━━━━━\u001b[0m\u001b[37m\u001b[0m \u001b[1m11s\u001b[0m 13ms/step - accuracy: 0.9073 - loss: 0.2158 - val_accuracy: 0.8462 - val_loss: 0.4058 - learning_rate: 2.5000e-04\n",
            "Epoch 5: early stopping\n",
            "Restoring model weights from the end of the best epoch: 2.\n"
          ]
        }
      ]
    },
    {
      "cell_type": "code",
      "source": [
        "model.evaluate(test_dataset) #vocab 9000"
      ],
      "metadata": {
        "colab": {
          "base_uri": "https://localhost:8080/"
        },
        "id": "gliiXF_CJwR0",
        "outputId": "3d9181fd-217c-41a8-98e7-b0ec654b8e01"
      },
      "execution_count": null,
      "outputs": [
        {
          "output_type": "stream",
          "name": "stdout",
          "text": [
            "\u001b[1m360/360\u001b[0m \u001b[32m━━━━━━━━━━━━━━━━━━━━\u001b[0m\u001b[37m\u001b[0m \u001b[1m2s\u001b[0m 5ms/step - accuracy: 0.8496 - loss: 0.3446\n"
          ]
        },
        {
          "output_type": "execute_result",
          "data": {
            "text/plain": [
              "[0.34508010745048523, 0.8510051965713501]"
            ]
          },
          "metadata": {},
          "execution_count": 696
        }
      ]
    },
    {
      "cell_type": "markdown",
      "source": [
        "전처리 하나 안하나 85%인거 보면 강한 시그널만 포착하면 되는 이번 task에서 데이터셋 기준 85가 한계느낌."
      ],
      "metadata": {
        "id": "AdtcYewMTmh8"
      }
    },
    {
      "cell_type": "code",
      "source": [
        "model.evaluate(test_dataset) #vocab 12000"
      ],
      "metadata": {
        "colab": {
          "base_uri": "https://localhost:8080/"
        },
        "id": "Oh1IbP2vdCwX",
        "outputId": "297fca80-ffa4-4851-8aa6-9767b2c7021c"
      },
      "execution_count": null,
      "outputs": [
        {
          "output_type": "stream",
          "name": "stdout",
          "text": [
            "\u001b[1m65/65\u001b[0m \u001b[32m━━━━━━━━━━━━━━━━━━━━\u001b[0m\u001b[37m\u001b[0m \u001b[1m1s\u001b[0m 10ms/step - accuracy: 0.8255 - loss: 0.4003\n"
          ]
        },
        {
          "output_type": "execute_result",
          "data": {
            "text/plain": [
              "[0.4085405468940735, 0.8183916211128235]"
            ]
          },
          "metadata": {},
          "execution_count": 442
        }
      ]
    },
    {
      "cell_type": "code",
      "source": [
        "model.evaluate(test_dataset) #vocab 7000"
      ],
      "metadata": {
        "colab": {
          "base_uri": "https://localhost:8080/"
        },
        "id": "ZdkvRj_5dTJQ",
        "outputId": "8e6c81e4-307f-458a-bc3f-b9d615b355d9"
      },
      "execution_count": null,
      "outputs": [
        {
          "output_type": "stream",
          "name": "stdout",
          "text": [
            "\u001b[1m65/65\u001b[0m \u001b[32m━━━━━━━━━━━━━━━━━━━━\u001b[0m\u001b[37m\u001b[0m \u001b[1m1s\u001b[0m 8ms/step - accuracy: 0.8272 - loss: 0.3942\n"
          ]
        },
        {
          "output_type": "execute_result",
          "data": {
            "text/plain": [
              "[0.402022123336792, 0.8198493719100952]"
            ]
          },
          "metadata": {},
          "execution_count": 463
        }
      ]
    },
    {
      "cell_type": "code",
      "source": [
        "model.evaluate(test_dataset) #vocab 9000 bpe !?"
      ],
      "metadata": {
        "colab": {
          "base_uri": "https://localhost:8080/"
        },
        "id": "6CZfKrDZdy1W",
        "outputId": "8c8beb19-45bc-42a0-dd0c-b38930d15871"
      },
      "execution_count": null,
      "outputs": [
        {
          "output_type": "stream",
          "name": "stdout",
          "text": [
            "\u001b[1m65/65\u001b[0m \u001b[32m━━━━━━━━━━━━━━━━━━━━\u001b[0m\u001b[37m\u001b[0m \u001b[1m0s\u001b[0m 5ms/step - accuracy: 0.8245 - loss: 0.3978\n"
          ]
        },
        {
          "output_type": "execute_result",
          "data": {
            "text/plain": [
              "[0.4021438658237457, 0.8228862881660461]"
            ]
          },
          "metadata": {},
          "execution_count": 472
        }
      ]
    },
    {
      "cell_type": "code",
      "source": [
        "model.evaluate(test_dataset) #vocab 12000 bpe"
      ],
      "metadata": {
        "colab": {
          "base_uri": "https://localhost:8080/"
        },
        "id": "4m_nh9kgeP25",
        "outputId": "b1fea56d-294a-4dc1-fccf-a6b89658673d"
      },
      "execution_count": null,
      "outputs": [
        {
          "output_type": "stream",
          "name": "stdout",
          "text": [
            "\u001b[1m65/65\u001b[0m \u001b[32m━━━━━━━━━━━━━━━━━━━━\u001b[0m\u001b[37m\u001b[0m \u001b[1m0s\u001b[0m 6ms/step - accuracy: 0.8219 - loss: 0.4051\n"
          ]
        },
        {
          "output_type": "execute_result",
          "data": {
            "text/plain": [
              "[0.40881815552711487, 0.8199708461761475]"
            ]
          },
          "metadata": {},
          "execution_count": 481
        }
      ]
    },
    {
      "cell_type": "markdown",
      "source": [
        "bpe가 unigram보다 소폭 오름.\n",
        "gpe 연산이 재현성이 없음."
      ],
      "metadata": {
        "id": "lI2FwLcOeVve"
      }
    },
    {
      "cell_type": "code",
      "source": [
        "sword_index"
      ],
      "metadata": {
        "colab": {
          "base_uri": "https://localhost:8080/"
        },
        "id": "L8SIjIVGe00f",
        "outputId": "320c30a9-969d-4694-c37f-08e1a36660c3"
      },
      "execution_count": null,
      "outputs": [
        {
          "output_type": "execute_result",
          "data": {
            "text/plain": [
              "{'<unk>': 0,\n",
              " '<s>': 1,\n",
              " '</s>': 2,\n",
              " '<good>': 3,\n",
              " '<bad>': 4,\n",
              " '<profanity>': 5,\n",
              " '<SadToken>': 6,\n",
              " '<HappyToken>': 7,\n",
              " '<filter>': 8,\n",
              " '<zz>': 9,\n",
              " '<hh>': 10,\n",
              " '<NormalToken>': 11,\n",
              " '..': 12,\n",
              " '...': 13,\n",
              " '영화': 14,\n",
              " '▁영화': 15,\n",
              " '▁이': 16,\n",
              " '▁아': 17,\n",
              " '▁보': 18,\n",
              " '▁재': 19,\n",
              " '▁그': 20,\n",
              " '▁정': 21,\n",
              " '▁나': 22,\n",
              " '는데': 23,\n",
              " '니다': 24,\n",
              " '너무': 25,\n",
              " '▁없': 26,\n",
              " '▁좋': 27,\n",
              " '▁다': 28,\n",
              " '▁너무': 29,\n",
              " '▁진': 30,\n",
              " '▁감': 31,\n",
              " '▁재미': 32,\n",
              " '▁최': 33,\n",
              " '▁연': 34,\n",
              " '▁사': 35,\n",
              " '▁내': 36,\n",
              " '하고': 37,\n",
              " '▁지': 38,\n",
              " '▁정말': 39,\n",
              " '▁어': 40,\n",
              " '▁안': 41,\n",
              " '▁만': 42,\n",
              " '네요': 43,\n",
              " '▁한': 44,\n",
              " '▁스': 45,\n",
              " '▁시': 46,\n",
              " '▁가': 47,\n",
              " '▁있': 48,\n",
              " '으로': 49,\n",
              " '▁평': 50,\n",
              " '지만': 51,\n",
              " '▁봤': 52,\n",
              " '▁하': 53,\n",
              " '▁기': 54,\n",
              " '▁재밌': 55,\n",
              " '▁진짜': 56,\n",
              " '에서': 57,\n",
              " '▁대': 58,\n",
              " '▁최고': 59,\n",
              " '▁연기': 60,\n",
              " '▁마': 61,\n",
              " '▁전': 62,\n",
              " '▁일': 63,\n",
              " '▁잘': 64,\n",
              " '▁여': 65,\n",
              " '어요': 66,\n",
              " '하는': 67,\n",
              " '▁수': 68,\n",
              " '▁주': 69,\n",
              " '▁평점': 70,\n",
              " '▁모': 71,\n",
              " '▁생': 72,\n",
              " '▁...': 73,\n",
              " '▁않': 74,\n",
              " '▁더': 75,\n",
              " '▁개': 76,\n",
              " '▁배': 77,\n",
              " '드라': 78,\n",
              " '▁오': 79,\n",
              " '▁제': 80,\n",
              " '토리': 81,\n",
              " '이다': 82,\n",
              " '▁인': 83,\n",
              " '드라마': 84,\n",
              " '▁말': 85,\n",
              " '▁무': 86,\n",
              " '습니다': 87,\n",
              " '▁소': 88,\n",
              " '▁스토리': 89,\n",
              " '▁남': 90,\n",
              " '하다': 91,\n",
              " '▁감동': 92,\n",
              " '▁알': 93,\n",
              " '▁본': 94,\n",
              " '▁생각': 95,\n",
              " '▁유': 96,\n",
              " '▁못': 97,\n",
              " '▁미': 98,\n",
              " '▁느': 99,\n",
              " '▁보고': 100,\n",
              " '▁별': 101,\n",
              " '▁자': 102,\n",
              " '▁볼': 103,\n",
              " '들이': 104,\n",
              " '▁지루': 105,\n",
              " '었다': 106,\n",
              " '▁쓰': 107,\n",
              " '▁장': 108,\n",
              " '▁드라마': 109,\n",
              " '까지': 110,\n",
              " '▁그냥': 111,\n",
              " '▁비': 112,\n",
              " '▁역': 113,\n",
              " '▁많': 114,\n",
              " '▁만들': 115,\n",
              " '이라': 116,\n",
              " '하게': 117,\n",
              " '▁작': 118,\n",
              " '▁재미있': 119,\n",
              " '▁우': 120,\n",
              " '▁중': 121,\n",
              " '▁완': 122,\n",
              " '▁공': 123,\n",
              " '보다': 124,\n",
              " '▁배우': 125,\n",
              " '▁감독': 126,\n",
              " '▁부': 127,\n",
              " '▁명': 128,\n",
              " '▁끝': 129,\n",
              " '레기': 130,\n",
              " '▁뭐': 131,\n",
              " '▁내용': 132,\n",
              " '해서': 133,\n",
              " '렇게': 134,\n",
              " '▁년': 135,\n",
              " '▁웃': 136,\n",
              " '같은': 137,\n",
              " '▁애': 138,\n",
              " '▁사람': 139,\n",
              " '면서': 140,\n",
              " '▁사랑': 141,\n",
              " '▁보는': 142,\n",
              " '▁다시': 143,\n",
              " '▁재미없': 144,\n",
              " '▁!': 145,\n",
              " '▁고': 146,\n",
              " '▁쓰레기': 147,\n",
              " '▁조': 148,\n",
              " '다는': 149,\n",
              " '▁반': 150,\n",
              " '액션': 151,\n",
              " '▁되': 152,\n",
              " '▁해': 153,\n",
              " '▁이거': 154,\n",
              " '적인': 155,\n",
              " '▁싶': 156,\n",
              " '▁신': 157,\n",
              " '▁아니': 158,\n",
              " '▁영화를': 159,\n",
              " '지막': 160,\n",
              " '▁저': 161,\n",
              " '▁예': 162,\n",
              " '▁분': 163,\n",
              " '▁시간': 164,\n",
              " '▁처': 165,\n",
              " '보고': 166,\n",
              " '▁실': 167,\n",
              " '▁이건': 168,\n",
              " '▁완전': 169,\n",
              " '▁좋은': 170,\n",
              " '▁봐': 171,\n",
              " '▁매': 172,\n",
              " '▁액션': 173,\n",
              " '▁살': 174,\n",
              " '▁영': 175,\n",
              " '▁마지막': 176,\n",
              " '▁세': 177,\n",
              " '▁봤는데': 178,\n",
              " '▁상': 179,\n",
              " '▁없는': 180,\n",
              " '▁영화가': 181,\n",
              " '으면': 182,\n",
              " '▁작품': 183,\n",
              " '▁눈': 184,\n",
              " '▁최고의': 185,\n",
              " '▁도': 186,\n",
              " '▁좋아': 187,\n",
              " '들의': 188,\n",
              " '라고': 189,\n",
              " '▁난': 190,\n",
              " '▁기대': 191,\n",
              " '▁원': 192,\n",
              " '▁노': 193,\n",
              " '▁내가': 194,\n",
              " '▁이렇게': 195,\n",
              " '하지': 196,\n",
              " '▁바': 197,\n",
              " '▁영화는': 198,\n",
              " '▁일점': 199,\n",
              " '입니다': 200,\n",
              " '▁지금': 201,\n",
              " '▁거': 202,\n",
              " '▁넘': 203,\n",
              " '▁편': 204,\n",
              " '▁것': 205,\n",
              " '▁로': 206,\n",
              " '▁십': 207,\n",
              " '▁성': 208,\n",
              " '▁처음': 209,\n",
              " '세요': 210,\n",
              " '았다': 211,\n",
              " '▁최악': 212,\n",
              " '▁몰': 213,\n",
              " '▁후': 214,\n",
              " '▁있는': 215,\n",
              " '▁결': 216,\n",
              " '▁코': 217,\n",
              " '▁역시': 218,\n",
              " '▁돈': 219,\n",
              " '▁불': 220,\n",
              " '적이': 221,\n",
              " '▁없다': 222,\n",
              " '▁의': 223,\n",
              " '▁죽': 224,\n",
              " '했다': 225,\n",
              " '▁모르': 226,\n",
              " '▁십점': 227,\n",
              " '▁구': 228,\n",
              " '▁멋': 229,\n",
              " '야기': 230,\n",
              " '지는': 231,\n",
              " '▁추': 232,\n",
              " '▁아깝': 233,\n",
              " '▁화': 234,\n",
              " '▁연출': 235,\n",
              " '▁평점이': 236,\n",
              " '▁김': 237,\n",
              " '겠다': 238,\n",
              " '▁이게': 239,\n",
              " '▁한국': 240,\n",
              " '▁할': 241,\n",
              " '다가': 242,\n",
              " '이나': 243,\n",
              " '인공': 244,\n",
              " '▁이런': 245,\n",
              " '▁점': 246,\n",
              " '▁나오': 247,\n",
              " '▁허': 248,\n",
              " '어서': 249,\n",
              " '▁명작': 250,\n",
              " '▁별로': 251,\n",
              " '▁강': 252,\n",
              " '▁심': 253,\n",
              " '인데': 254,\n",
              " '합니다': 255,\n",
              " '▁초': 256,\n",
              " '▁하는': 257,\n",
              " '▁재밌게': 258,\n",
              " '▁극': 259,\n",
              " '▁느낌': 260,\n",
              " '▁현': 261,\n",
              " '▁기억': 262,\n",
              " '▁괜': 263,\n",
              " '▁캐': 264,\n",
              " '들은': 265,\n",
              " '한다': 266,\n",
              " '▁아름': 267,\n",
              " '▁두': 268,\n",
              " '부터': 269,\n",
              " '없는': 270,\n",
              " '라는': 271,\n",
              " '에게': 272,\n",
              " '▁왜': 273,\n",
              " '▁음': 274,\n",
              " '있는': 275,\n",
              " '▁많이': 276,\n",
              " '▁에': 277,\n",
              " '정도': 278,\n",
              " '▁같': 279,\n",
              " '적으로': 280,\n",
              " '▁당': 281,\n",
              " '대로': 282,\n",
              " '▁이영화': 283,\n",
              " '▁따': 284,\n",
              " '▁했': 285,\n",
              " '연기': 286,\n",
              " '▁이야기': 287,\n",
              " '▁짜': 288,\n",
              " '▁꼭': 289,\n",
              " '▁발': 290,\n",
              " '▁만든': 291,\n",
              " '지도': 292,\n",
              " '▁잼': 293,\n",
              " '▁아이': 294,\n",
              " '▁잔': 295,\n",
              " '▁일본': 296,\n",
              " '▁관': 297,\n",
              " '다고': 298,\n",
              " '주는': 299,\n",
              " '되는': 300,\n",
              " '▁아까': 301,\n",
              " '▁울': 302,\n",
              " '▁줄': 303,\n",
              " '▁이해': 304,\n",
              " '▁뭔': 305,\n",
              " '▁엄': 306,\n",
              " '▁요': 307,\n",
              " '▁위': 308,\n",
              " '▁장면': 309,\n",
              " '▁포': 310,\n",
              " '▁~': 311,\n",
              " '을까': 312,\n",
              " '▁여자': 313,\n",
              " '▁좋았': 314,\n",
              " '▁졸': 315,\n",
              " '리는': 316,\n",
              " '하나': 317,\n",
              " '▁없고': 318,\n",
              " '▁공포': 319,\n",
              " '▁유치': 320,\n",
              " '▁동': 321,\n",
              " '사람': 322,\n",
              " '▁하나': 323,\n",
              " '▁괜찮': 324,\n",
              " '▁귀': 325,\n",
              " '▁삼': 326,\n",
              " '▁특': 327,\n",
              " '드는': 328,\n",
              " '▁아깝다': 329,\n",
              " '▁들': 330,\n",
              " '필요': 331,\n",
              " '하기': 332,\n",
              " '▁같은': 333,\n",
              " '만에': 334,\n",
              " '▁가장': 335,\n",
              " '▁보면': 336,\n",
              " '▁?': 337,\n",
              " '▁막': 338,\n",
              " '▁보여': 339,\n",
              " '▁슬': 340,\n",
              " '▁흥': 341,\n",
              " '▁가슴': 342,\n",
              " '▁박': 343,\n",
              " '▁몰입': 344,\n",
              " '▁마음': 345,\n",
              " '배우': 346,\n",
              " '▁힘': 347,\n",
              " '▁애니': 348,\n",
              " '▁걸': 349,\n",
              " '아서': 350,\n",
              " '▁누': 351,\n",
              " '▁아닌': 352,\n",
              " '나는': 353,\n",
              " '없다': 354,\n",
              " '재미': 355,\n",
              " '▁리': 356,\n",
              " '▁서': 357,\n",
              " '인가': 358,\n",
              " '▁반전': 359,\n",
              " '▁볼만': 360,\n",
              " '▁표': 361,\n",
              " '▁긴': 362,\n",
              " '▁말이': 363,\n",
              " '▁인생': 364,\n",
              " '가는': 365,\n",
              " '었는데': 366,\n",
              " '▁낮': 367,\n",
              " '▁소재': 368,\n",
              " '▁계': 369,\n",
              " '▁존': 370,\n",
              " '봐도': 371,\n",
              " '미디': 372,\n",
              " '▁극장': 373,\n",
              " '▁우리': 374,\n",
              " '▁단': 375,\n",
              " '▁방': 376,\n",
              " '였다': 377,\n",
              " '인지': 378,\n",
              " '▁설': 379,\n",
              " '▁솔': 380,\n",
              " '▁결말': 381,\n",
              " '▁근': 382,\n",
              " '▁높': 383,\n",
              " '▁망': 384,\n",
              " '없이': 385,\n",
              " '▁매력': 386,\n",
              " '▁억': 387,\n",
              " '니까': 388,\n",
              " '▁음악': 389,\n",
              " '▁영화다': 390,\n",
              " '▁드': 391,\n",
              " '것도': 392,\n",
              " '▁충': 393,\n",
              " '▁현실': 394,\n",
              " '▁주인공': 395,\n",
              " '▁건': 396,\n",
              " '▁선': 397,\n",
              " '▁남자': 398,\n",
              " '▁만들어': 399,\n",
              " '▁절': 400,\n",
              " '▁참': 401,\n",
              " '구나': 402,\n",
              " '▁그런': 403,\n",
              " '는지': 404,\n",
              " '▁모든': 405,\n",
              " '▁빠': 406,\n",
              " '▁스릴': 407,\n",
              " '▁아무': 408,\n",
              " '릭터': 409,\n",
              " '재밌': 410,\n",
              " '▁이제': 411,\n",
              " '▁짜증': 412,\n",
              " '는다': 413,\n",
              " '▁눈물': 414,\n",
              " '▁솔직': 415,\n",
              " '▁뻔': 416,\n",
              " '다니': 417,\n",
              " '최고': 418,\n",
              " '▁봐도': 419,\n",
              " '▁아직': 420,\n",
              " '▁영상': 421,\n",
              " '▁하고': 422,\n",
              " '스러': 423,\n",
              " '▁짱': 424,\n",
              " '이고': 425,\n",
              " '▁정도': 426,\n",
              " '▁아름다': 427,\n",
              " '었던': 428,\n",
              " '▁머': 429,\n",
              " '메이': 430,\n",
              " '▁한번': 431,\n",
              " '▁순': 432,\n",
              " '▁보기': 433,\n",
              " '▁원작': 434,\n",
              " '▁간': 435,\n",
              " '▁프': 436,\n",
              " '▁보지': 437,\n",
              " '▁추천': 438,\n",
              " '▁;': 439,\n",
              " '▁집': 440,\n",
              " '▁솔직히': 441,\n",
              " '스럽': 442,\n",
              " '아요': 443,\n",
              " '에는': 444,\n",
              " '스터': 445,\n",
              " '▁속': 446,\n",
              " '리고': 447,\n",
              " '하면': 448,\n",
              " '▁달': 449,\n",
              " '▁맞': 450,\n",
              " '▁끝까지': 451,\n",
              " '리즈': 452,\n",
              " '▁대한': 453,\n",
              " '▁필요': 454,\n",
              " '하지만': 455,\n",
              " '▁문': 456,\n",
              " '▁새': 457,\n",
              " '▁적': 458,\n",
              " '▁긴장': 459,\n",
              " '▁많은': 460,\n",
              " '▁캐릭터': 461,\n",
              " '▁돌': 462,\n",
              " '▁공감': 463,\n",
              " '▁여운': 464,\n",
              " '▁욕': 465,\n",
              " '▁아주': 466,\n",
              " '▁게': 467,\n",
              " '나서': 468,\n",
              " '▁개봉': 469,\n",
              " '▁인간': 470,\n",
              " '때문': 471,\n",
              " '려고': 472,\n",
              " '리가': 473,\n",
              " '떨어': 474,\n",
              " '보는': 475,\n",
              " '▁계속': 476,\n",
              " '▁코미디': 477,\n",
              " '▁과': 478,\n",
              " '▁열': 479,\n",
              " '▁올': 480,\n",
              " '나오': 481,\n",
              " '▁이상': 482,\n",
              " '지고': 483,\n",
              " '▁수준': 484,\n",
              " '▁피': 485,\n",
              " '스트': 486,\n",
              " '었음': 487,\n",
              " '▁억지': 488,\n",
              " '▁차': 489,\n",
              " '▁파': 490,\n",
              " '▁호': 491,\n",
              " '▁엄청': 492,\n",
              " '▁갈': 493,\n",
              " '▁엉': 494,\n",
              " '더라': 495,\n",
              " '준다': 496,\n",
              " '▁근데': 497,\n",
              " '▁이걸': 498,\n",
              " '▁배우들': 499,\n",
              " '▁번': 500,\n",
              " '중에': 501,\n",
              " '▁제목': 502,\n",
              " '▁재미도': 503,\n",
              " '▁찍': 504,\n",
              " '▁친': 505,\n",
              " '▁흥미': 506,\n",
              " '▁최악의': 507,\n",
              " '▁몇': 508,\n",
              " '이는': 509,\n",
              " '처럼': 510,\n",
              " '▁전혀': 511,\n",
              " '▁외': 512,\n",
              " '을때': 513,\n",
              " '이지': 514,\n",
              " '▁웃기': 515,\n",
              " '▁듯': 516,\n",
              " '타임': 517,\n",
              " '했던': 518,\n",
              " '▁먹': 519,\n",
              " '밖에': 520,\n",
              " '수록': 521,\n",
              " '▁잔잔': 522,\n",
              " '▁연기력': 523,\n",
              " '▁즐': 524,\n",
              " '다면': 525,\n",
              " '▁대단': 526,\n",
              " '▁레': 527,\n",
              " '된다': 528,\n",
              " '수가': 529,\n",
              " '▁대박': 530,\n",
              " '▁믿': 531,\n",
              " '▁언': 532,\n",
              " '▁출': 533,\n",
              " '▁치': 534,\n",
              " '기도': 535,\n",
              " '는거': 536,\n",
              " '▁뭔가': 537,\n",
              " '▁실망': 538,\n",
              " '▁버': 539,\n",
              " '▁독': 540,\n",
              " '▁받': 541,\n",
              " '▁찾': 542,\n",
              " '▁행': 543,\n",
              " '▁베': 544,\n",
              " '지않': 545,\n",
              " '▁어디': 546,\n",
              " '▁교': 547,\n",
              " '건지': 548,\n",
              " '장면': 549,\n",
              " '▁가족': 550,\n",
              " '▁로맨': 551,\n",
              " '▁전개': 552,\n",
              " '▁영화에': 553,\n",
              " '▁천': 554,\n",
              " '생각': 555,\n",
              " '진짜': 556,\n",
              " '▁보다': 557,\n",
              " '▁재밋': 558,\n",
              " '하네요': 559,\n",
              " '▁긴장감': 560,\n",
              " '▁영화의': 561,\n",
              " '▁재밌다': 562,\n",
              " '▁답': 563,\n",
              " '▁홍': 564,\n",
              " '나라': 565,\n",
              " '▁크': 566,\n",
              " '▁나온': 567,\n",
              " '▁재미있게': 568,\n",
              " '내내': 569,\n",
              " '어도': 570,\n",
              " '이랑': 571,\n",
              " '▁않은': 572,\n",
              " '영화는': 573,\n",
              " '▁경': 574,\n",
              " '▁놀': 575,\n",
              " '▁악': 576,\n",
              " '만들': 577,\n",
              " '보면': 578,\n",
              " '전에': 579,\n",
              " '주고': 580,\n",
              " '▁나도': 581,\n",
              " '▁떨어': 582,\n",
              " '▁오랜': 583,\n",
              " '했는데': 584,\n",
              " '▁시간이': 585,\n",
              " '▁손': 586,\n",
              " '▁헐': 587,\n",
              " '▁제일': 588,\n",
              " '때문에': 589,\n",
              " '▁연기도': 590,\n",
              " '이상': 591,\n",
              " '▁않고': 592,\n",
              " '었어요': 593,\n",
              " '▁떠': 594,\n",
              " '▁메': 595,\n",
              " '▁내내': 596,\n",
              " '▁보게': 597,\n",
              " '▁알바': 598,\n",
              " '▁잼있': 599,\n",
              " '▁제작': 600,\n",
              " '▁시리즈': 601,\n",
              " '▁아름다운': 602,\n",
              " '▁잊': 603,\n",
              " '▁좀': 604,\n",
              " '▁남는': 605,\n",
              " '▁삼류': 606,\n",
              " '▁좋다': 607,\n",
              " '없고': 608,\n",
              " '▁따뜻': 609,\n",
              " '▁세상': 610,\n",
              " '▁아쉬': 611,\n",
              " '▁담': 612,\n",
              " '▁개인': 613,\n",
              " '▁느껴': 614,\n",
              " '▁표현': 615,\n",
              " '주인공': 616,\n",
              " '▁내용이': 617,\n",
              " '▁보고싶': 618,\n",
              " '▁아직도': 619,\n",
              " '▁여운이': 620,\n",
              " '▁굿': 621,\n",
              " '▁막장': 622,\n",
              " '▁부족': 623,\n",
              " '▁내용도': 624,\n",
              " '▁뭘': 625,\n",
              " '라도': 626,\n",
              " '인듯': 627,\n",
              " '적이고': 628,\n",
              " '하면서': 629,\n",
              " '▁감독의': 630,\n",
              " '▁스릴러': 631,\n",
              " '▁봐야': 632,\n",
              " '봤는데': 633,\n",
              " '▁뒤': 634,\n",
              " '▁잠': 635,\n",
              " '▁형': 636,\n",
              " '들도': 637,\n",
              " '만한': 638,\n",
              " '엔딩': 639,\n",
              " '▁정신': 640,\n",
              " '▁중간': 641,\n",
              " '▁제대로': 642,\n",
              " '▁좋았다': 643,\n",
              " '▁싸': 644,\n",
              " '▁질': 645,\n",
              " '들을': 646,\n",
              " '▁만화': 647,\n",
              " '▁통': 648,\n",
              " '▁훌': 649,\n",
              " '같다': 650,\n",
              " '리스': 651,\n",
              " '▁기분': 652,\n",
              " '▁년대': 653,\n",
              " '▁왜이': 654,\n",
              " '▁이유': 655,\n",
              " '▁국': 656,\n",
              " '▁네': 657,\n",
              " '▁앞': 658,\n",
              " '군요': 659,\n",
              " '으나': 660,\n",
              " '해요': 661,\n",
              " '▁멋진': 662,\n",
              " '▁봤다': 663,\n",
              " '▁싶다': 664,\n",
              " '▁아쉽': 665,\n",
              " '▁요즘': 666,\n",
              " '▁얼': 667,\n",
              " '감독': 668,\n",
              " '기는': 669,\n",
              " '성이': 670,\n",
              " '하네': 671,\n",
              " '▁친구': 672,\n",
              " '▁스토리도': 673,\n",
              " '▁복': 674,\n",
              " '▁와': 675,\n",
              " '▁케': 676,\n",
              " '▁탄': 677,\n",
              " '내용': 678,\n",
              " '만큼': 679,\n",
              " '에도': 680,\n",
              " '▁나름': 681,\n",
              " '▁대사': 682,\n",
              " '▁수작': 683,\n",
              " '▁너무나': 684,\n",
              " '▁만드는': 685,\n",
              " '▁모르겠': 686,\n",
              " '▁아까운': 687,\n",
              " '▁아니고': 688,\n",
              " '▁재미없다': 689,\n",
              " '▁절대': 690,\n",
              " '▁훌륭': 691,\n",
              " '▁감독이': 692,\n",
              " '▁보다가': 693,\n",
              " '▁연기가': 694,\n",
              " '▁스토리가': 695,\n",
              " '▁야': 696,\n",
              " '로운': 697,\n",
              " '시간': 698,\n",
              " '▁나와': 699,\n",
              " '▁영화였': 700,\n",
              " '▁지루하고': 701,\n",
              " '▁데': 702,\n",
              " '▁된': 703,\n",
              " '▁목': 704,\n",
              " '레이': 705,\n",
              " '▁노래': 706,\n",
              " '메이션': 707,\n",
              " '영화가': 708,\n",
              " '▁나오는': 709,\n",
              " '▁아니다': 710,\n",
              " '▁봤습니다': 711,\n",
              " '▁영화라고': 712,\n",
              " '▁니': 713,\n",
              " '▁은': 714,\n",
              " '▁카': 715,\n",
              " '▁킬': 716,\n",
              " '▁타': 717,\n",
              " '▁판': 718,\n",
              " '고싶': 719,\n",
              " '▁나는': 720,\n",
              " '▁소름': 721,\n",
              " '▁시작': 722,\n",
              " '▁유쾌': 723,\n",
              " '▁보면서': 724,\n",
              " '▁약': 725,\n",
              " '▁티': 726,\n",
              " '어야': 727,\n",
              " '점이': 728,\n",
              " '▁모습': 729,\n",
              " '▁자체': 730,\n",
              " '이라는': 731,\n",
              " '▁일점도': 732,\n",
              " '던데': 733,\n",
              " '리오': 734,\n",
              " '이가': 735,\n",
              " '진다': 736,\n",
              " '▁나왔': 737,\n",
              " '▁느끼': 738,\n",
              " '▁뻔한': 739,\n",
              " '▁시대': 740,\n",
              " '▁싶은': 741,\n",
              " '▁허접': 742,\n",
              " '았는데': 743,\n",
              " '▁괜찮은': 744,\n",
              " '▁아름답': 745,\n",
              " '▁때': 746,\n",
              " '치는': 747,\n",
              " '▁장난': 748,\n",
              " '▁진심': 749,\n",
              " '▁특히': 750,\n",
              " '스러운': 751,\n",
              " '▁마지막에': 752,\n",
              " '▁걍': 753,\n",
              " '▁디': 754,\n",
              " '▁빼': 755,\n",
              " '▁팔': 756,\n",
              " '대체': 757,\n",
              " '한테': 758,\n",
              " '▁무서': 759,\n",
              " '▁않는': 760,\n",
              " '▁이딴': 761,\n",
              " '▁전쟁': 762,\n",
              " '이라고': 763,\n",
              " '▁아니라': 764,\n",
              " '▁영화입니다': 765,\n",
              " '▁낚': 766,\n",
              " '해도': 767,\n",
              " '▁미국': 768,\n",
              " '▁진정': 769,\n",
              " '▁오랜만에': 770,\n",
              " '▁각': 771,\n",
              " '▁삶': 772,\n",
              " '▁토': 773,\n",
              " '나고': 774,\n",
              " '시길': 775,\n",
              " '▁사실': 776,\n",
              " '▁점수': 777,\n",
              " '▁출연': 778,\n",
              " '▁지루한': 779,\n",
              " '▁옛': 780,\n",
              " '▁흐': 781,\n",
              " '기에': 782,\n",
              " '아니': 783,\n",
              " '에요': 784,\n",
              " '이란': 785,\n",
              " '▁못한': 786,\n",
              " '▁무섭': 787,\n",
              " '▁배경': 788,\n",
              " '▁어린': 789,\n",
              " '▁웃음': 790,\n",
              " '▁만들었': 791,\n",
              " '▁보는내내': 792,\n",
              " '▁날': 793,\n",
              " '럽게': 794,\n",
              " '리지': 795,\n",
              " '보단': 796,\n",
              " '▁당시': 797,\n",
              " '▁제발': 798,\n",
              " '▁좋고': 799,\n",
              " '▁주는': 800,\n",
              " '영화를': 801,\n",
              " '▁영화관': 802,\n",
              " '▁재미가': 803,\n",
              " '▁최고다': 804,\n",
              " '었습니다': 805,\n",
              " '▁또': 806,\n",
              " '▁태': 807,\n",
              " '▁황': 808,\n",
              " '▁희': 809,\n",
              " '기가': 810,\n",
              " '스팅': 811,\n",
              " '없음': 812,\n",
              " '할수': 813,\n",
              " '▁어설': 814,\n",
              " '▁애니메이션': 815,\n",
              " '▁깊': 816,\n",
              " '▁빨': 817,\n",
              " '▁큰': 818,\n",
              " '▁무엇': 819,\n",
              " '▁미친': 820,\n",
              " '▁분위': 821,\n",
              " '▁안타': 822,\n",
              " '▁어릴': 823,\n",
              " '▁없이': 824,\n",
              " '스토리': 825,\n",
              " '▁라': 826,\n",
              " '▁러': 827,\n",
              " '▁산': 828,\n",
              " '▁색': 829,\n",
              " '▁첨': 830,\n",
              " '▁총': 831,\n",
              " '▁확': 832,\n",
              " '나요': 833,\n",
              " '동안': 834,\n",
              " '▁도대체': 835,\n",
              " '▁개인적으로': 836,\n",
              " '난다': 837,\n",
              " '▁인상': 838,\n",
              " '▁추억': 839,\n",
              " '▁보세요': 840,\n",
              " '▁극장에서': 841,\n",
              " '▁모르겠다': 842,\n",
              " '▁갑': 843,\n",
              " '▁궁': 844,\n",
              " '구만': 845,\n",
              " '인줄': 846,\n",
              " '▁강추': 847,\n",
              " '▁주제': 848,\n",
              " '▁행복': 849,\n",
              " '▁보지마': 850,\n",
              " '▁배우들의': 851,\n",
              " '▁팬': 852,\n",
              " '더니': 853,\n",
              " '정이': 854,\n",
              " '학교': 855,\n",
              " '▁귀여': 856,\n",
              " '▁다큐': 857,\n",
              " '▁빠져': 858,\n",
              " '▁힘들': 859,\n",
              " '나리오': 860,\n",
              " '▁로맨스': 861,\n",
              " '▁안되는': 862,\n",
              " '▁이해가': 863,\n",
              " '▁우리나라': 864,\n",
              " '▁깨': 865,\n",
              " '▁싫': 866,\n",
              " '▁양': 867,\n",
              " '거리': 868,\n",
              " '디오': 869,\n",
              " '이네': 870,\n",
              " '있다': 871,\n",
              " '▁봤던': 872,\n",
              " '▁작가': 873,\n",
              " '▁후회': 874,\n",
              " '이지만': 875,\n",
              " '한영화': 876,\n",
              " '▁포스터': 877,\n",
              " '▁한국영화': 878,\n",
              " '▁임': 879,\n",
              " '것이': 880,\n",
              " '▁그렇': 881,\n",
              " '▁누가': 882,\n",
              " '▁살아': 883,\n",
              " '▁엔딩': 884,\n",
              " '▁의미': 885,\n",
              " '▁주연': 886,\n",
              " '▁중국': 887,\n",
              " '▁연기는': 888,\n",
              " '▁재밌어요': 889,\n",
              " '▁왠': 890,\n",
              " '마다': 891,\n",
              " '▁답답': 892,\n",
              " '▁엉성': 893,\n",
              " '▁충분': 894,\n",
              " '▁생각이': 895,\n",
              " '▁물': 896,\n",
              " '▁용': 897,\n",
              " '▁준': 898,\n",
              " '▁청': 899,\n",
              " '감동': 900,\n",
              " '보니': 901,\n",
              " '부분': 902,\n",
              " '아깝': 903,\n",
              " '▁다른': 904,\n",
              " '▁않았': 905,\n",
              " '▁킬링': 906,\n",
              " '▁영화로': 907,\n",
              " '▁식': 908,\n",
              " '▁으': 909,\n",
              " '있고': 910,\n",
              " '점대': 911,\n",
              " '지가': 912,\n",
              " '치고': 913,\n",
              " '한데': 914,\n",
              " '▁안되': 915,\n",
              " '▁오늘': 916,\n",
              " '▁진부': 917,\n",
              " '이네요': 918,\n",
              " '하는데': 919,\n",
              " '▁기억에': 920,\n",
              " '▁이정도': 921,\n",
              " '▁백': 922,\n",
              " '▁브': 923,\n",
              " '▁암': 924,\n",
              " '▁터': 925,\n",
              " '놓고': 926,\n",
              " '성도': 927,\n",
              " '을듯': 928,\n",
              " '▁관객': 929,\n",
              " '▁문제': 930,\n",
              " '▁스타': 931,\n",
              " '▁슬프': 932,\n",
              " '▁신선': 933,\n",
              " '▁실화': 934,\n",
              " '▁어이': 935,\n",
              " '▁없음': 936,\n",
              " '▁초반': 937,\n",
              " '▁영화중': 938,\n",
              " '▁지루함': 939,\n",
              " '▁하나도': 940,\n",
              " '▁좋아하는': 941,\n",
              " '▁꿈': 942,\n",
              " '▁등': 943,\n",
              " '▁변': 944,\n",
              " '▁종': 945,\n",
              " '나게': 946,\n",
              " '인이': 947,\n",
              " '한거': 948,\n",
              " '▁나올': 949,\n",
              " '▁더빙': 950,\n",
              " '▁집중': 951,\n",
              " '▁몰입도': 952,\n",
              " '▁봤어요': 953,\n",
              " '▁시나리오': 954,\n",
              " '▁민': 955,\n",
              " '▁책': 956,\n",
              " '▁함': 957,\n",
              " '당히': 958,\n",
              " '어가': 959,\n",
              " '이버': 960,\n",
              " '좋아': 961,\n",
              " '▁되는': 962,\n",
              " '▁지나': 963,\n",
              " '으로도': 964,\n",
              " '▁재밌는': 965,\n",
              " '▁공포영화': 966,\n",
              " '▁글': 967,\n",
              " '▁낫': 968,\n",
              " '▁패': 969,\n",
              " '▁어색': 970,\n",
              " '▁언제': 971,\n",
              " '▁옛날': 972,\n",
              " '▁감동도': 973,\n",
              " '▁사람들': 974,\n",
              " '▁킬링타임': 975,\n",
              " '▁맘': 976,\n",
              " '▁멜': 977,\n",
              " '▁투': 978,\n",
              " '소리': 979,\n",
              " '작품': 980,\n",
              " '지마': 981,\n",
              " '▁걸작': 982,\n",
              " '▁돌아': 983,\n",
              " '▁예술': 984,\n",
              " '▁완벽': 985,\n",
              " '▁있고': 986,\n",
              " '▁길': 987,\n",
              " '▁범': 988,\n",
              " '▁클': 989,\n",
              " '건가': 990,\n",
              " '나마': 991,\n",
              " '아까': 992,\n",
              " '야지': 993,\n",
              " '해라': 994,\n",
              " '▁부분': 995,\n",
              " '▁순수': 996,\n",
              " '▁역사': 997,\n",
              " '▁졸작': 998,\n",
              " '▁가슴이': 999,\n",
              " ...}"
            ]
          },
          "metadata": {},
          "execution_count": 508
        }
      ]
    },
    {
      "cell_type": "code",
      "source": [
        "!pip install mecab-python3"
      ],
      "metadata": {
        "colab": {
          "base_uri": "https://localhost:8080/"
        },
        "id": "Q_dAmdzELCCE",
        "outputId": "5b167cbe-213b-4b55-d9d7-a8a6dc27895c"
      },
      "execution_count": null,
      "outputs": [
        {
          "output_type": "stream",
          "name": "stdout",
          "text": [
            "Collecting mecab-python3\n",
            "  Downloading mecab_python3-1.0.10-cp311-cp311-manylinux_2_17_x86_64.manylinux2014_x86_64.whl.metadata (6.2 kB)\n",
            "Downloading mecab_python3-1.0.10-cp311-cp311-manylinux_2_17_x86_64.manylinux2014_x86_64.whl (588 kB)\n",
            "\u001b[?25l   \u001b[90m━━━━━━━━━━━━━━━━━━━━━━━━━━━━━━━━━━━━━━━━\u001b[0m \u001b[32m0.0/588.8 kB\u001b[0m \u001b[31m?\u001b[0m eta \u001b[36m-:--:--\u001b[0m\r\u001b[2K   \u001b[91m━━━━━━━━━━━━━━━━━━━━━━━━━━━━━━━━━━━━━━━\u001b[0m\u001b[91m╸\u001b[0m \u001b[32m583.7/588.8 kB\u001b[0m \u001b[31m24.7 MB/s\u001b[0m eta \u001b[36m0:00:01\u001b[0m\r\u001b[2K   \u001b[90m━━━━━━━━━━━━━━━━━━━━━━━━━━━━━━━━━━━━━━━━\u001b[0m \u001b[32m588.8/588.8 kB\u001b[0m \u001b[31m15.6 MB/s\u001b[0m eta \u001b[36m0:00:00\u001b[0m\n",
            "\u001b[?25hInstalling collected packages: mecab-python3\n",
            "Successfully installed mecab-python3-1.0.10\n"
          ]
        }
      ]
    },
    {
      "cell_type": "code",
      "source": [
        "from mecab import MeCab\n",
        "mecab = MeCab()"
      ],
      "metadata": {
        "id": "meIRjqk8gSZx"
      },
      "execution_count": null,
      "outputs": []
    },
    {
      "cell_type": "code",
      "source": [
        "special_tokens"
      ],
      "metadata": {
        "colab": {
          "base_uri": "https://localhost:8080/"
        },
        "id": "QJQCIrywNFNL",
        "outputId": "3ea1da80-15f8-46ea-afdc-c0f563c822d0"
      },
      "execution_count": null,
      "outputs": [
        {
          "output_type": "execute_result",
          "data": {
            "text/plain": [
              "['<good>',\n",
              " '<bad>',\n",
              " '<profanity>',\n",
              " '<SadToken>',\n",
              " '<HappyToken>',\n",
              " '<filter>',\n",
              " '<zz>',\n",
              " '<hh>',\n",
              " '<NormalToken>']"
            ]
          },
          "metadata": {},
          "execution_count": 533
        }
      ]
    },
    {
      "cell_type": "code",
      "source": [
        "special_token_map = {token: str(1000 + i) for i, token in enumerate(special_tokens)}\n",
        "reverse_token_map = {v: k for k, v in special_token_map.items()}\n",
        "\n",
        "def preprocess_special_tokens(text, special_token_map):\n",
        "    for token, num in special_token_map.items():\n",
        "        text = text.replace(token, num)\n",
        "    return text\n",
        "\n",
        "def postprocess_special_tokens(tokens, reverse_token_map):\n",
        "    return [reverse_token_map.get(token, token) for token in tokens]\n",
        "\n",
        "def tokenize(text):\n",
        "    if isinstance(text, str):\n",
        "        preprocessed_text = preprocess_special_tokens(text, special_token_map)\n",
        "        tokens = mecab.morphs(preprocessed_text)\n",
        "\n",
        "        final_tokens = postprocess_special_tokens(tokens, reverse_token_map)\n",
        "\n",
        "        return final_tokens\n",
        "    else:\n",
        "        return []"
      ],
      "metadata": {
        "id": "JMRbd13rM8_y"
      },
      "execution_count": null,
      "outputs": []
    },
    {
      "cell_type": "code",
      "source": [
        "def tokenize2(corpus, tokenizer=None, train=True):  # corpus: Tokenized Sentence's List\n",
        "  if train:\n",
        "    tokenizer = tf.keras.preprocessing.text.Tokenizer(filters='',oov_token='<OOV>')\n",
        "    tokenizer.fit_on_texts(corpus)\n",
        "\n",
        "  tensor = tokenizer.texts_to_sequences(corpus)\n",
        "\n",
        "  tensor = tf.keras.preprocessing.sequence.pad_sequences(\n",
        "  tensor,\n",
        "  maxlen=max_len,\n",
        "  padding='post',\n",
        "  truncating='post'\n",
        ")\n",
        "\n",
        "  return tensor, tokenizer"
      ],
      "metadata": {
        "id": "61w_a7yKLNH6"
      },
      "execution_count": null,
      "outputs": []
    },
    {
      "cell_type": "code",
      "source": [
        "def ko_token(df):\n",
        "  texts=[]\n",
        "  for i in df['document2']:\n",
        "    texts.append(tokenize(i))\n",
        "  return texts"
      ],
      "metadata": {
        "collapsed": true,
        "id": "Po3QPHaWL_G1"
      },
      "execution_count": null,
      "outputs": []
    },
    {
      "cell_type": "code",
      "source": [
        "len(tokenizer.word_index)"
      ],
      "metadata": {
        "colab": {
          "base_uri": "https://localhost:8080/"
        },
        "id": "MxrCQ9MRQyyf",
        "outputId": "103cf2e5-86e2-48b4-fcd4-14e49a8cfdef"
      },
      "execution_count": null,
      "outputs": [
        {
          "output_type": "execute_result",
          "data": {
            "text/plain": [
              "17758"
            ]
          },
          "metadata": {},
          "execution_count": 661
        }
      ]
    },
    {
      "cell_type": "code",
      "source": [
        "train_list=ko_token(train_df)\n",
        "valid_list=ko_token(valid_df)\n",
        "test_list=ko_token(test_re)"
      ],
      "metadata": {
        "id": "6O_Rhn2IO7BX"
      },
      "execution_count": null,
      "outputs": []
    },
    {
      "cell_type": "code",
      "source": [
        "train_tensor, tokenizer = tokenize2(train_list,None,True)\n",
        "valid_tensor, _ = tokenize2(valid_list,tokenizer,False)\n",
        "test_tensor, _ = tokenize2(test_list,tokenizer,False)"
      ],
      "metadata": {
        "id": "fV7IZatIPBIa"
      },
      "execution_count": null,
      "outputs": []
    },
    {
      "cell_type": "code",
      "source": [
        "BATCH_SIZE = 128\n",
        "\n",
        "train_dataset2 = tf.data.Dataset.from_tensor_slices((train_tensor,\n",
        "    train_df['label']\n",
        ")).shuffle(buffer_size=len(train_df),seed=42).batch(BATCH_SIZE).prefetch(tf.data.AUTOTUNE)\n",
        "\n",
        "valid_dataset2 = tf.data.Dataset.from_tensor_slices((valid_tensor,\n",
        "    valid_df['label']\n",
        ")).batch(BATCH_SIZE).prefetch(tf.data.AUTOTUNE)\n",
        "\n",
        "test_dataset2 = tf.data.Dataset.from_tensor_slices((test_tensor, test_re['label'])).batch(BATCH_SIZE).prefetch(tf.data.AUTOTUNE)"
      ],
      "metadata": {
        "id": "cKuDF6ZRN0YE"
      },
      "execution_count": null,
      "outputs": []
    },
    {
      "cell_type": "code",
      "source": [
        "from tensorflow.keras.layers import Input, Embedding, Bidirectional, LSTM, Dense, Dropout\n",
        "from tensorflow.keras.models import Model\n",
        "from tensorflow.keras.optimizers import Adam, AdamW\n",
        "\n",
        "lr = 3e-4\n",
        "\n",
        "vocab_size = 17759\n",
        "embedding_dim = 256\n",
        "lstm_units = 64\n",
        "\n",
        "input_ = Input(shape=(None,), name='input')\n",
        "x = Embedding(input_dim=vocab_size, output_dim=embedding_dim, mask_zero=True)(input_)\n",
        "x = Dropout(0.3)(x)\n",
        "\n",
        "#x = Bidirectional(LSTM(lstm_units, return_sequences=False))(x)\n",
        "#x = Bidirectional(LSTM(lstm_units, return_sequences=False))(x)\n",
        "#x = LSTM(lstm_units, return_sequences=True)(x)\n",
        "x = LSTM(lstm_units, return_sequences=False)(x)\n",
        "\n",
        "x = Dropout(0.3)(x)\n",
        "x = Dense(64, activation='relu')(x)\n",
        "x = Dropout(0.3)(x)\n",
        "output = Dense(1, activation='sigmoid')(x)\n",
        "\n",
        "model2 = Model(inputs=input_, outputs=output)\n",
        "\n",
        "model2.compile(optimizer=AdamW(learning_rate=lr,weight_decay=1e-4), loss='binary_crossentropy', metrics=['accuracy'])\n",
        "model2.summary()"
      ],
      "metadata": {
        "colab": {
          "base_uri": "https://localhost:8080/",
          "height": 544
        },
        "id": "o6KJrbz0NRFT",
        "outputId": "2cffbc28-e9ce-4084-b568-74f90e909dfb"
      },
      "execution_count": null,
      "outputs": [
        {
          "output_type": "display_data",
          "data": {
            "text/plain": [
              "\u001b[1mModel: \"functional_62\"\u001b[0m\n"
            ],
            "text/html": [
              "<pre style=\"white-space:pre;overflow-x:auto;line-height:normal;font-family:Menlo,'DejaVu Sans Mono',consolas,'Courier New',monospace\"><span style=\"font-weight: bold\">Model: \"functional_62\"</span>\n",
              "</pre>\n"
            ]
          },
          "metadata": {}
        },
        {
          "output_type": "display_data",
          "data": {
            "text/plain": [
              "┏━━━━━━━━━━━━━━━━━━━━━┳━━━━━━━━━━━━━━━━━━━┳━━━━━━━━━━━━┳━━━━━━━━━━━━━━━━━━━┓\n",
              "┃\u001b[1m \u001b[0m\u001b[1mLayer (type)       \u001b[0m\u001b[1m \u001b[0m┃\u001b[1m \u001b[0m\u001b[1mOutput Shape     \u001b[0m\u001b[1m \u001b[0m┃\u001b[1m \u001b[0m\u001b[1m   Param #\u001b[0m\u001b[1m \u001b[0m┃\u001b[1m \u001b[0m\u001b[1mConnected to     \u001b[0m\u001b[1m \u001b[0m┃\n",
              "┡━━━━━━━━━━━━━━━━━━━━━╇━━━━━━━━━━━━━━━━━━━╇━━━━━━━━━━━━╇━━━━━━━━━━━━━━━━━━━┩\n",
              "│ input (\u001b[38;5;33mInputLayer\u001b[0m)  │ (\u001b[38;5;45mNone\u001b[0m, \u001b[38;5;45mNone\u001b[0m)      │          \u001b[38;5;34m0\u001b[0m │ -                 │\n",
              "├─────────────────────┼───────────────────┼────────────┼───────────────────┤\n",
              "│ embedding_64        │ (\u001b[38;5;45mNone\u001b[0m, \u001b[38;5;45mNone\u001b[0m, \u001b[38;5;34m256\u001b[0m) │  \u001b[38;5;34m4,546,304\u001b[0m │ input[\u001b[38;5;34m0\u001b[0m][\u001b[38;5;34m0\u001b[0m]       │\n",
              "│ (\u001b[38;5;33mEmbedding\u001b[0m)         │                   │            │                   │\n",
              "├─────────────────────┼───────────────────┼────────────┼───────────────────┤\n",
              "│ dropout_174         │ (\u001b[38;5;45mNone\u001b[0m, \u001b[38;5;45mNone\u001b[0m, \u001b[38;5;34m256\u001b[0m) │          \u001b[38;5;34m0\u001b[0m │ embedding_64[\u001b[38;5;34m0\u001b[0m][\u001b[38;5;34m…\u001b[0m │\n",
              "│ (\u001b[38;5;33mDropout\u001b[0m)           │                   │            │                   │\n",
              "├─────────────────────┼───────────────────┼────────────┼───────────────────┤\n",
              "│ not_equal_62        │ (\u001b[38;5;45mNone\u001b[0m, \u001b[38;5;45mNone\u001b[0m)      │          \u001b[38;5;34m0\u001b[0m │ input[\u001b[38;5;34m0\u001b[0m][\u001b[38;5;34m0\u001b[0m]       │\n",
              "│ (\u001b[38;5;33mNotEqual\u001b[0m)          │                   │            │                   │\n",
              "├─────────────────────┼───────────────────┼────────────┼───────────────────┤\n",
              "│ lstm_84 (\u001b[38;5;33mLSTM\u001b[0m)      │ (\u001b[38;5;45mNone\u001b[0m, \u001b[38;5;34m64\u001b[0m)        │     \u001b[38;5;34m82,176\u001b[0m │ dropout_174[\u001b[38;5;34m0\u001b[0m][\u001b[38;5;34m0\u001b[0m… │\n",
              "│                     │                   │            │ not_equal_62[\u001b[38;5;34m0\u001b[0m][\u001b[38;5;34m…\u001b[0m │\n",
              "├─────────────────────┼───────────────────┼────────────┼───────────────────┤\n",
              "│ dropout_175         │ (\u001b[38;5;45mNone\u001b[0m, \u001b[38;5;34m64\u001b[0m)        │          \u001b[38;5;34m0\u001b[0m │ lstm_84[\u001b[38;5;34m0\u001b[0m][\u001b[38;5;34m0\u001b[0m]     │\n",
              "│ (\u001b[38;5;33mDropout\u001b[0m)           │                   │            │                   │\n",
              "├─────────────────────┼───────────────────┼────────────┼───────────────────┤\n",
              "│ dense_125 (\u001b[38;5;33mDense\u001b[0m)   │ (\u001b[38;5;45mNone\u001b[0m, \u001b[38;5;34m64\u001b[0m)        │      \u001b[38;5;34m4,160\u001b[0m │ dropout_175[\u001b[38;5;34m0\u001b[0m][\u001b[38;5;34m0\u001b[0m] │\n",
              "├─────────────────────┼───────────────────┼────────────┼───────────────────┤\n",
              "│ dropout_176         │ (\u001b[38;5;45mNone\u001b[0m, \u001b[38;5;34m64\u001b[0m)        │          \u001b[38;5;34m0\u001b[0m │ dense_125[\u001b[38;5;34m0\u001b[0m][\u001b[38;5;34m0\u001b[0m]   │\n",
              "│ (\u001b[38;5;33mDropout\u001b[0m)           │                   │            │                   │\n",
              "├─────────────────────┼───────────────────┼────────────┼───────────────────┤\n",
              "│ dense_126 (\u001b[38;5;33mDense\u001b[0m)   │ (\u001b[38;5;45mNone\u001b[0m, \u001b[38;5;34m1\u001b[0m)         │         \u001b[38;5;34m65\u001b[0m │ dropout_176[\u001b[38;5;34m0\u001b[0m][\u001b[38;5;34m0\u001b[0m] │\n",
              "└─────────────────────┴───────────────────┴────────────┴───────────────────┘\n"
            ],
            "text/html": [
              "<pre style=\"white-space:pre;overflow-x:auto;line-height:normal;font-family:Menlo,'DejaVu Sans Mono',consolas,'Courier New',monospace\">┏━━━━━━━━━━━━━━━━━━━━━┳━━━━━━━━━━━━━━━━━━━┳━━━━━━━━━━━━┳━━━━━━━━━━━━━━━━━━━┓\n",
              "┃<span style=\"font-weight: bold\"> Layer (type)        </span>┃<span style=\"font-weight: bold\"> Output Shape      </span>┃<span style=\"font-weight: bold\">    Param # </span>┃<span style=\"font-weight: bold\"> Connected to      </span>┃\n",
              "┡━━━━━━━━━━━━━━━━━━━━━╇━━━━━━━━━━━━━━━━━━━╇━━━━━━━━━━━━╇━━━━━━━━━━━━━━━━━━━┩\n",
              "│ input (<span style=\"color: #0087ff; text-decoration-color: #0087ff\">InputLayer</span>)  │ (<span style=\"color: #00d7ff; text-decoration-color: #00d7ff\">None</span>, <span style=\"color: #00d7ff; text-decoration-color: #00d7ff\">None</span>)      │          <span style=\"color: #00af00; text-decoration-color: #00af00\">0</span> │ -                 │\n",
              "├─────────────────────┼───────────────────┼────────────┼───────────────────┤\n",
              "│ embedding_64        │ (<span style=\"color: #00d7ff; text-decoration-color: #00d7ff\">None</span>, <span style=\"color: #00d7ff; text-decoration-color: #00d7ff\">None</span>, <span style=\"color: #00af00; text-decoration-color: #00af00\">256</span>) │  <span style=\"color: #00af00; text-decoration-color: #00af00\">4,546,304</span> │ input[<span style=\"color: #00af00; text-decoration-color: #00af00\">0</span>][<span style=\"color: #00af00; text-decoration-color: #00af00\">0</span>]       │\n",
              "│ (<span style=\"color: #0087ff; text-decoration-color: #0087ff\">Embedding</span>)         │                   │            │                   │\n",
              "├─────────────────────┼───────────────────┼────────────┼───────────────────┤\n",
              "│ dropout_174         │ (<span style=\"color: #00d7ff; text-decoration-color: #00d7ff\">None</span>, <span style=\"color: #00d7ff; text-decoration-color: #00d7ff\">None</span>, <span style=\"color: #00af00; text-decoration-color: #00af00\">256</span>) │          <span style=\"color: #00af00; text-decoration-color: #00af00\">0</span> │ embedding_64[<span style=\"color: #00af00; text-decoration-color: #00af00\">0</span>][<span style=\"color: #00af00; text-decoration-color: #00af00\">…</span> │\n",
              "│ (<span style=\"color: #0087ff; text-decoration-color: #0087ff\">Dropout</span>)           │                   │            │                   │\n",
              "├─────────────────────┼───────────────────┼────────────┼───────────────────┤\n",
              "│ not_equal_62        │ (<span style=\"color: #00d7ff; text-decoration-color: #00d7ff\">None</span>, <span style=\"color: #00d7ff; text-decoration-color: #00d7ff\">None</span>)      │          <span style=\"color: #00af00; text-decoration-color: #00af00\">0</span> │ input[<span style=\"color: #00af00; text-decoration-color: #00af00\">0</span>][<span style=\"color: #00af00; text-decoration-color: #00af00\">0</span>]       │\n",
              "│ (<span style=\"color: #0087ff; text-decoration-color: #0087ff\">NotEqual</span>)          │                   │            │                   │\n",
              "├─────────────────────┼───────────────────┼────────────┼───────────────────┤\n",
              "│ lstm_84 (<span style=\"color: #0087ff; text-decoration-color: #0087ff\">LSTM</span>)      │ (<span style=\"color: #00d7ff; text-decoration-color: #00d7ff\">None</span>, <span style=\"color: #00af00; text-decoration-color: #00af00\">64</span>)        │     <span style=\"color: #00af00; text-decoration-color: #00af00\">82,176</span> │ dropout_174[<span style=\"color: #00af00; text-decoration-color: #00af00\">0</span>][<span style=\"color: #00af00; text-decoration-color: #00af00\">0</span>… │\n",
              "│                     │                   │            │ not_equal_62[<span style=\"color: #00af00; text-decoration-color: #00af00\">0</span>][<span style=\"color: #00af00; text-decoration-color: #00af00\">…</span> │\n",
              "├─────────────────────┼───────────────────┼────────────┼───────────────────┤\n",
              "│ dropout_175         │ (<span style=\"color: #00d7ff; text-decoration-color: #00d7ff\">None</span>, <span style=\"color: #00af00; text-decoration-color: #00af00\">64</span>)        │          <span style=\"color: #00af00; text-decoration-color: #00af00\">0</span> │ lstm_84[<span style=\"color: #00af00; text-decoration-color: #00af00\">0</span>][<span style=\"color: #00af00; text-decoration-color: #00af00\">0</span>]     │\n",
              "│ (<span style=\"color: #0087ff; text-decoration-color: #0087ff\">Dropout</span>)           │                   │            │                   │\n",
              "├─────────────────────┼───────────────────┼────────────┼───────────────────┤\n",
              "│ dense_125 (<span style=\"color: #0087ff; text-decoration-color: #0087ff\">Dense</span>)   │ (<span style=\"color: #00d7ff; text-decoration-color: #00d7ff\">None</span>, <span style=\"color: #00af00; text-decoration-color: #00af00\">64</span>)        │      <span style=\"color: #00af00; text-decoration-color: #00af00\">4,160</span> │ dropout_175[<span style=\"color: #00af00; text-decoration-color: #00af00\">0</span>][<span style=\"color: #00af00; text-decoration-color: #00af00\">0</span>] │\n",
              "├─────────────────────┼───────────────────┼────────────┼───────────────────┤\n",
              "│ dropout_176         │ (<span style=\"color: #00d7ff; text-decoration-color: #00d7ff\">None</span>, <span style=\"color: #00af00; text-decoration-color: #00af00\">64</span>)        │          <span style=\"color: #00af00; text-decoration-color: #00af00\">0</span> │ dense_125[<span style=\"color: #00af00; text-decoration-color: #00af00\">0</span>][<span style=\"color: #00af00; text-decoration-color: #00af00\">0</span>]   │\n",
              "│ (<span style=\"color: #0087ff; text-decoration-color: #0087ff\">Dropout</span>)           │                   │            │                   │\n",
              "├─────────────────────┼───────────────────┼────────────┼───────────────────┤\n",
              "│ dense_126 (<span style=\"color: #0087ff; text-decoration-color: #0087ff\">Dense</span>)   │ (<span style=\"color: #00d7ff; text-decoration-color: #00d7ff\">None</span>, <span style=\"color: #00af00; text-decoration-color: #00af00\">1</span>)         │         <span style=\"color: #00af00; text-decoration-color: #00af00\">65</span> │ dropout_176[<span style=\"color: #00af00; text-decoration-color: #00af00\">0</span>][<span style=\"color: #00af00; text-decoration-color: #00af00\">0</span>] │\n",
              "└─────────────────────┴───────────────────┴────────────┴───────────────────┘\n",
              "</pre>\n"
            ]
          },
          "metadata": {}
        },
        {
          "output_type": "display_data",
          "data": {
            "text/plain": [
              "\u001b[1m Total params: \u001b[0m\u001b[38;5;34m4,632,705\u001b[0m (17.67 MB)\n"
            ],
            "text/html": [
              "<pre style=\"white-space:pre;overflow-x:auto;line-height:normal;font-family:Menlo,'DejaVu Sans Mono',consolas,'Courier New',monospace\"><span style=\"font-weight: bold\"> Total params: </span><span style=\"color: #00af00; text-decoration-color: #00af00\">4,632,705</span> (17.67 MB)\n",
              "</pre>\n"
            ]
          },
          "metadata": {}
        },
        {
          "output_type": "display_data",
          "data": {
            "text/plain": [
              "\u001b[1m Trainable params: \u001b[0m\u001b[38;5;34m4,632,705\u001b[0m (17.67 MB)\n"
            ],
            "text/html": [
              "<pre style=\"white-space:pre;overflow-x:auto;line-height:normal;font-family:Menlo,'DejaVu Sans Mono',consolas,'Courier New',monospace\"><span style=\"font-weight: bold\"> Trainable params: </span><span style=\"color: #00af00; text-decoration-color: #00af00\">4,632,705</span> (17.67 MB)\n",
              "</pre>\n"
            ]
          },
          "metadata": {}
        },
        {
          "output_type": "display_data",
          "data": {
            "text/plain": [
              "\u001b[1m Non-trainable params: \u001b[0m\u001b[38;5;34m0\u001b[0m (0.00 B)\n"
            ],
            "text/html": [
              "<pre style=\"white-space:pre;overflow-x:auto;line-height:normal;font-family:Menlo,'DejaVu Sans Mono',consolas,'Courier New',monospace\"><span style=\"font-weight: bold\"> Non-trainable params: </span><span style=\"color: #00af00; text-decoration-color: #00af00\">0</span> (0.00 B)\n",
              "</pre>\n"
            ]
          },
          "metadata": {}
        }
      ]
    },
    {
      "cell_type": "code",
      "source": [
        "early_stop = EarlyStopping(monitor='val_loss', patience=3, restore_best_weights=True, verbose=1)\n",
        "reduce_lr = ReduceLROnPlateau(monitor='val_loss', factor=0.5, patience=2, verbose=1)"
      ],
      "metadata": {
        "id": "F6pIVxicQkTi"
      },
      "execution_count": null,
      "outputs": []
    },
    {
      "cell_type": "code",
      "source": [
        "history2 = model2.fit(\n",
        "    train_dataset2,\n",
        "    validation_data=valid_dataset2,\n",
        "    epochs=20,\n",
        "    callbacks=[early_stop, reduce_lr]\n",
        ")"
      ],
      "metadata": {
        "colab": {
          "base_uri": "https://localhost:8080/"
        },
        "id": "LaAX_VnDQnZh",
        "outputId": "407002be-3903-4d64-f7f8-e2ca81c17058"
      },
      "execution_count": null,
      "outputs": [
        {
          "output_type": "stream",
          "name": "stdout",
          "text": [
            "Epoch 1/20\n",
            "\u001b[1m146/146\u001b[0m \u001b[32m━━━━━━━━━━━━━━━━━━━━\u001b[0m\u001b[37m\u001b[0m \u001b[1m5s\u001b[0m 17ms/step - accuracy: 0.5904 - loss: 0.6590 - val_accuracy: 0.8160 - val_loss: 0.4142 - learning_rate: 3.0000e-04\n",
            "Epoch 2/20\n",
            "\u001b[1m146/146\u001b[0m \u001b[32m━━━━━━━━━━━━━━━━━━━━\u001b[0m\u001b[37m\u001b[0m \u001b[1m2s\u001b[0m 14ms/step - accuracy: 0.8453 - loss: 0.3779 - val_accuracy: 0.8384 - val_loss: 0.3706 - learning_rate: 3.0000e-04\n",
            "Epoch 3/20\n",
            "\u001b[1m146/146\u001b[0m \u001b[32m━━━━━━━━━━━━━━━━━━━━\u001b[0m\u001b[37m\u001b[0m \u001b[1m2s\u001b[0m 15ms/step - accuracy: 0.8987 - loss: 0.2700 - val_accuracy: 0.8346 - val_loss: 0.3837 - learning_rate: 3.0000e-04\n",
            "Epoch 4/20\n",
            "\u001b[1m144/146\u001b[0m \u001b[32m━━━━━━━━━━━━━━━━━━━\u001b[0m\u001b[37m━\u001b[0m \u001b[1m0s\u001b[0m 18ms/step - accuracy: 0.9250 - loss: 0.2108\n",
            "Epoch 4: ReduceLROnPlateau reducing learning rate to 0.0001500000071246177.\n",
            "\u001b[1m146/146\u001b[0m \u001b[32m━━━━━━━━━━━━━━━━━━━━\u001b[0m\u001b[37m\u001b[0m \u001b[1m3s\u001b[0m 20ms/step - accuracy: 0.9249 - loss: 0.2109 - val_accuracy: 0.8324 - val_loss: 0.4066 - learning_rate: 3.0000e-04\n",
            "Epoch 5/20\n",
            "\u001b[1m146/146\u001b[0m \u001b[32m━━━━━━━━━━━━━━━━━━━━\u001b[0m\u001b[37m\u001b[0m \u001b[1m2s\u001b[0m 13ms/step - accuracy: 0.9449 - loss: 0.1653 - val_accuracy: 0.8270 - val_loss: 0.4617 - learning_rate: 1.5000e-04\n",
            "Epoch 5: early stopping\n",
            "Restoring model weights from the end of the best epoch: 2.\n"
          ]
        }
      ]
    },
    {
      "cell_type": "code",
      "source": [
        "model2.evaluate(test_dataset2)"
      ],
      "metadata": {
        "colab": {
          "base_uri": "https://localhost:8080/"
        },
        "id": "uYs4RAHHSYnj",
        "outputId": "4f19fbd6-12a2-498e-a6f7-6a73eca52654"
      },
      "execution_count": null,
      "outputs": [
        {
          "output_type": "stream",
          "name": "stdout",
          "text": [
            "\u001b[1m61/61\u001b[0m \u001b[32m━━━━━━━━━━━━━━━━━━━━\u001b[0m\u001b[37m\u001b[0m \u001b[1m0s\u001b[0m 5ms/step - accuracy: 0.8277 - loss: 0.3814\n"
          ]
        },
        {
          "output_type": "execute_result",
          "data": {
            "text/plain": [
              "[0.38503676652908325, 0.8279653191566467]"
            ]
          },
          "metadata": {},
          "execution_count": 666
        }
      ]
    },
    {
      "cell_type": "code",
      "source": [
        "model2.evaluate(test_dataset2)"
      ],
      "metadata": {
        "colab": {
          "base_uri": "https://localhost:8080/"
        },
        "id": "dW9FUJUt2-WG",
        "outputId": "9ca1aff6-dc94-40b0-b6bf-fa2949a111ab"
      },
      "execution_count": null,
      "outputs": [
        {
          "output_type": "stream",
          "name": "stdout",
          "text": [
            "\u001b[1m73/73\u001b[0m \u001b[32m━━━━━━━━━━━━━━━━━━━━\u001b[0m\u001b[37m\u001b[0m \u001b[1m1s\u001b[0m 12ms/step - accuracy: 0.8347 - loss: 0.3812\n"
          ]
        },
        {
          "output_type": "execute_result",
          "data": {
            "text/plain": [
              "[0.3832939565181732, 0.8308586478233337]"
            ]
          },
          "metadata": {},
          "execution_count": 599
        }
      ]
    },
    {
      "cell_type": "code",
      "source": [
        "tokenizer.word_index['<OOV>']"
      ],
      "metadata": {
        "colab": {
          "base_uri": "https://localhost:8080/"
        },
        "id": "xfOHCkfISsel",
        "outputId": "53715d34-81b1-403e-f47b-a4d49d221190"
      },
      "execution_count": null,
      "outputs": [
        {
          "output_type": "execute_result",
          "data": {
            "text/plain": [
              "1"
            ]
          },
          "metadata": {},
          "execution_count": 319
        }
      ]
    },
    {
      "cell_type": "code",
      "source": [
        "valid_oov_count = np.sum(valid_tensor == 1)\n",
        "test_oov_count = np.sum(test_tensor == 1)\n",
        "\n",
        "# 전체 token 개수 (option 1: 모든 token 기준)\n",
        "valid_total_tokens = np.prod(valid_tensor.shape)\n",
        "test_total_tokens = np.prod(test_tensor.shape)\n",
        "\n",
        "# 또는 샘플 수 기준으로 정규화 (option 2: 샘플 기준)\n",
        "valid_sample_count = valid_tensor.shape[0]\n",
        "test_sample_count = test_tensor.shape[0]\n",
        "\n",
        "# 비율 계산\n",
        "valid_oov_ratio = valid_oov_count / valid_total_tokens\n",
        "test_oov_ratio = test_oov_count / test_total_tokens\n",
        "\n",
        "valid_oov_per_sample = valid_oov_count / valid_sample_count\n",
        "test_oov_per_sample = test_oov_count / test_sample_count\n",
        "\n",
        "print(f\"✅ Validation OOV count: {valid_oov_count}\")\n",
        "print(f\"✅ Validation OOV ratio (tokens): {valid_oov_ratio:.4f}\")\n",
        "print(f\"✅ Validation OOV per sample: {valid_oov_per_sample:.2f}\")\n",
        "\n",
        "print(f\"✅ Test OOV count: {test_oov_count}\")\n",
        "print(f\"✅ Test OOV ratio (tokens): {test_oov_ratio:.4f}\")\n",
        "print(f\"✅ Test OOV per sample: {test_oov_per_sample:.2f}\")"
      ],
      "metadata": {
        "colab": {
          "base_uri": "https://localhost:8080/"
        },
        "id": "_4YXa37GTB87",
        "outputId": "8b5965f2-334c-48ea-8d4e-a235147298fd"
      },
      "execution_count": null,
      "outputs": [
        {
          "output_type": "stream",
          "name": "stdout",
          "text": [
            "✅ Validation OOV count: 2407\n",
            "✅ Validation OOV ratio (tokens): 0.0049\n",
            "✅ Validation OOV per sample: 0.49\n",
            "✅ Test OOV count: 3896\n",
            "✅ Test OOV ratio (tokens): 0.0047\n",
            "✅ Test OOV per sample: 0.47\n"
          ]
        }
      ]
    },
    {
      "cell_type": "markdown",
      "source": [
        "#3.fasttext"
      ],
      "metadata": {
        "id": "JhRt7Y3ZkueR"
      }
    },
    {
      "cell_type": "code",
      "source": [
        "!wget https://dl.fbaipublicfiles.com/fasttext/vectors-crawl/cc.ko.300.bin.gz\n",
        "!gunzip cc.ko.300.bin.gz"
      ],
      "metadata": {
        "colab": {
          "base_uri": "https://localhost:8080/"
        },
        "id": "7L5wf7aIkwU6",
        "outputId": "fe20a5c7-dfd7-4901-fe91-0b72590ced1f"
      },
      "execution_count": null,
      "outputs": [
        {
          "output_type": "stream",
          "name": "stdout",
          "text": [
            "--2025-05-09 05:44:44--  https://dl.fbaipublicfiles.com/fasttext/vectors-crawl/cc.ko.300.bin.gz\n",
            "Resolving dl.fbaipublicfiles.com (dl.fbaipublicfiles.com)... 13.227.219.33, 13.227.219.70, 13.227.219.10, ...\n",
            "Connecting to dl.fbaipublicfiles.com (dl.fbaipublicfiles.com)|13.227.219.33|:443... connected.\n",
            "HTTP request sent, awaiting response... 200 OK\n",
            "Length: 4486458164 (4.2G) [application/octet-stream]\n",
            "Saving to: ‘cc.ko.300.bin.gz’\n",
            "\n",
            "cc.ko.300.bin.gz    100%[===================>]   4.18G  25.5MB/s    in 5m 43s  \n",
            "\n",
            "2025-05-09 05:50:28 (12.5 MB/s) - ‘cc.ko.300.bin.gz’ saved [4486458164/4486458164]\n",
            "\n"
          ]
        }
      ]
    },
    {
      "cell_type": "code",
      "source": [
        "!pip install fasttext"
      ],
      "metadata": {
        "colab": {
          "base_uri": "https://localhost:8080/"
        },
        "id": "ezre0my-lOT7",
        "outputId": "48c927ed-61e9-4f28-9854-2665086e32ce"
      },
      "execution_count": null,
      "outputs": [
        {
          "output_type": "stream",
          "name": "stdout",
          "text": [
            "Collecting fasttext\n",
            "  Downloading fasttext-0.9.3.tar.gz (73 kB)\n",
            "\u001b[?25l     \u001b[90m━━━━━━━━━━━━━━━━━━━━━━━━━━━━━━━━━━━━━━━━\u001b[0m \u001b[32m0.0/73.4 kB\u001b[0m \u001b[31m?\u001b[0m eta \u001b[36m-:--:--\u001b[0m\r\u001b[2K     \u001b[90m━━━━━━━━━━━━━━━━━━━━━━━━━━━━━━━━━━━━━━━━\u001b[0m \u001b[32m73.4/73.4 kB\u001b[0m \u001b[31m4.5 MB/s\u001b[0m eta \u001b[36m0:00:00\u001b[0m\n",
            "\u001b[?25h  Installing build dependencies ... \u001b[?25l\u001b[?25hdone\n",
            "  Getting requirements to build wheel ... \u001b[?25l\u001b[?25hdone\n",
            "  Preparing metadata (pyproject.toml) ... \u001b[?25l\u001b[?25hdone\n",
            "Collecting pybind11>=2.2 (from fasttext)\n",
            "  Using cached pybind11-2.13.6-py3-none-any.whl.metadata (9.5 kB)\n",
            "Requirement already satisfied: setuptools>=0.7.0 in /usr/local/lib/python3.11/dist-packages (from fasttext) (75.2.0)\n",
            "Requirement already satisfied: numpy in /usr/local/lib/python3.11/dist-packages (from fasttext) (1.26.4)\n",
            "Using cached pybind11-2.13.6-py3-none-any.whl (243 kB)\n",
            "Building wheels for collected packages: fasttext\n",
            "  Building wheel for fasttext (pyproject.toml) ... \u001b[?25l\u001b[?25hdone\n",
            "  Created wheel for fasttext: filename=fasttext-0.9.3-cp311-cp311-linux_x86_64.whl size=4313505 sha256=cee03c91ec60ae8779ab5c3c88b3fe5e5d0c29478177cd80a8bf6c43638fb792\n",
            "  Stored in directory: /root/.cache/pip/wheels/65/4f/35/5057db0249224e9ab55a513fa6b79451473ceb7713017823c3\n",
            "Successfully built fasttext\n",
            "Installing collected packages: pybind11, fasttext\n",
            "Successfully installed fasttext-0.9.3 pybind11-2.13.6\n"
          ]
        }
      ]
    },
    {
      "cell_type": "code",
      "source": [
        "import fasttext\n",
        "\n",
        "# binary 모델 로드\n",
        "fasttext_model = fasttext.load_model('cc.ko.300.bin')"
      ],
      "metadata": {
        "id": "1PG4DC14k1X0"
      },
      "execution_count": null,
      "outputs": []
    },
    {
      "cell_type": "code",
      "source": [
        "vocab_mecab=tokenizer.word_index.keys()"
      ],
      "metadata": {
        "id": "2VvC8TI6n7su"
      },
      "execution_count": null,
      "outputs": []
    },
    {
      "cell_type": "code",
      "source": [
        "vocab_tokens = ['<PAD>'] + list(tokenizer.word_index.keys())"
      ],
      "metadata": {
        "id": "SAdEHMLxo0Fz"
      },
      "execution_count": null,
      "outputs": []
    },
    {
      "cell_type": "code",
      "source": [
        "tokenizer.word_index['<OOV>']"
      ],
      "metadata": {
        "colab": {
          "base_uri": "https://localhost:8080/"
        },
        "id": "yuEVgOdFoRS9",
        "outputId": "1445c073-094a-4c7a-ab8d-2c56a29292a8"
      },
      "execution_count": null,
      "outputs": [
        {
          "output_type": "execute_result",
          "data": {
            "text/plain": [
              "1"
            ]
          },
          "metadata": {},
          "execution_count": 527
        }
      ]
    },
    {
      "cell_type": "code",
      "source": [
        "embedding_dim = fasttext_model.get_dimension()  # fastText vector dimension\n",
        "vocab_size = len(vocab_tokens)\n",
        "\n",
        "embedding_matrix = np.zeros((vocab_size, embedding_dim))\n",
        "\n",
        "for i, token in enumerate(vocab_tokens):\n",
        "    if token == '<PAD>':\n",
        "        embedding_matrix[i] = np.zeros(embedding_dim)  # padding은 zero vector\n",
        "    elif token == '<OOV>':\n",
        "        embedding_matrix[i] = np.random.normal(0, 1, embedding_dim)  # oov는 random init or 지정\n",
        "    else:\n",
        "        embedding_matrix[i] = fasttext_model.get_word_vector(token)"
      ],
      "metadata": {
        "id": "MBCgmW8tn47B"
      },
      "execution_count": null,
      "outputs": []
    },
    {
      "cell_type": "code",
      "source": [
        "embedding_matrix.shape"
      ],
      "metadata": {
        "colab": {
          "base_uri": "https://localhost:8080/"
        },
        "id": "RofTt-aApJlm",
        "outputId": "978b14b9-d0e7-45da-c5e4-f468cca4f882"
      },
      "execution_count": null,
      "outputs": [
        {
          "output_type": "execute_result",
          "data": {
            "text/plain": [
              "(18015, 300)"
            ]
          },
          "metadata": {},
          "execution_count": 532
        }
      ]
    },
    {
      "cell_type": "code",
      "source": [
        "from tensorflow.keras.layers import Input, Embedding, Bidirectional, LSTM, Dense, Dropout\n",
        "from tensorflow.keras.models import Model\n",
        "from tensorflow.keras.optimizers import Adam\n",
        "\n",
        "lr = 2e-4\n",
        "\n",
        "vocab_size = 18015\n",
        "lstm_units = 64\n",
        "\n",
        "input_ = Input(shape=(None,), name='input')\n",
        "embedding_layer = Embedding(\n",
        "    input_dim=embedding_matrix.shape[0],\n",
        "    output_dim=embedding_matrix.shape[1],\n",
        "    weights=[embedding_matrix],\n",
        "    trainable=True,\n",
        "    mask_zero=True\n",
        ")\n",
        "\n",
        "x = embedding_layer(input_)\n",
        "x = Dropout(0.2)(x)\n",
        "\n",
        "# x = LSTM(lstm_units, return_sequences=True)(x)\n",
        "# x = LSTM(lstm_units, return_sequences=False)(x)\n",
        "\n",
        "#x = Bidirectional(LSTM(lstm_units, return_sequences=True))(x)\n",
        "x = Bidirectional(LSTM(lstm_units, return_sequences=False))(x)\n",
        "\n",
        "x = Dropout(0.3)(x)\n",
        "x = Dense(128, activation='relu')(x)\n",
        "x = Dropout(0.3)(x)\n",
        "output = Dense(1, activation='sigmoid')(x)\n",
        "\n",
        "model3 = Model(inputs=input_, outputs=output)\n",
        "\n",
        "model3.compile(optimizer=Adam(learning_rate=lr), loss='binary_crossentropy', metrics=['accuracy'])\n",
        "model3.summary()"
      ],
      "metadata": {
        "colab": {
          "base_uri": "https://localhost:8080/",
          "height": 544
        },
        "id": "T-UJIEaapeqe",
        "outputId": "3b9982ed-0da2-43f4-faa6-dce1eafc67a9"
      },
      "execution_count": null,
      "outputs": [
        {
          "output_type": "display_data",
          "data": {
            "text/plain": [
              "\u001b[1mModel: \"functional_46\"\u001b[0m\n"
            ],
            "text/html": [
              "<pre style=\"white-space:pre;overflow-x:auto;line-height:normal;font-family:Menlo,'DejaVu Sans Mono',consolas,'Courier New',monospace\"><span style=\"font-weight: bold\">Model: \"functional_46\"</span>\n",
              "</pre>\n"
            ]
          },
          "metadata": {}
        },
        {
          "output_type": "display_data",
          "data": {
            "text/plain": [
              "┏━━━━━━━━━━━━━━━━━━━━━┳━━━━━━━━━━━━━━━━━━━┳━━━━━━━━━━━━┳━━━━━━━━━━━━━━━━━━━┓\n",
              "┃\u001b[1m \u001b[0m\u001b[1mLayer (type)       \u001b[0m\u001b[1m \u001b[0m┃\u001b[1m \u001b[0m\u001b[1mOutput Shape     \u001b[0m\u001b[1m \u001b[0m┃\u001b[1m \u001b[0m\u001b[1m   Param #\u001b[0m\u001b[1m \u001b[0m┃\u001b[1m \u001b[0m\u001b[1mConnected to     \u001b[0m\u001b[1m \u001b[0m┃\n",
              "┡━━━━━━━━━━━━━━━━━━━━━╇━━━━━━━━━━━━━━━━━━━╇━━━━━━━━━━━━╇━━━━━━━━━━━━━━━━━━━┩\n",
              "│ input (\u001b[38;5;33mInputLayer\u001b[0m)  │ (\u001b[38;5;45mNone\u001b[0m, \u001b[38;5;45mNone\u001b[0m)      │          \u001b[38;5;34m0\u001b[0m │ -                 │\n",
              "├─────────────────────┼───────────────────┼────────────┼───────────────────┤\n",
              "│ embedding_48        │ (\u001b[38;5;45mNone\u001b[0m, \u001b[38;5;45mNone\u001b[0m, \u001b[38;5;34m300\u001b[0m) │  \u001b[38;5;34m5,404,500\u001b[0m │ input[\u001b[38;5;34m0\u001b[0m][\u001b[38;5;34m0\u001b[0m]       │\n",
              "│ (\u001b[38;5;33mEmbedding\u001b[0m)         │                   │            │                   │\n",
              "├─────────────────────┼───────────────────┼────────────┼───────────────────┤\n",
              "│ dropout_126         │ (\u001b[38;5;45mNone\u001b[0m, \u001b[38;5;45mNone\u001b[0m, \u001b[38;5;34m300\u001b[0m) │          \u001b[38;5;34m0\u001b[0m │ embedding_48[\u001b[38;5;34m0\u001b[0m][\u001b[38;5;34m…\u001b[0m │\n",
              "│ (\u001b[38;5;33mDropout\u001b[0m)           │                   │            │                   │\n",
              "├─────────────────────┼───────────────────┼────────────┼───────────────────┤\n",
              "│ not_equal_46        │ (\u001b[38;5;45mNone\u001b[0m, \u001b[38;5;45mNone\u001b[0m)      │          \u001b[38;5;34m0\u001b[0m │ input[\u001b[38;5;34m0\u001b[0m][\u001b[38;5;34m0\u001b[0m]       │\n",
              "│ (\u001b[38;5;33mNotEqual\u001b[0m)          │                   │            │                   │\n",
              "├─────────────────────┼───────────────────┼────────────┼───────────────────┤\n",
              "│ bidirectional_61    │ (\u001b[38;5;45mNone\u001b[0m, \u001b[38;5;34m128\u001b[0m)       │    \u001b[38;5;34m186,880\u001b[0m │ dropout_126[\u001b[38;5;34m0\u001b[0m][\u001b[38;5;34m0\u001b[0m… │\n",
              "│ (\u001b[38;5;33mBidirectional\u001b[0m)     │                   │            │ not_equal_46[\u001b[38;5;34m0\u001b[0m][\u001b[38;5;34m…\u001b[0m │\n",
              "├─────────────────────┼───────────────────┼────────────┼───────────────────┤\n",
              "│ dropout_127         │ (\u001b[38;5;45mNone\u001b[0m, \u001b[38;5;34m128\u001b[0m)       │          \u001b[38;5;34m0\u001b[0m │ bidirectional_61… │\n",
              "│ (\u001b[38;5;33mDropout\u001b[0m)           │                   │            │                   │\n",
              "├─────────────────────┼───────────────────┼────────────┼───────────────────┤\n",
              "│ dense_93 (\u001b[38;5;33mDense\u001b[0m)    │ (\u001b[38;5;45mNone\u001b[0m, \u001b[38;5;34m128\u001b[0m)       │     \u001b[38;5;34m16,512\u001b[0m │ dropout_127[\u001b[38;5;34m0\u001b[0m][\u001b[38;5;34m0\u001b[0m] │\n",
              "├─────────────────────┼───────────────────┼────────────┼───────────────────┤\n",
              "│ dropout_128         │ (\u001b[38;5;45mNone\u001b[0m, \u001b[38;5;34m128\u001b[0m)       │          \u001b[38;5;34m0\u001b[0m │ dense_93[\u001b[38;5;34m0\u001b[0m][\u001b[38;5;34m0\u001b[0m]    │\n",
              "│ (\u001b[38;5;33mDropout\u001b[0m)           │                   │            │                   │\n",
              "├─────────────────────┼───────────────────┼────────────┼───────────────────┤\n",
              "│ dense_94 (\u001b[38;5;33mDense\u001b[0m)    │ (\u001b[38;5;45mNone\u001b[0m, \u001b[38;5;34m1\u001b[0m)         │        \u001b[38;5;34m129\u001b[0m │ dropout_128[\u001b[38;5;34m0\u001b[0m][\u001b[38;5;34m0\u001b[0m] │\n",
              "└─────────────────────┴───────────────────┴────────────┴───────────────────┘\n"
            ],
            "text/html": [
              "<pre style=\"white-space:pre;overflow-x:auto;line-height:normal;font-family:Menlo,'DejaVu Sans Mono',consolas,'Courier New',monospace\">┏━━━━━━━━━━━━━━━━━━━━━┳━━━━━━━━━━━━━━━━━━━┳━━━━━━━━━━━━┳━━━━━━━━━━━━━━━━━━━┓\n",
              "┃<span style=\"font-weight: bold\"> Layer (type)        </span>┃<span style=\"font-weight: bold\"> Output Shape      </span>┃<span style=\"font-weight: bold\">    Param # </span>┃<span style=\"font-weight: bold\"> Connected to      </span>┃\n",
              "┡━━━━━━━━━━━━━━━━━━━━━╇━━━━━━━━━━━━━━━━━━━╇━━━━━━━━━━━━╇━━━━━━━━━━━━━━━━━━━┩\n",
              "│ input (<span style=\"color: #0087ff; text-decoration-color: #0087ff\">InputLayer</span>)  │ (<span style=\"color: #00d7ff; text-decoration-color: #00d7ff\">None</span>, <span style=\"color: #00d7ff; text-decoration-color: #00d7ff\">None</span>)      │          <span style=\"color: #00af00; text-decoration-color: #00af00\">0</span> │ -                 │\n",
              "├─────────────────────┼───────────────────┼────────────┼───────────────────┤\n",
              "│ embedding_48        │ (<span style=\"color: #00d7ff; text-decoration-color: #00d7ff\">None</span>, <span style=\"color: #00d7ff; text-decoration-color: #00d7ff\">None</span>, <span style=\"color: #00af00; text-decoration-color: #00af00\">300</span>) │  <span style=\"color: #00af00; text-decoration-color: #00af00\">5,404,500</span> │ input[<span style=\"color: #00af00; text-decoration-color: #00af00\">0</span>][<span style=\"color: #00af00; text-decoration-color: #00af00\">0</span>]       │\n",
              "│ (<span style=\"color: #0087ff; text-decoration-color: #0087ff\">Embedding</span>)         │                   │            │                   │\n",
              "├─────────────────────┼───────────────────┼────────────┼───────────────────┤\n",
              "│ dropout_126         │ (<span style=\"color: #00d7ff; text-decoration-color: #00d7ff\">None</span>, <span style=\"color: #00d7ff; text-decoration-color: #00d7ff\">None</span>, <span style=\"color: #00af00; text-decoration-color: #00af00\">300</span>) │          <span style=\"color: #00af00; text-decoration-color: #00af00\">0</span> │ embedding_48[<span style=\"color: #00af00; text-decoration-color: #00af00\">0</span>][<span style=\"color: #00af00; text-decoration-color: #00af00\">…</span> │\n",
              "│ (<span style=\"color: #0087ff; text-decoration-color: #0087ff\">Dropout</span>)           │                   │            │                   │\n",
              "├─────────────────────┼───────────────────┼────────────┼───────────────────┤\n",
              "│ not_equal_46        │ (<span style=\"color: #00d7ff; text-decoration-color: #00d7ff\">None</span>, <span style=\"color: #00d7ff; text-decoration-color: #00d7ff\">None</span>)      │          <span style=\"color: #00af00; text-decoration-color: #00af00\">0</span> │ input[<span style=\"color: #00af00; text-decoration-color: #00af00\">0</span>][<span style=\"color: #00af00; text-decoration-color: #00af00\">0</span>]       │\n",
              "│ (<span style=\"color: #0087ff; text-decoration-color: #0087ff\">NotEqual</span>)          │                   │            │                   │\n",
              "├─────────────────────┼───────────────────┼────────────┼───────────────────┤\n",
              "│ bidirectional_61    │ (<span style=\"color: #00d7ff; text-decoration-color: #00d7ff\">None</span>, <span style=\"color: #00af00; text-decoration-color: #00af00\">128</span>)       │    <span style=\"color: #00af00; text-decoration-color: #00af00\">186,880</span> │ dropout_126[<span style=\"color: #00af00; text-decoration-color: #00af00\">0</span>][<span style=\"color: #00af00; text-decoration-color: #00af00\">0</span>… │\n",
              "│ (<span style=\"color: #0087ff; text-decoration-color: #0087ff\">Bidirectional</span>)     │                   │            │ not_equal_46[<span style=\"color: #00af00; text-decoration-color: #00af00\">0</span>][<span style=\"color: #00af00; text-decoration-color: #00af00\">…</span> │\n",
              "├─────────────────────┼───────────────────┼────────────┼───────────────────┤\n",
              "│ dropout_127         │ (<span style=\"color: #00d7ff; text-decoration-color: #00d7ff\">None</span>, <span style=\"color: #00af00; text-decoration-color: #00af00\">128</span>)       │          <span style=\"color: #00af00; text-decoration-color: #00af00\">0</span> │ bidirectional_61… │\n",
              "│ (<span style=\"color: #0087ff; text-decoration-color: #0087ff\">Dropout</span>)           │                   │            │                   │\n",
              "├─────────────────────┼───────────────────┼────────────┼───────────────────┤\n",
              "│ dense_93 (<span style=\"color: #0087ff; text-decoration-color: #0087ff\">Dense</span>)    │ (<span style=\"color: #00d7ff; text-decoration-color: #00d7ff\">None</span>, <span style=\"color: #00af00; text-decoration-color: #00af00\">128</span>)       │     <span style=\"color: #00af00; text-decoration-color: #00af00\">16,512</span> │ dropout_127[<span style=\"color: #00af00; text-decoration-color: #00af00\">0</span>][<span style=\"color: #00af00; text-decoration-color: #00af00\">0</span>] │\n",
              "├─────────────────────┼───────────────────┼────────────┼───────────────────┤\n",
              "│ dropout_128         │ (<span style=\"color: #00d7ff; text-decoration-color: #00d7ff\">None</span>, <span style=\"color: #00af00; text-decoration-color: #00af00\">128</span>)       │          <span style=\"color: #00af00; text-decoration-color: #00af00\">0</span> │ dense_93[<span style=\"color: #00af00; text-decoration-color: #00af00\">0</span>][<span style=\"color: #00af00; text-decoration-color: #00af00\">0</span>]    │\n",
              "│ (<span style=\"color: #0087ff; text-decoration-color: #0087ff\">Dropout</span>)           │                   │            │                   │\n",
              "├─────────────────────┼───────────────────┼────────────┼───────────────────┤\n",
              "│ dense_94 (<span style=\"color: #0087ff; text-decoration-color: #0087ff\">Dense</span>)    │ (<span style=\"color: #00d7ff; text-decoration-color: #00d7ff\">None</span>, <span style=\"color: #00af00; text-decoration-color: #00af00\">1</span>)         │        <span style=\"color: #00af00; text-decoration-color: #00af00\">129</span> │ dropout_128[<span style=\"color: #00af00; text-decoration-color: #00af00\">0</span>][<span style=\"color: #00af00; text-decoration-color: #00af00\">0</span>] │\n",
              "└─────────────────────┴───────────────────┴────────────┴───────────────────┘\n",
              "</pre>\n"
            ]
          },
          "metadata": {}
        },
        {
          "output_type": "display_data",
          "data": {
            "text/plain": [
              "\u001b[1m Total params: \u001b[0m\u001b[38;5;34m5,608,021\u001b[0m (21.39 MB)\n"
            ],
            "text/html": [
              "<pre style=\"white-space:pre;overflow-x:auto;line-height:normal;font-family:Menlo,'DejaVu Sans Mono',consolas,'Courier New',monospace\"><span style=\"font-weight: bold\"> Total params: </span><span style=\"color: #00af00; text-decoration-color: #00af00\">5,608,021</span> (21.39 MB)\n",
              "</pre>\n"
            ]
          },
          "metadata": {}
        },
        {
          "output_type": "display_data",
          "data": {
            "text/plain": [
              "\u001b[1m Trainable params: \u001b[0m\u001b[38;5;34m5,608,021\u001b[0m (21.39 MB)\n"
            ],
            "text/html": [
              "<pre style=\"white-space:pre;overflow-x:auto;line-height:normal;font-family:Menlo,'DejaVu Sans Mono',consolas,'Courier New',monospace\"><span style=\"font-weight: bold\"> Trainable params: </span><span style=\"color: #00af00; text-decoration-color: #00af00\">5,608,021</span> (21.39 MB)\n",
              "</pre>\n"
            ]
          },
          "metadata": {}
        },
        {
          "output_type": "display_data",
          "data": {
            "text/plain": [
              "\u001b[1m Non-trainable params: \u001b[0m\u001b[38;5;34m0\u001b[0m (0.00 B)\n"
            ],
            "text/html": [
              "<pre style=\"white-space:pre;overflow-x:auto;line-height:normal;font-family:Menlo,'DejaVu Sans Mono',consolas,'Courier New',monospace\"><span style=\"font-weight: bold\"> Non-trainable params: </span><span style=\"color: #00af00; text-decoration-color: #00af00\">0</span> (0.00 B)\n",
              "</pre>\n"
            ]
          },
          "metadata": {}
        }
      ]
    },
    {
      "cell_type": "code",
      "source": [
        "early_stop = EarlyStopping(monitor='val_loss', patience=3, restore_best_weights=True, verbose=1)\n",
        "reduce_lr = ReduceLROnPlateau(monitor='val_loss', factor=0.5, patience=2, verbose=1)"
      ],
      "metadata": {
        "id": "GIPRAFl0qDWb"
      },
      "execution_count": null,
      "outputs": []
    },
    {
      "cell_type": "code",
      "source": [
        "history3 = model3.fit(\n",
        "    train_dataset2,\n",
        "    validation_data=valid_dataset2,\n",
        "    epochs=20,\n",
        "    callbacks=[early_stop, reduce_lr]\n",
        ")"
      ],
      "metadata": {
        "colab": {
          "base_uri": "https://localhost:8080/"
        },
        "id": "vOyNcIQfqGOX",
        "outputId": "2f87e401-ef00-4c86-c245-6283ade96f0f"
      },
      "execution_count": null,
      "outputs": [
        {
          "output_type": "stream",
          "name": "stdout",
          "text": [
            "Epoch 1/20\n",
            "\u001b[1m155/155\u001b[0m \u001b[32m━━━━━━━━━━━━━━━━━━━━\u001b[0m\u001b[37m\u001b[0m \u001b[1m6s\u001b[0m 21ms/step - accuracy: 0.6014 - loss: 0.6637 - val_accuracy: 0.7865 - val_loss: 0.4632 - learning_rate: 2.0000e-04\n",
            "Epoch 2/20\n",
            "\u001b[1m155/155\u001b[0m \u001b[32m━━━━━━━━━━━━━━━━━━━━\u001b[0m\u001b[37m\u001b[0m \u001b[1m3s\u001b[0m 19ms/step - accuracy: 0.8086 - loss: 0.4266 - val_accuracy: 0.8224 - val_loss: 0.3957 - learning_rate: 2.0000e-04\n",
            "Epoch 3/20\n",
            "\u001b[1m155/155\u001b[0m \u001b[32m━━━━━━━━━━━━━━━━━━━━\u001b[0m\u001b[37m\u001b[0m \u001b[1m5s\u001b[0m 19ms/step - accuracy: 0.8551 - loss: 0.3479 - val_accuracy: 0.8283 - val_loss: 0.3793 - learning_rate: 2.0000e-04\n",
            "Epoch 4/20\n",
            "\u001b[1m155/155\u001b[0m \u001b[32m━━━━━━━━━━━━━━━━━━━━\u001b[0m\u001b[37m\u001b[0m \u001b[1m3s\u001b[0m 19ms/step - accuracy: 0.8767 - loss: 0.3041 - val_accuracy: 0.8236 - val_loss: 0.3864 - learning_rate: 2.0000e-04\n",
            "Epoch 5/20\n",
            "\u001b[1m155/155\u001b[0m \u001b[32m━━━━━━━━━━━━━━━━━━━━\u001b[0m\u001b[37m\u001b[0m \u001b[1m0s\u001b[0m 21ms/step - accuracy: 0.8932 - loss: 0.2718\n",
            "Epoch 5: ReduceLROnPlateau reducing learning rate to 9.999999747378752e-05.\n",
            "\u001b[1m155/155\u001b[0m \u001b[32m━━━━━━━━━━━━━━━━━━━━\u001b[0m\u001b[37m\u001b[0m \u001b[1m6s\u001b[0m 23ms/step - accuracy: 0.8932 - loss: 0.2717 - val_accuracy: 0.8254 - val_loss: 0.3895 - learning_rate: 2.0000e-04\n",
            "Epoch 6/20\n",
            "\u001b[1m155/155\u001b[0m \u001b[32m━━━━━━━━━━━━━━━━━━━━\u001b[0m\u001b[37m\u001b[0m \u001b[1m3s\u001b[0m 18ms/step - accuracy: 0.9141 - loss: 0.2343 - val_accuracy: 0.8240 - val_loss: 0.4056 - learning_rate: 1.0000e-04\n",
            "Epoch 6: early stopping\n",
            "Restoring model weights from the end of the best epoch: 3.\n"
          ]
        }
      ]
    },
    {
      "cell_type": "code",
      "source": [
        "model3.evaluate(test_dataset2) # embedding trainable false"
      ],
      "metadata": {
        "colab": {
          "base_uri": "https://localhost:8080/"
        },
        "id": "N9VAxpvOqJcp",
        "outputId": "b849fc12-e5c1-468b-b5a5-797979c7a045"
      },
      "execution_count": null,
      "outputs": [
        {
          "output_type": "stream",
          "name": "stdout",
          "text": [
            "\u001b[1m65/65\u001b[0m \u001b[32m━━━━━━━━━━━━━━━━━━━━\u001b[0m\u001b[37m\u001b[0m \u001b[1m0s\u001b[0m 7ms/step - accuracy: 0.7713 - loss: 0.4761\n"
          ]
        },
        {
          "output_type": "execute_result",
          "data": {
            "text/plain": [
              "[0.47900551557540894, 0.7685859799385071]"
            ]
          },
          "metadata": {},
          "execution_count": 538
        }
      ]
    },
    {
      "cell_type": "code",
      "source": [
        "model3.evaluate(test_dataset2) # embedding trainable true, 성능차이 크지 않음"
      ],
      "metadata": {
        "colab": {
          "base_uri": "https://localhost:8080/"
        },
        "id": "2Azn4aG7rVCq",
        "outputId": "de49a1d7-9945-47b1-fe91-0f5976902c19"
      },
      "execution_count": null,
      "outputs": [
        {
          "output_type": "stream",
          "name": "stdout",
          "text": [
            "\u001b[1m65/65\u001b[0m \u001b[32m━━━━━━━━━━━━━━━━━━━━\u001b[0m\u001b[37m\u001b[0m \u001b[1m0s\u001b[0m 7ms/step - accuracy: 0.8248 - loss: 0.3883\n"
          ]
        },
        {
          "output_type": "execute_result",
          "data": {
            "text/plain": [
              "[0.3947245478630066, 0.8219144940376282]"
            ]
          },
          "metadata": {},
          "execution_count": 566
        }
      ]
    }
  ]
}